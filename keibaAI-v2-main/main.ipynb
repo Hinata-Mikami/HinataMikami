{
 "cells": [
  {
   "cell_type": "markdown",
   "metadata": {},
   "source": [
    "# 1. モジュールインポート"
   ]
  },
  {
   "cell_type": "code",
   "execution_count": 3,
   "metadata": {},
   "outputs": [],
   "source": [
    "import pandas as pd\n",
    "import glob\n",
    "import os\n",
    "import datetime\n",
    "from tqdm.auto import tqdm\n",
    "from modules.constants import Master\n",
    "from modules.constants import LocalPaths\n",
    "from modules.constants import HorseResultsCols\n",
    "from modules.constants import ResultsCols\n",
    "from modules import preparing\n",
    "from modules import preprocessing\n",
    "from modules import training\n",
    "from modules import simulation\n",
    "from modules import policies\n",
    "%load_ext autoreload"
   ]
  },
  {
   "cell_type": "markdown",
   "metadata": {},
   "source": [
    "標準的な土日競馬開催時の運用スケジュールを以下の表の通り。\n",
    "\n",
    "|曜日|時刻|内容|実行する main.ipynb の項番|備考|\n",
    "|:-:|:--|:--|:--|:--|\n",
    "|月|||||\n",
    "|火|||||\n",
    "|水|16:30過ぎ|先週土日の馬の過去成績ページ確定<BR>（netkeiba.comﾌﾟﾚﾐｱｻｰﾋﾞｽのﾀｲﾑ指数・ﾚｰｽ分析・注目馬 ﾚｰｽ後の短評情報確定）|2. データ取得 ～ 5. シミュレーション|3日間開催の場合も、水曜日|\n",
    "|木|||||\n",
    "|金|10:05過ぎ<BR>19:25過ぎ|土曜の出馬表確定<BR>土曜の天候・馬場状態更新|6.1. 前日準備 ～ 6.2. 前日全レース予想（天候・馬場状態は手動設定）<BR>6.1. 前日準備 ～ 6.2. 前日全レース予想||\n",
    "|土|09:00～17:00<BR>10:05過ぎ<BR>19:25過ぎ| レース時刻<BR>日曜の出馬表確定<BR>日曜の天候・馬場状態更新|6.3. レース直前データ処理（当日レース予想）<BR>6.1. 前日準備 ～ 6.2. 前日全レース予想（天候・馬場状態は手動設定）<BR>6.1. 前日準備 ～ 6.2. 前日全レース予想||\n",
    "|日|09:00～17:00|レース時刻|6.3. レース直前データ処理（当日レース予想）||"
   ]
  },
  {
   "cell_type": "markdown",
   "metadata": {},
   "source": [
    "# 2. データ取得"
   ]
  },
  {
   "cell_type": "markdown",
   "metadata": {},
   "source": [
    "## 2.1. レースID取得\n",
    "例として、2020年のレースデータを取得する場合を考える"
   ]
  },
  {
   "cell_type": "code",
   "execution_count": 4,
   "metadata": {},
   "outputs": [],
   "source": [
    "%autoreload"
   ]
  },
  {
   "cell_type": "code",
   "execution_count": 7,
   "metadata": {},
   "outputs": [
    {
     "name": "stdout",
     "output_type": "stream",
     "text": [
      "getting race date from 2010-01-01 to 2024-05-22\n"
     ]
    },
    {
     "data": {
      "application/vnd.jupyter.widget-view+json": {
       "model_id": "a630d77526c14e578ce8f3b393cf7305",
       "version_major": 2,
       "version_minor": 0
      },
      "text/plain": [
       "  0%|          | 0/172 [00:00<?, ?it/s]"
      ]
     },
     "metadata": {},
     "output_type": "display_data"
    },
    {
     "data": {
      "text/plain": [
       "1551"
      ]
     },
     "execution_count": 7,
     "metadata": {},
     "output_type": "execute_result"
    }
   ],
   "source": [
    "#開催日取得。to_の月は含まないので注意。\n",
    "kaisai_date_2020 = preparing.scrape_kaisai_date(from_=\"2010-01-01\", to_=\"2024-05-22\")\n",
    "len(kaisai_date_2020)"
   ]
  },
  {
   "cell_type": "code",
   "execution_count": 8,
   "metadata": {},
   "outputs": [
    {
     "name": "stdout",
     "output_type": "stream",
     "text": [
      "getting race_id_list\n"
     ]
    },
    {
     "data": {
      "application/vnd.jupyter.widget-view+json": {
       "model_id": "e1d57d513a92474ea5b944b2e8c71d4e",
       "version_major": 2,
       "version_minor": 0
      },
      "text/plain": [
       "  0%|          | 0/1551 [00:00<?, ?it/s]"
      ]
     },
     "metadata": {},
     "output_type": "display_data"
    },
    {
     "name": "stdout",
     "output_type": "stream",
     "text": [
      "scraping: https://race.netkeiba.com/top/race_list.html?kaisai_date=20100105\n",
      "scraping: https://race.netkeiba.com/top/race_list.html?kaisai_date=20100109\n",
      "scraping: https://race.netkeiba.com/top/race_list.html?kaisai_date=20100110\n",
      "scraping: https://race.netkeiba.com/top/race_list.html?kaisai_date=20100111\n",
      "scraping: https://race.netkeiba.com/top/race_list.html?kaisai_date=20100116\n",
      "scraping: https://race.netkeiba.com/top/race_list.html?kaisai_date=20100117\n",
      "scraping: https://race.netkeiba.com/top/race_list.html?kaisai_date=20100123\n",
      "scraping: https://race.netkeiba.com/top/race_list.html?kaisai_date=20100124\n",
      "scraping: https://race.netkeiba.com/top/race_list.html?kaisai_date=20100130\n",
      "scraping: https://race.netkeiba.com/top/race_list.html?kaisai_date=20100131\n",
      "scraping: https://race.netkeiba.com/top/race_list.html?kaisai_date=20100206\n",
      "scraping: https://race.netkeiba.com/top/race_list.html?kaisai_date=20100207\n",
      "scraping: https://race.netkeiba.com/top/race_list.html?kaisai_date=20100213\n",
      "scraping: https://race.netkeiba.com/top/race_list.html?kaisai_date=20100214\n",
      "scraping: https://race.netkeiba.com/top/race_list.html?kaisai_date=20100220\n",
      "scraping: https://race.netkeiba.com/top/race_list.html?kaisai_date=20100221\n",
      "scraping: https://race.netkeiba.com/top/race_list.html?kaisai_date=20100227\n",
      "scraping: https://race.netkeiba.com/top/race_list.html?kaisai_date=20100228\n",
      "scraping: https://race.netkeiba.com/top/race_list.html?kaisai_date=20100306\n",
      "scraping: https://race.netkeiba.com/top/race_list.html?kaisai_date=20100307\n",
      "scraping: https://race.netkeiba.com/top/race_list.html?kaisai_date=20100313\n",
      "scraping: https://race.netkeiba.com/top/race_list.html?kaisai_date=20100314\n",
      "scraping: https://race.netkeiba.com/top/race_list.html?kaisai_date=20100320\n",
      "scraping: https://race.netkeiba.com/top/race_list.html?kaisai_date=20100321\n",
      "scraping: https://race.netkeiba.com/top/race_list.html?kaisai_date=20100327\n",
      "scraping: https://race.netkeiba.com/top/race_list.html?kaisai_date=20100328\n",
      "scraping: https://race.netkeiba.com/top/race_list.html?kaisai_date=20100403\n",
      "scraping: https://race.netkeiba.com/top/race_list.html?kaisai_date=20100404\n",
      "scraping: https://race.netkeiba.com/top/race_list.html?kaisai_date=20100410\n",
      "scraping: https://race.netkeiba.com/top/race_list.html?kaisai_date=20100411\n",
      "scraping: https://race.netkeiba.com/top/race_list.html?kaisai_date=20100417\n",
      "scraping: https://race.netkeiba.com/top/race_list.html?kaisai_date=20100418\n",
      "scraping: https://race.netkeiba.com/top/race_list.html?kaisai_date=20100419\n",
      "scraping: https://race.netkeiba.com/top/race_list.html?kaisai_date=20100424\n",
      "scraping: https://race.netkeiba.com/top/race_list.html?kaisai_date=20100425\n",
      "scraping: https://race.netkeiba.com/top/race_list.html?kaisai_date=20100501\n",
      "scraping: https://race.netkeiba.com/top/race_list.html?kaisai_date=20100502\n",
      "scraping: https://race.netkeiba.com/top/race_list.html?kaisai_date=20100508\n",
      "scraping: https://race.netkeiba.com/top/race_list.html?kaisai_date=20100509\n",
      "scraping: https://race.netkeiba.com/top/race_list.html?kaisai_date=20100515\n",
      "scraping: https://race.netkeiba.com/top/race_list.html?kaisai_date=20100516\n",
      "scraping: https://race.netkeiba.com/top/race_list.html?kaisai_date=20100522\n",
      "scraping: https://race.netkeiba.com/top/race_list.html?kaisai_date=20100523\n",
      "scraping: https://race.netkeiba.com/top/race_list.html?kaisai_date=20100529\n",
      "scraping: https://race.netkeiba.com/top/race_list.html?kaisai_date=20100530\n",
      "scraping: https://race.netkeiba.com/top/race_list.html?kaisai_date=20100605\n",
      "scraping: https://race.netkeiba.com/top/race_list.html?kaisai_date=20100606\n",
      "scraping: https://race.netkeiba.com/top/race_list.html?kaisai_date=20100612\n",
      "scraping: https://race.netkeiba.com/top/race_list.html?kaisai_date=20100613\n",
      "scraping: https://race.netkeiba.com/top/race_list.html?kaisai_date=20100619\n",
      "scraping: https://race.netkeiba.com/top/race_list.html?kaisai_date=20100620\n",
      "scraping: https://race.netkeiba.com/top/race_list.html?kaisai_date=20100626\n",
      "scraping: https://race.netkeiba.com/top/race_list.html?kaisai_date=20100627\n",
      "scraping: https://race.netkeiba.com/top/race_list.html?kaisai_date=20100703\n",
      "scraping: https://race.netkeiba.com/top/race_list.html?kaisai_date=20100704\n",
      "scraping: https://race.netkeiba.com/top/race_list.html?kaisai_date=20100710\n",
      "scraping: https://race.netkeiba.com/top/race_list.html?kaisai_date=20100711\n",
      "scraping: https://race.netkeiba.com/top/race_list.html?kaisai_date=20100717\n",
      "scraping: https://race.netkeiba.com/top/race_list.html?kaisai_date=20100718\n",
      "scraping: https://race.netkeiba.com/top/race_list.html?kaisai_date=20100724\n",
      "scraping: https://race.netkeiba.com/top/race_list.html?kaisai_date=20100725\n",
      "scraping: https://race.netkeiba.com/top/race_list.html?kaisai_date=20100731\n",
      "scraping: https://race.netkeiba.com/top/race_list.html?kaisai_date=20100801\n",
      "scraping: https://race.netkeiba.com/top/race_list.html?kaisai_date=20100807\n",
      "scraping: https://race.netkeiba.com/top/race_list.html?kaisai_date=20100808\n",
      "scraping: https://race.netkeiba.com/top/race_list.html?kaisai_date=20100814\n",
      "scraping: https://race.netkeiba.com/top/race_list.html?kaisai_date=20100815\n",
      "scraping: https://race.netkeiba.com/top/race_list.html?kaisai_date=20100821\n",
      "scraping: https://race.netkeiba.com/top/race_list.html?kaisai_date=20100822\n",
      "scraping: https://race.netkeiba.com/top/race_list.html?kaisai_date=20100828\n",
      "scraping: https://race.netkeiba.com/top/race_list.html?kaisai_date=20100829\n",
      "scraping: https://race.netkeiba.com/top/race_list.html?kaisai_date=20100904\n",
      "scraping: https://race.netkeiba.com/top/race_list.html?kaisai_date=20100905\n",
      "scraping: https://race.netkeiba.com/top/race_list.html?kaisai_date=20100911\n",
      "scraping: https://race.netkeiba.com/top/race_list.html?kaisai_date=20100912\n",
      "scraping: https://race.netkeiba.com/top/race_list.html?kaisai_date=20100918\n",
      "scraping: https://race.netkeiba.com/top/race_list.html?kaisai_date=20100919\n",
      "scraping: https://race.netkeiba.com/top/race_list.html?kaisai_date=20100920\n",
      "scraping: https://race.netkeiba.com/top/race_list.html?kaisai_date=20100925\n",
      "scraping: https://race.netkeiba.com/top/race_list.html?kaisai_date=20100926\n",
      "scraping: https://race.netkeiba.com/top/race_list.html?kaisai_date=20101002\n",
      "scraping: https://race.netkeiba.com/top/race_list.html?kaisai_date=20101003\n",
      "scraping: https://race.netkeiba.com/top/race_list.html?kaisai_date=20101009\n",
      "scraping: https://race.netkeiba.com/top/race_list.html?kaisai_date=20101010\n",
      "scraping: https://race.netkeiba.com/top/race_list.html?kaisai_date=20101016\n",
      "scraping: https://race.netkeiba.com/top/race_list.html?kaisai_date=20101017\n",
      "scraping: https://race.netkeiba.com/top/race_list.html?kaisai_date=20101023\n",
      "scraping: https://race.netkeiba.com/top/race_list.html?kaisai_date=20101024\n",
      "scraping: https://race.netkeiba.com/top/race_list.html?kaisai_date=20101030\n",
      "scraping: https://race.netkeiba.com/top/race_list.html?kaisai_date=20101031\n",
      "scraping: https://race.netkeiba.com/top/race_list.html?kaisai_date=20101101\n",
      "scraping: https://race.netkeiba.com/top/race_list.html?kaisai_date=20101106\n",
      "scraping: https://race.netkeiba.com/top/race_list.html?kaisai_date=20101107\n",
      "scraping: https://race.netkeiba.com/top/race_list.html?kaisai_date=20101113\n",
      "scraping: https://race.netkeiba.com/top/race_list.html?kaisai_date=20101114\n",
      "scraping: https://race.netkeiba.com/top/race_list.html?kaisai_date=20101120\n",
      "scraping: https://race.netkeiba.com/top/race_list.html?kaisai_date=20101121\n",
      "scraping: https://race.netkeiba.com/top/race_list.html?kaisai_date=20101127\n",
      "scraping: https://race.netkeiba.com/top/race_list.html?kaisai_date=20101128\n",
      "scraping: https://race.netkeiba.com/top/race_list.html?kaisai_date=20101204\n",
      "scraping: https://race.netkeiba.com/top/race_list.html?kaisai_date=20101205\n",
      "scraping: https://race.netkeiba.com/top/race_list.html?kaisai_date=20101211\n",
      "scraping: https://race.netkeiba.com/top/race_list.html?kaisai_date=20101212\n",
      "scraping: https://race.netkeiba.com/top/race_list.html?kaisai_date=20101218\n",
      "scraping: https://race.netkeiba.com/top/race_list.html?kaisai_date=20101219\n",
      "scraping: https://race.netkeiba.com/top/race_list.html?kaisai_date=20101225\n",
      "scraping: https://race.netkeiba.com/top/race_list.html?kaisai_date=20101226\n",
      "scraping: https://race.netkeiba.com/top/race_list.html?kaisai_date=20110105\n",
      "scraping: https://race.netkeiba.com/top/race_list.html?kaisai_date=20110108\n",
      "scraping: https://race.netkeiba.com/top/race_list.html?kaisai_date=20110109\n",
      "scraping: https://race.netkeiba.com/top/race_list.html?kaisai_date=20110110\n",
      "scraping: https://race.netkeiba.com/top/race_list.html?kaisai_date=20110115\n",
      "scraping: https://race.netkeiba.com/top/race_list.html?kaisai_date=20110116\n",
      "scraping: https://race.netkeiba.com/top/race_list.html?kaisai_date=20110122\n",
      "scraping: https://race.netkeiba.com/top/race_list.html?kaisai_date=20110123\n",
      "scraping: https://race.netkeiba.com/top/race_list.html?kaisai_date=20110129\n",
      "scraping: https://race.netkeiba.com/top/race_list.html?kaisai_date=20110130\n",
      "scraping: https://race.netkeiba.com/top/race_list.html?kaisai_date=20110205\n",
      "scraping: https://race.netkeiba.com/top/race_list.html?kaisai_date=20110206\n",
      "scraping: https://race.netkeiba.com/top/race_list.html?kaisai_date=20110212\n",
      "scraping: https://race.netkeiba.com/top/race_list.html?kaisai_date=20110213\n",
      "scraping: https://race.netkeiba.com/top/race_list.html?kaisai_date=20110214\n",
      "scraping: https://race.netkeiba.com/top/race_list.html?kaisai_date=20110219\n",
      "scraping: https://race.netkeiba.com/top/race_list.html?kaisai_date=20110220\n",
      "scraping: https://race.netkeiba.com/top/race_list.html?kaisai_date=20110226\n",
      "scraping: https://race.netkeiba.com/top/race_list.html?kaisai_date=20110227\n",
      "scraping: https://race.netkeiba.com/top/race_list.html?kaisai_date=20110305\n",
      "scraping: https://race.netkeiba.com/top/race_list.html?kaisai_date=20110306\n",
      "scraping: https://race.netkeiba.com/top/race_list.html?kaisai_date=20110319\n",
      "scraping: https://race.netkeiba.com/top/race_list.html?kaisai_date=20110320\n",
      "scraping: https://race.netkeiba.com/top/race_list.html?kaisai_date=20110321\n",
      "scraping: https://race.netkeiba.com/top/race_list.html?kaisai_date=20110326\n",
      "scraping: https://race.netkeiba.com/top/race_list.html?kaisai_date=20110327\n",
      "scraping: https://race.netkeiba.com/top/race_list.html?kaisai_date=20110402\n",
      "scraping: https://race.netkeiba.com/top/race_list.html?kaisai_date=20110403\n",
      "scraping: https://race.netkeiba.com/top/race_list.html?kaisai_date=20110409\n",
      "scraping: https://race.netkeiba.com/top/race_list.html?kaisai_date=20110410\n",
      "scraping: https://race.netkeiba.com/top/race_list.html?kaisai_date=20110416\n",
      "scraping: https://race.netkeiba.com/top/race_list.html?kaisai_date=20110417\n",
      "scraping: https://race.netkeiba.com/top/race_list.html?kaisai_date=20110423\n",
      "scraping: https://race.netkeiba.com/top/race_list.html?kaisai_date=20110424\n",
      "scraping: https://race.netkeiba.com/top/race_list.html?kaisai_date=20110430\n",
      "scraping: https://race.netkeiba.com/top/race_list.html?kaisai_date=20110501\n",
      "scraping: https://race.netkeiba.com/top/race_list.html?kaisai_date=20110507\n",
      "scraping: https://race.netkeiba.com/top/race_list.html?kaisai_date=20110508\n",
      "scraping: https://race.netkeiba.com/top/race_list.html?kaisai_date=20110514\n",
      "scraping: https://race.netkeiba.com/top/race_list.html?kaisai_date=20110515\n",
      "scraping: https://race.netkeiba.com/top/race_list.html?kaisai_date=20110521\n",
      "scraping: https://race.netkeiba.com/top/race_list.html?kaisai_date=20110522\n",
      "scraping: https://race.netkeiba.com/top/race_list.html?kaisai_date=20110528\n",
      "scraping: https://race.netkeiba.com/top/race_list.html?kaisai_date=20110529\n",
      "scraping: https://race.netkeiba.com/top/race_list.html?kaisai_date=20110604\n",
      "scraping: https://race.netkeiba.com/top/race_list.html?kaisai_date=20110605\n",
      "scraping: https://race.netkeiba.com/top/race_list.html?kaisai_date=20110611\n",
      "scraping: https://race.netkeiba.com/top/race_list.html?kaisai_date=20110612\n",
      "scraping: https://race.netkeiba.com/top/race_list.html?kaisai_date=20110618\n",
      "scraping: https://race.netkeiba.com/top/race_list.html?kaisai_date=20110619\n",
      "scraping: https://race.netkeiba.com/top/race_list.html?kaisai_date=20110625\n",
      "scraping: https://race.netkeiba.com/top/race_list.html?kaisai_date=20110626\n",
      "scraping: https://race.netkeiba.com/top/race_list.html?kaisai_date=20110702\n",
      "scraping: https://race.netkeiba.com/top/race_list.html?kaisai_date=20110703\n",
      "scraping: https://race.netkeiba.com/top/race_list.html?kaisai_date=20110709\n",
      "scraping: https://race.netkeiba.com/top/race_list.html?kaisai_date=20110710\n",
      "scraping: https://race.netkeiba.com/top/race_list.html?kaisai_date=20110716\n",
      "scraping: https://race.netkeiba.com/top/race_list.html?kaisai_date=20110717\n",
      "scraping: https://race.netkeiba.com/top/race_list.html?kaisai_date=20110723\n",
      "scraping: https://race.netkeiba.com/top/race_list.html?kaisai_date=20110724\n",
      "scraping: https://race.netkeiba.com/top/race_list.html?kaisai_date=20110730\n",
      "scraping: https://race.netkeiba.com/top/race_list.html?kaisai_date=20110731\n",
      "scraping: https://race.netkeiba.com/top/race_list.html?kaisai_date=20110806\n",
      "scraping: https://race.netkeiba.com/top/race_list.html?kaisai_date=20110807\n",
      "scraping: https://race.netkeiba.com/top/race_list.html?kaisai_date=20110813\n",
      "scraping: https://race.netkeiba.com/top/race_list.html?kaisai_date=20110814\n",
      "scraping: https://race.netkeiba.com/top/race_list.html?kaisai_date=20110820\n",
      "scraping: https://race.netkeiba.com/top/race_list.html?kaisai_date=20110821\n",
      "scraping: https://race.netkeiba.com/top/race_list.html?kaisai_date=20110827\n",
      "scraping: https://race.netkeiba.com/top/race_list.html?kaisai_date=20110828\n",
      "scraping: https://race.netkeiba.com/top/race_list.html?kaisai_date=20110903\n",
      "scraping: https://race.netkeiba.com/top/race_list.html?kaisai_date=20110904\n",
      "scraping: https://race.netkeiba.com/top/race_list.html?kaisai_date=20110910\n",
      "scraping: https://race.netkeiba.com/top/race_list.html?kaisai_date=20110911\n",
      "scraping: https://race.netkeiba.com/top/race_list.html?kaisai_date=20110917\n",
      "scraping: https://race.netkeiba.com/top/race_list.html?kaisai_date=20110918\n",
      "scraping: https://race.netkeiba.com/top/race_list.html?kaisai_date=20110919\n",
      "scraping: https://race.netkeiba.com/top/race_list.html?kaisai_date=20110924\n",
      "scraping: https://race.netkeiba.com/top/race_list.html?kaisai_date=20110925\n",
      "scraping: https://race.netkeiba.com/top/race_list.html?kaisai_date=20111001\n",
      "scraping: https://race.netkeiba.com/top/race_list.html?kaisai_date=20111002\n",
      "scraping: https://race.netkeiba.com/top/race_list.html?kaisai_date=20111008\n",
      "scraping: https://race.netkeiba.com/top/race_list.html?kaisai_date=20111009\n",
      "scraping: https://race.netkeiba.com/top/race_list.html?kaisai_date=20111010\n",
      "scraping: https://race.netkeiba.com/top/race_list.html?kaisai_date=20111015\n",
      "scraping: https://race.netkeiba.com/top/race_list.html?kaisai_date=20111016\n",
      "scraping: https://race.netkeiba.com/top/race_list.html?kaisai_date=20111022\n",
      "scraping: https://race.netkeiba.com/top/race_list.html?kaisai_date=20111023\n",
      "scraping: https://race.netkeiba.com/top/race_list.html?kaisai_date=20111029\n",
      "scraping: https://race.netkeiba.com/top/race_list.html?kaisai_date=20111030\n",
      "scraping: https://race.netkeiba.com/top/race_list.html?kaisai_date=20111105\n",
      "scraping: https://race.netkeiba.com/top/race_list.html?kaisai_date=20111106\n",
      "scraping: https://race.netkeiba.com/top/race_list.html?kaisai_date=20111112\n",
      "scraping: https://race.netkeiba.com/top/race_list.html?kaisai_date=20111113\n",
      "scraping: https://race.netkeiba.com/top/race_list.html?kaisai_date=20111119\n",
      "scraping: https://race.netkeiba.com/top/race_list.html?kaisai_date=20111120\n",
      "scraping: https://race.netkeiba.com/top/race_list.html?kaisai_date=20111126\n",
      "scraping: https://race.netkeiba.com/top/race_list.html?kaisai_date=20111127\n",
      "scraping: https://race.netkeiba.com/top/race_list.html?kaisai_date=20111203\n",
      "scraping: https://race.netkeiba.com/top/race_list.html?kaisai_date=20111204\n",
      "scraping: https://race.netkeiba.com/top/race_list.html?kaisai_date=20111210\n",
      "scraping: https://race.netkeiba.com/top/race_list.html?kaisai_date=20111211\n",
      "scraping: https://race.netkeiba.com/top/race_list.html?kaisai_date=20111217\n",
      "scraping: https://race.netkeiba.com/top/race_list.html?kaisai_date=20111218\n",
      "scraping: https://race.netkeiba.com/top/race_list.html?kaisai_date=20111224\n",
      "scraping: https://race.netkeiba.com/top/race_list.html?kaisai_date=20111225\n",
      "scraping: https://race.netkeiba.com/top/race_list.html?kaisai_date=20120105\n",
      "scraping: https://race.netkeiba.com/top/race_list.html?kaisai_date=20120108\n",
      "scraping: https://race.netkeiba.com/top/race_list.html?kaisai_date=20120109\n",
      "scraping: https://race.netkeiba.com/top/race_list.html?kaisai_date=20120114\n",
      "scraping: https://race.netkeiba.com/top/race_list.html?kaisai_date=20120115\n",
      "scraping: https://race.netkeiba.com/top/race_list.html?kaisai_date=20120121\n",
      "scraping: https://race.netkeiba.com/top/race_list.html?kaisai_date=20120122\n",
      "scraping: https://race.netkeiba.com/top/race_list.html?kaisai_date=20120128\n",
      "scraping: https://race.netkeiba.com/top/race_list.html?kaisai_date=20120129\n",
      "scraping: https://race.netkeiba.com/top/race_list.html?kaisai_date=20120204\n",
      "scraping: https://race.netkeiba.com/top/race_list.html?kaisai_date=20120205\n",
      "scraping: https://race.netkeiba.com/top/race_list.html?kaisai_date=20120211\n",
      "scraping: https://race.netkeiba.com/top/race_list.html?kaisai_date=20120212\n",
      "scraping: https://race.netkeiba.com/top/race_list.html?kaisai_date=20120218\n",
      "scraping: https://race.netkeiba.com/top/race_list.html?kaisai_date=20120219\n",
      "scraping: https://race.netkeiba.com/top/race_list.html?kaisai_date=20120225\n",
      "scraping: https://race.netkeiba.com/top/race_list.html?kaisai_date=20120226\n",
      "scraping: https://race.netkeiba.com/top/race_list.html?kaisai_date=20120303\n",
      "scraping: https://race.netkeiba.com/top/race_list.html?kaisai_date=20120304\n",
      "scraping: https://race.netkeiba.com/top/race_list.html?kaisai_date=20120310\n",
      "scraping: https://race.netkeiba.com/top/race_list.html?kaisai_date=20120311\n",
      "scraping: https://race.netkeiba.com/top/race_list.html?kaisai_date=20120317\n",
      "scraping: https://race.netkeiba.com/top/race_list.html?kaisai_date=20120318\n",
      "scraping: https://race.netkeiba.com/top/race_list.html?kaisai_date=20120324\n",
      "scraping: https://race.netkeiba.com/top/race_list.html?kaisai_date=20120325\n",
      "scraping: https://race.netkeiba.com/top/race_list.html?kaisai_date=20120331\n",
      "scraping: https://race.netkeiba.com/top/race_list.html?kaisai_date=20120401\n",
      "scraping: https://race.netkeiba.com/top/race_list.html?kaisai_date=20120407\n",
      "scraping: https://race.netkeiba.com/top/race_list.html?kaisai_date=20120408\n",
      "scraping: https://race.netkeiba.com/top/race_list.html?kaisai_date=20120414\n",
      "scraping: https://race.netkeiba.com/top/race_list.html?kaisai_date=20120415\n",
      "scraping: https://race.netkeiba.com/top/race_list.html?kaisai_date=20120421\n",
      "scraping: https://race.netkeiba.com/top/race_list.html?kaisai_date=20120422\n",
      "scraping: https://race.netkeiba.com/top/race_list.html?kaisai_date=20120428\n",
      "scraping: https://race.netkeiba.com/top/race_list.html?kaisai_date=20120429\n",
      "scraping: https://race.netkeiba.com/top/race_list.html?kaisai_date=20120505\n",
      "scraping: https://race.netkeiba.com/top/race_list.html?kaisai_date=20120506\n",
      "scraping: https://race.netkeiba.com/top/race_list.html?kaisai_date=20120512\n",
      "scraping: https://race.netkeiba.com/top/race_list.html?kaisai_date=20120513\n",
      "scraping: https://race.netkeiba.com/top/race_list.html?kaisai_date=20120519\n",
      "scraping: https://race.netkeiba.com/top/race_list.html?kaisai_date=20120520\n",
      "scraping: https://race.netkeiba.com/top/race_list.html?kaisai_date=20120526\n",
      "scraping: https://race.netkeiba.com/top/race_list.html?kaisai_date=20120527\n",
      "scraping: https://race.netkeiba.com/top/race_list.html?kaisai_date=20120602\n",
      "scraping: https://race.netkeiba.com/top/race_list.html?kaisai_date=20120603\n",
      "scraping: https://race.netkeiba.com/top/race_list.html?kaisai_date=20120609\n",
      "scraping: https://race.netkeiba.com/top/race_list.html?kaisai_date=20120610\n",
      "scraping: https://race.netkeiba.com/top/race_list.html?kaisai_date=20120616\n",
      "scraping: https://race.netkeiba.com/top/race_list.html?kaisai_date=20120617\n",
      "scraping: https://race.netkeiba.com/top/race_list.html?kaisai_date=20120623\n",
      "scraping: https://race.netkeiba.com/top/race_list.html?kaisai_date=20120624\n",
      "scraping: https://race.netkeiba.com/top/race_list.html?kaisai_date=20120630\n",
      "scraping: https://race.netkeiba.com/top/race_list.html?kaisai_date=20120701\n",
      "scraping: https://race.netkeiba.com/top/race_list.html?kaisai_date=20120707\n",
      "scraping: https://race.netkeiba.com/top/race_list.html?kaisai_date=20120708\n",
      "scraping: https://race.netkeiba.com/top/race_list.html?kaisai_date=20120714\n",
      "scraping: https://race.netkeiba.com/top/race_list.html?kaisai_date=20120715\n",
      "scraping: https://race.netkeiba.com/top/race_list.html?kaisai_date=20120721\n",
      "scraping: https://race.netkeiba.com/top/race_list.html?kaisai_date=20120722\n",
      "scraping: https://race.netkeiba.com/top/race_list.html?kaisai_date=20120728\n",
      "scraping: https://race.netkeiba.com/top/race_list.html?kaisai_date=20120729\n",
      "scraping: https://race.netkeiba.com/top/race_list.html?kaisai_date=20120804\n",
      "scraping: https://race.netkeiba.com/top/race_list.html?kaisai_date=20120805\n",
      "scraping: https://race.netkeiba.com/top/race_list.html?kaisai_date=20120811\n",
      "scraping: https://race.netkeiba.com/top/race_list.html?kaisai_date=20120812\n",
      "scraping: https://race.netkeiba.com/top/race_list.html?kaisai_date=20120818\n",
      "scraping: https://race.netkeiba.com/top/race_list.html?kaisai_date=20120819\n",
      "scraping: https://race.netkeiba.com/top/race_list.html?kaisai_date=20120825\n",
      "scraping: https://race.netkeiba.com/top/race_list.html?kaisai_date=20120826\n",
      "scraping: https://race.netkeiba.com/top/race_list.html?kaisai_date=20120901\n",
      "scraping: https://race.netkeiba.com/top/race_list.html?kaisai_date=20120902\n",
      "scraping: https://race.netkeiba.com/top/race_list.html?kaisai_date=20120908\n",
      "scraping: https://race.netkeiba.com/top/race_list.html?kaisai_date=20120909\n",
      "scraping: https://race.netkeiba.com/top/race_list.html?kaisai_date=20120915\n",
      "scraping: https://race.netkeiba.com/top/race_list.html?kaisai_date=20120916\n",
      "scraping: https://race.netkeiba.com/top/race_list.html?kaisai_date=20120917\n",
      "scraping: https://race.netkeiba.com/top/race_list.html?kaisai_date=20120922\n",
      "scraping: https://race.netkeiba.com/top/race_list.html?kaisai_date=20120923\n",
      "scraping: https://race.netkeiba.com/top/race_list.html?kaisai_date=20120929\n",
      "scraping: https://race.netkeiba.com/top/race_list.html?kaisai_date=20120930\n",
      "scraping: https://race.netkeiba.com/top/race_list.html?kaisai_date=20121001\n",
      "scraping: https://race.netkeiba.com/top/race_list.html?kaisai_date=20121006\n",
      "scraping: https://race.netkeiba.com/top/race_list.html?kaisai_date=20121007\n",
      "scraping: https://race.netkeiba.com/top/race_list.html?kaisai_date=20121008\n",
      "scraping: https://race.netkeiba.com/top/race_list.html?kaisai_date=20121013\n",
      "scraping: https://race.netkeiba.com/top/race_list.html?kaisai_date=20121014\n",
      "scraping: https://race.netkeiba.com/top/race_list.html?kaisai_date=20121020\n",
      "scraping: https://race.netkeiba.com/top/race_list.html?kaisai_date=20121021\n",
      "scraping: https://race.netkeiba.com/top/race_list.html?kaisai_date=20121027\n",
      "scraping: https://race.netkeiba.com/top/race_list.html?kaisai_date=20121028\n",
      "scraping: https://race.netkeiba.com/top/race_list.html?kaisai_date=20121103\n",
      "scraping: https://race.netkeiba.com/top/race_list.html?kaisai_date=20121104\n",
      "scraping: https://race.netkeiba.com/top/race_list.html?kaisai_date=20121110\n",
      "scraping: https://race.netkeiba.com/top/race_list.html?kaisai_date=20121111\n",
      "scraping: https://race.netkeiba.com/top/race_list.html?kaisai_date=20121117\n",
      "scraping: https://race.netkeiba.com/top/race_list.html?kaisai_date=20121118\n",
      "scraping: https://race.netkeiba.com/top/race_list.html?kaisai_date=20121124\n",
      "scraping: https://race.netkeiba.com/top/race_list.html?kaisai_date=20121125\n",
      "scraping: https://race.netkeiba.com/top/race_list.html?kaisai_date=20121201\n",
      "scraping: https://race.netkeiba.com/top/race_list.html?kaisai_date=20121202\n",
      "scraping: https://race.netkeiba.com/top/race_list.html?kaisai_date=20121208\n",
      "scraping: https://race.netkeiba.com/top/race_list.html?kaisai_date=20121209\n",
      "scraping: https://race.netkeiba.com/top/race_list.html?kaisai_date=20121215\n",
      "scraping: https://race.netkeiba.com/top/race_list.html?kaisai_date=20121216\n",
      "scraping: https://race.netkeiba.com/top/race_list.html?kaisai_date=20121222\n",
      "scraping: https://race.netkeiba.com/top/race_list.html?kaisai_date=20121223\n",
      "scraping: https://race.netkeiba.com/top/race_list.html?kaisai_date=20121224\n",
      "scraping: https://race.netkeiba.com/top/race_list.html?kaisai_date=20130105\n",
      "scraping: https://race.netkeiba.com/top/race_list.html?kaisai_date=20130106\n"
     ]
    }
   ],
   "source": [
    "# 開催日からレースIDの取得\n",
    "race_id_list = preparing.scrape_race_id_list(kaisai_date_2020)\n",
    "len(race_id_list)"
   ]
  },
  {
   "cell_type": "markdown",
   "metadata": {},
   "source": [
    "## 2.2. /race/ディレクトリのデータ取得"
   ]
  },
  {
   "cell_type": "code",
   "execution_count": null,
   "metadata": {},
   "outputs": [
    {
     "data": {
      "application/vnd.jupyter.widget-view+json": {
       "model_id": "6e00bbd890a94f389b5ca55d3bfc3693",
       "version_major": 2,
       "version_minor": 0
      },
      "text/plain": [
       "  0%|          | 0/15024 [00:00<?, ?it/s]"
      ]
     },
     "metadata": {},
     "output_type": "display_data"
    },
    {
     "data": {
      "text/plain": [
       "['/home/hinata/code/HinataMikami/keibaAI-v2-main/data/html/race/202006010101.bin',\n",
       " '/home/hinata/code/HinataMikami/keibaAI-v2-main/data/html/race/202006010102.bin',\n",
       " '/home/hinata/code/HinataMikami/keibaAI-v2-main/data/html/race/202006010103.bin',\n",
       " '/home/hinata/code/HinataMikami/keibaAI-v2-main/data/html/race/202006010104.bin',\n",
       " '/home/hinata/code/HinataMikami/keibaAI-v2-main/data/html/race/202006010105.bin']"
      ]
     },
     "execution_count": 7,
     "metadata": {},
     "output_type": "execute_result"
    }
   ],
   "source": [
    "#https://db.netkeiba.com/race/のhtml(binファイル)をスクレイピングして保存\n",
    "html_files_race = preparing.scrape_html_race(race_id_list, skip=True)\n",
    "html_files_race[:5]"
   ]
  },
  {
   "cell_type": "code",
   "execution_count": null,
   "metadata": {},
   "outputs": [
    {
     "name": "stdout",
     "output_type": "stream",
     "text": [
      "preparing raw results table\n"
     ]
    },
    {
     "data": {
      "application/vnd.jupyter.widget-view+json": {
       "model_id": "597db3082bc4428f813168064cc40161",
       "version_major": 2,
       "version_minor": 0
      },
      "text/plain": [
       "  0%|          | 0/15024 [00:00<?, ?it/s]"
      ]
     },
     "metadata": {},
     "output_type": "display_data"
    },
    {
     "name": "stdout",
     "output_type": "stream",
     "text": [
      "error at /home/hinata/code/HinataMikami/keibaAI-v2-main/data/html/race/202410020704.bin\n",
      "list index out of range\n",
      "error at /home/hinata/code/HinataMikami/keibaAI-v2-main/data/html/race/202410020705.bin\n",
      "list index out of range\n",
      "error at /home/hinata/code/HinataMikami/keibaAI-v2-main/data/html/race/202410020804.bin\n",
      "list index out of range\n",
      "error at /home/hinata/code/HinataMikami/keibaAI-v2-main/data/html/race/202403010504.bin\n",
      "list index out of range\n",
      "error at /home/hinata/code/HinataMikami/keibaAI-v2-main/data/html/race/202403010505.bin\n",
      "list index out of range\n",
      "error at /home/hinata/code/HinataMikami/keibaAI-v2-main/data/html/race/202403010604.bin\n",
      "list index out of range\n",
      "preparing raw race_info table\n"
     ]
    },
    {
     "data": {
      "application/vnd.jupyter.widget-view+json": {
       "model_id": "ed291fcc2d7243398b9cfdc6cabf4b7e",
       "version_major": 2,
       "version_minor": 0
      },
      "text/plain": [
       "  0%|          | 0/15024 [00:00<?, ?it/s]"
      ]
     },
     "metadata": {},
     "output_type": "display_data"
    },
    {
     "name": "stdout",
     "output_type": "stream",
     "text": [
      "preparing raw return table\n"
     ]
    },
    {
     "data": {
      "application/vnd.jupyter.widget-view+json": {
       "model_id": "a773e7fe7c7c4ac1a9c1d62f4bc4829b",
       "version_major": 2,
       "version_minor": 0
      },
      "text/plain": [
       "  0%|          | 0/15024 [00:00<?, ?it/s]"
      ]
     },
     "metadata": {},
     "output_type": "display_data"
    },
    {
     "name": "stdout",
     "output_type": "stream",
     "text": [
      "error at /home/hinata/code/HinataMikami/keibaAI-v2-main/data/html/race/202410020704.bin\n",
      "list index out of range\n",
      "error at /home/hinata/code/HinataMikami/keibaAI-v2-main/data/html/race/202410020705.bin\n",
      "list index out of range\n",
      "error at /home/hinata/code/HinataMikami/keibaAI-v2-main/data/html/race/202410020804.bin\n",
      "list index out of range\n",
      "error at /home/hinata/code/HinataMikami/keibaAI-v2-main/data/html/race/202403010504.bin\n",
      "list index out of range\n",
      "error at /home/hinata/code/HinataMikami/keibaAI-v2-main/data/html/race/202403010505.bin\n",
      "list index out of range\n",
      "error at /home/hinata/code/HinataMikami/keibaAI-v2-main/data/html/race/202403010604.bin\n",
      "list index out of range\n"
     ]
    }
   ],
   "source": [
    "results_new = preparing.get_rawdata_results(html_files_race) #レース結果テーブルの作成\n",
    "race_info_new = preparing.get_rawdata_info(html_files_race) #レース情報テーブルの作成\n",
    "return_tables_new = preparing.get_rawdata_return(html_files_race) #払戻テーブルの作成"
   ]
  },
  {
   "cell_type": "code",
   "execution_count": null,
   "metadata": {},
   "outputs": [],
   "source": [
    "# テーブルの更新。元々のテーブルが存在しない場合は、新たに作成される。\n",
    "preparing.update_rawdata(filepath=LocalPaths.RAW_RESULTS_PATH, new_df=results_new)\n",
    "preparing.update_rawdata(filepath=LocalPaths.RAW_RACE_INFO_PATH, new_df=race_info_new)\n",
    "preparing.update_rawdata(filepath=LocalPaths.RAW_RETURN_TABLES_PATH, new_df=return_tables_new)"
   ]
  },
  {
   "cell_type": "markdown",
   "metadata": {},
   "source": [
    "## 2.3. /horse/ディレクトリのデータ取得"
   ]
  },
  {
   "cell_type": "code",
   "execution_count": null,
   "metadata": {},
   "outputs": [],
   "source": [
    "%autoreload"
   ]
  },
  {
   "cell_type": "code",
   "execution_count": null,
   "metadata": {},
   "outputs": [
    {
     "name": "stdout",
     "output_type": "stream",
     "text": [
      "scraping\n"
     ]
    },
    {
     "data": {
      "application/vnd.jupyter.widget-view+json": {
       "model_id": "d6da4cb78b85445cb1beaba88d253ec7",
       "version_major": 2,
       "version_minor": 0
      },
      "text/plain": [
       "  0%|          | 0/27298 [00:00<?, ?it/s]"
      ]
     },
     "metadata": {},
     "output_type": "display_data"
    }
   ],
   "source": [
    "horse_id_list = results_new['horse_id'].unique()\n",
    "#htmlをスクレイピング\n",
    "#すでにスクレイピングしてある馬をスキップしたい場合はskip=Trueにする\n",
    "#すでにスクレイピングしてある馬でも、新たに出走した成績を更新したい場合はskip=Falseにする\n",
    "html_files_horse = preparing.scrape_html_horse_with_master(\n",
    "    horse_id_list, skip=True\n",
    "    )"
   ]
  },
  {
   "cell_type": "code",
   "execution_count": null,
   "metadata": {},
   "outputs": [
    {
     "data": {
      "text/plain": [
       "4742"
      ]
     },
     "execution_count": 19,
     "metadata": {},
     "output_type": "execute_result"
    }
   ],
   "source": [
    "#追加で新たにスクレイピングされた数\n",
    "len(html_files_horse)"
   ]
  },
  {
   "cell_type": "code",
   "execution_count": 22,
   "metadata": {},
   "outputs": [
    {
     "data": {
      "application/vnd.jupyter.widget-view+json": {
       "model_id": "c58a7e2ef4c44515823a268edb8475f2",
       "version_major": 2,
       "version_minor": 0
      },
      "text/plain": [
       "  0%|          | 0/11561 [00:00<?, ?it/s]"
      ]
     },
     "metadata": {},
     "output_type": "display_data"
    },
    {
     "data": {
      "text/plain": [
       "['/Users/chiyoda/repositories/keibaAI-v2/data/html/horse/2017101445.bin',\n",
       " '/Users/chiyoda/repositories/keibaAI-v2/data/html/horse/2017109028.bin',\n",
       " '/Users/chiyoda/repositories/keibaAI-v2/data/html/horse/2016100106.bin',\n",
       " '/Users/chiyoda/repositories/keibaAI-v2/data/html/horse/2015104412.bin',\n",
       " '/Users/chiyoda/repositories/keibaAI-v2/data/html/horse/2016105305.bin']"
      ]
     },
     "execution_count": 22,
     "metadata": {},
     "output_type": "execute_result"
    }
   ],
   "source": [
    "### scrape関数を実行せずに、保存してあるhtmlのパスを取得する場合、以下を実行 ###\n",
    "\n",
    "\"\"\"target_date = '2022-06-25' #スクレイピングした日付を指定\n",
    "# マスタの読み込み\n",
    "update_master = pd.read_csv(\n",
    "    LocalPaths.MASTER_RAW_HORSE_RESULTS_PATH,\n",
    "    dtype=object\n",
    "    )\n",
    "# target_dateにスクレイピングしたhorse_idに絞り込む\n",
    "filter = pd.to_datetime(update_master['updated_at']).dt.strftime('%Y-%m-%d') == target_date\n",
    "horse_id_list = update_master[filter]['horse_id']\n",
    "\n",
    "# binファイルのパスを取得\n",
    "html_files_horse = []\n",
    "for horse_id in tqdm(horse_id_list):\n",
    "    file = glob.glob(os.path.join(LocalPaths.HTML_HORSE_DIR, horse_id+'*.bin'))[0]\n",
    "    html_files_horse.append(file)\n",
    "html_files_horse[:5]\"\"\""
   ]
  },
  {
   "cell_type": "code",
   "execution_count": null,
   "metadata": {},
   "outputs": [],
   "source": [
    "# 馬の基本情報テーブルの作成\n",
    "horse_info_new = preparing.get_rawdata_horse_info(html_files_horse)"
   ]
  },
  {
   "cell_type": "code",
   "execution_count": null,
   "metadata": {},
   "outputs": [],
   "source": [
    "# 馬の基本情報テーブルの更新\n",
    "preparing.update_rawdata(LocalPaths.RAW_HORSE_INFO_PATH, horse_info_new)"
   ]
  },
  {
   "cell_type": "code",
   "execution_count": null,
   "metadata": {},
   "outputs": [
    {
     "name": "stdout",
     "output_type": "stream",
     "text": [
      "preparing raw horse_results table\n"
     ]
    },
    {
     "data": {
      "application/vnd.jupyter.widget-view+json": {
       "model_id": "bd90c21db8aa4a0e9bb8555883128ee0",
       "version_major": 2,
       "version_minor": 0
      },
      "text/plain": [
       "  0%|          | 0/4742 [00:00<?, ?it/s]"
      ]
     },
     "metadata": {},
     "output_type": "display_data"
    }
   ],
   "source": [
    "#　馬の過去成績テーブルの作成\n",
    "horse_results_new = preparing.get_rawdata_horse_results(html_files_horse)"
   ]
  },
  {
   "cell_type": "code",
   "execution_count": null,
   "metadata": {},
   "outputs": [],
   "source": [
    "# テーブルの更新\n",
    "preparing.update_rawdata(LocalPaths.RAW_HORSE_RESULTS_PATH, horse_results_new)"
   ]
  },
  {
   "cell_type": "markdown",
   "metadata": {},
   "source": [
    "## 2.4. /ped/ディレクトリのデータ取得"
   ]
  },
  {
   "cell_type": "code",
   "execution_count": null,
   "metadata": {},
   "outputs": [
    {
     "data": {
      "application/vnd.jupyter.widget-view+json": {
       "model_id": "dac873303fa4402991881bfef2995cb2",
       "version_major": 2,
       "version_minor": 0
      },
      "text/plain": [
       "  0%|          | 0/5 [00:00<?, ?it/s]"
      ]
     },
     "metadata": {},
     "output_type": "display_data"
    }
   ],
   "source": [
    "html_files_peds = preparing.scrape_html_ped(horse_id_list, skip=True) #htmlをスクレイピング"
   ]
  },
  {
   "cell_type": "code",
   "execution_count": null,
   "metadata": {},
   "outputs": [
    {
     "data": {
      "application/vnd.jupyter.widget-view+json": {
       "model_id": "6052d39df23e4ac1b0d0769d8663c403",
       "version_major": 2,
       "version_minor": 0
      },
      "text/plain": [
       "  0%|          | 0/5 [00:00<?, ?it/s]"
      ]
     },
     "metadata": {},
     "output_type": "display_data"
    }
   ],
   "source": [
    "peds_new = preparing.get_rawdata_peds(html_files_peds) #血統テーブルの作成\n",
    "preparing.update_rawdata(LocalPaths.RAW_PEDS_PATH, peds_new) #テーブルの更新"
   ]
  },
  {
   "cell_type": "markdown",
   "metadata": {},
   "source": [
    "# 3. データ加工"
   ]
  },
  {
   "cell_type": "code",
   "execution_count": 5,
   "metadata": {},
   "outputs": [],
   "source": [
    "#モジュールを更新した際、notebookに反映させるために使用。\n",
    "#すでにインポートしてあるモジュールの更新が反映される。\n",
    "%autoreload"
   ]
  },
  {
   "cell_type": "code",
   "execution_count": 2,
   "metadata": {},
   "outputs": [],
   "source": [
    "#前処理\n",
    "results_processor = preprocessing.ResultsProcessor(filepath=LocalPaths.RAW_RESULTS_PATH)\n",
    "race_info_processor = preprocessing.RaceInfoProcessor(filepath=LocalPaths.RAW_RACE_INFO_PATH)\n",
    "return_processor = preprocessing.ReturnProcessor(filepath=LocalPaths.RAW_RETURN_TABLES_PATH)\n",
    "horse_info_processor = preprocessing.HorseInfoProcessor(\n",
    "    filepath=LocalPaths.RAW_HORSE_INFO_PATH)\n",
    "horse_results_processor = preprocessing.HorseResultsProcessor(\n",
    "    filepath=LocalPaths.RAW_HORSE_RESULTS_PATH)\n",
    "peds_processor = preprocessing.PedsProcessor(filepath=LocalPaths.RAW_PEDS_PATH)"
   ]
  },
  {
   "cell_type": "markdown",
   "metadata": {},
   "source": [
    "馬の過去成績を集計しつつ、前処理の済みの全てのテーブルをマージする処理"
   ]
  },
  {
   "cell_type": "code",
   "execution_count": null,
   "metadata": {},
   "outputs": [
    {
     "name": "stdout",
     "output_type": "stream",
     "text": [
      "separating horse results by date\n"
     ]
    },
    {
     "data": {
      "application/vnd.jupyter.widget-view+json": {
       "model_id": "41fea5efe73740ad9f88637f62ac71ba",
       "version_major": 2,
       "version_minor": 0
      },
      "text/plain": [
       "  0%|          | 0/435 [00:00<?, ?it/s]"
      ]
     },
     "metadata": {},
     "output_type": "display_data"
    },
    {
     "name": "stdout",
     "output_type": "stream",
     "text": [
      "merging horse_results\n"
     ]
    },
    {
     "data": {
      "application/vnd.jupyter.widget-view+json": {
       "model_id": "f45f19204d9342cfa97638fa0b0b3844",
       "version_major": 2,
       "version_minor": 0
      },
      "text/plain": [
       "  0%|          | 0/435 [00:00<?, ?it/s]"
      ]
     },
     "metadata": {},
     "output_type": "display_data"
    }
   ],
   "source": [
    "# ターゲットエンコーディング時に「馬の成績」として扱う項目\n",
    "TARGET_COLS = [\n",
    "        HorseResultsCols.RANK,\n",
    "        HorseResultsCols.PRIZE,\n",
    "        HorseResultsCols.RANK_DIFF, \n",
    "        'first_corner',\n",
    "        'final_corner',\n",
    "        'first_to_rank',\n",
    "        'first_to_final',\n",
    "        'final_to_rank',\n",
    "        'time_seconds'\n",
    "        ]\n",
    "# horse_id列と共に、ターゲットエンコーディングの対象にする列\n",
    "GROUP_COLS = [\n",
    "        'course_len',\n",
    "        'race_type',\n",
    "        HorseResultsCols.PLACE\n",
    "        ]\n",
    "\n",
    "data_merger = preprocessing.DataMerger(\n",
    "        results_processor,\n",
    "        race_info_processor,\n",
    "        horse_results_processor,\n",
    "        horse_info_processor,\n",
    "        peds_processor,\n",
    "        target_cols=TARGET_COLS,\n",
    "        group_cols=GROUP_COLS\n",
    ")\n",
    "# 処理実行\n",
    "data_merger.merge()"
   ]
  },
  {
   "cell_type": "code",
   "execution_count": null,
   "metadata": {},
   "outputs": [],
   "source": [
    "#カテゴリ変数の処理\n",
    "feature_enginnering = preprocessing.FeatureEngineering(data_merger)\\\n",
    "    .add_interval()\\\n",
    "    .add_agedays()\\\n",
    "    .dumminize_ground_state()\\\n",
    "    .dumminize_race_type()\\\n",
    "    .dumminize_sex()\\\n",
    "    .dumminize_weather()\\\n",
    "    .encode_horse_id()\\\n",
    "    .encode_jockey_id()\\\n",
    "    .encode_trainer_id()\\\n",
    "    .encode_owner_id()\\\n",
    "    .encode_breeder_id()\\\n",
    "    .dumminize_kaisai()\\\n",
    "    .dumminize_around()\\\n",
    "    .dumminize_race_class()"
   ]
  },
  {
   "cell_type": "code",
   "execution_count": null,
   "metadata": {},
   "outputs": [],
   "source": [
    "#保存\n",
    "#tmpは一時保存用のディレクトリ\n",
    "feature_enginnering.featured_data.to_pickle('data/tmp/featured_data_20240522.pickle')"
   ]
  },
  {
   "cell_type": "markdown",
   "metadata": {},
   "source": [
    "# 4. 学習"
   ]
  },
  {
   "cell_type": "code",
   "execution_count": 5,
   "metadata": {},
   "outputs": [
    {
     "name": "stderr",
     "output_type": "stream",
     "text": [
      "\u001b[32m[I 2022-08-07 17:59:33,407]\u001b[0m A new study created in memory with name: no-name-9ff39f79-3a28-4907-9def-0ef5ad9e088f\u001b[0m\n",
      "feature_fraction, val_score: inf:   0%|          | 0/7 [00:00<?, ?it/s]"
     ]
    },
    {
     "name": "stdout",
     "output_type": "stream",
     "text": [
      "[LightGBM] [Info] Number of positive: 20339, number of negative: 73015\n",
      "[LightGBM] [Warning] Auto-choosing col-wise multi-threading, the overhead of testing was 0.069975 seconds.\n",
      "You can set `force_col_wise=true` to remove the overhead.\n",
      "[LightGBM] [Info] Total Bins 37923\n",
      "[LightGBM] [Info] Number of data points in the train set: 93354, number of used features: 222\n",
      "[LightGBM] [Info] [binary:BoostFromScore]: pavg=0.217870 -> initscore=-1.278125\n",
      "[LightGBM] [Info] Start training from score -1.278125\n",
      "Training until validation scores don't improve for 10 rounds\n"
     ]
    },
    {
     "name": "stderr",
     "output_type": "stream",
     "text": [
      "feature_fraction, val_score: 0.455749:  14%|#4        | 1/7 [00:05<00:35,  5.84s/it]\u001b[32m[I 2022-08-07 17:59:39,269]\u001b[0m Trial 0 finished with value: 0.4557486914797516 and parameters: {'feature_fraction': 0.8999999999999999}. Best is trial 0 with value: 0.4557486914797516.\u001b[0m\n",
      "feature_fraction, val_score: 0.455749:  14%|#4        | 1/7 [00:05<00:35,  5.84s/it]"
     ]
    },
    {
     "name": "stdout",
     "output_type": "stream",
     "text": [
      "Early stopping, best iteration is:\n",
      "[84]\tvalid_0's binary_logloss: 0.417339\tvalid_1's binary_logloss: 0.455749\n",
      "[LightGBM] [Info] Number of positive: 20339, number of negative: 73015\n",
      "[LightGBM] [Warning] Auto-choosing col-wise multi-threading, the overhead of testing was 0.058555 seconds.\n",
      "You can set `force_col_wise=true` to remove the overhead.\n",
      "[LightGBM] [Info] Total Bins 37923\n",
      "[LightGBM] [Info] Number of data points in the train set: 93354, number of used features: 222\n",
      "[LightGBM] [Info] [binary:BoostFromScore]: pavg=0.217870 -> initscore=-1.278125\n",
      "[LightGBM] [Info] Start training from score -1.278125\n",
      "Training until validation scores don't improve for 10 rounds\n",
      "[100]\tvalid_0's binary_logloss: 0.411602\tvalid_1's binary_logloss: 0.454888\n"
     ]
    },
    {
     "name": "stderr",
     "output_type": "stream",
     "text": [
      "feature_fraction, val_score: 0.454595:  29%|##8       | 2/7 [00:11<00:29,  5.86s/it]\u001b[32m[I 2022-08-07 17:59:45,143]\u001b[0m Trial 1 finished with value: 0.45459502747302355 and parameters: {'feature_fraction': 0.8}. Best is trial 1 with value: 0.45459502747302355.\u001b[0m\n",
      "feature_fraction, val_score: 0.454595:  29%|##8       | 2/7 [00:11<00:29,  5.86s/it]"
     ]
    },
    {
     "name": "stdout",
     "output_type": "stream",
     "text": [
      "Early stopping, best iteration is:\n",
      "[120]\tvalid_0's binary_logloss: 0.404691\tvalid_1's binary_logloss: 0.454595\n",
      "[LightGBM] [Info] Number of positive: 20339, number of negative: 73015\n",
      "[LightGBM] [Warning] Auto-choosing col-wise multi-threading, the overhead of testing was 0.055034 seconds.\n",
      "You can set `force_col_wise=true` to remove the overhead.\n",
      "[LightGBM] [Info] Total Bins 37923\n",
      "[LightGBM] [Info] Number of data points in the train set: 93354, number of used features: 222\n",
      "[LightGBM] [Info] [binary:BoostFromScore]: pavg=0.217870 -> initscore=-1.278125\n",
      "[LightGBM] [Info] Start training from score -1.278125\n",
      "Training until validation scores don't improve for 10 rounds\n",
      "[100]\tvalid_0's binary_logloss: 0.414491\tvalid_1's binary_logloss: 0.454295\n"
     ]
    },
    {
     "name": "stderr",
     "output_type": "stream",
     "text": [
      "feature_fraction, val_score: 0.453705:  43%|####2     | 3/7 [00:16<00:20,  5.25s/it]\u001b[32m[I 2022-08-07 17:59:49,663]\u001b[0m Trial 2 finished with value: 0.45370469199579183 and parameters: {'feature_fraction': 0.4}. Best is trial 2 with value: 0.45370469199579183.\u001b[0m\n",
      "feature_fraction, val_score: 0.453705:  43%|####2     | 3/7 [00:16<00:20,  5.25s/it]"
     ]
    },
    {
     "name": "stdout",
     "output_type": "stream",
     "text": [
      "Early stopping, best iteration is:\n",
      "[121]\tvalid_0's binary_logloss: 0.407409\tvalid_1's binary_logloss: 0.453705\n",
      "[LightGBM] [Info] Number of positive: 20339, number of negative: 73015\n",
      "[LightGBM] [Warning] Auto-choosing col-wise multi-threading, the overhead of testing was 0.065373 seconds.\n",
      "You can set `force_col_wise=true` to remove the overhead.\n",
      "[LightGBM] [Info] Total Bins 37923\n",
      "[LightGBM] [Info] Number of data points in the train set: 93354, number of used features: 222\n",
      "[LightGBM] [Info] [binary:BoostFromScore]: pavg=0.217870 -> initscore=-1.278125\n",
      "[LightGBM] [Info] Start training from score -1.278125\n",
      "Training until validation scores don't improve for 10 rounds\n"
     ]
    },
    {
     "name": "stderr",
     "output_type": "stream",
     "text": [
      "feature_fraction, val_score: 0.453705:  57%|#####7    | 4/7 [00:21<00:15,  5.18s/it]\u001b[32m[I 2022-08-07 17:59:54,749]\u001b[0m Trial 3 finished with value: 0.4548907570062873 and parameters: {'feature_fraction': 0.6}. Best is trial 2 with value: 0.45370469199579183.\u001b[0m\n",
      "feature_fraction, val_score: 0.453705:  57%|#####7    | 4/7 [00:21<00:15,  5.18s/it]"
     ]
    },
    {
     "name": "stdout",
     "output_type": "stream",
     "text": [
      "[100]\tvalid_0's binary_logloss: 0.412346\tvalid_1's binary_logloss: 0.455019\n",
      "Early stopping, best iteration is:\n",
      "[95]\tvalid_0's binary_logloss: 0.414038\tvalid_1's binary_logloss: 0.454891\n",
      "[LightGBM] [Info] Number of positive: 20339, number of negative: 73015\n",
      "[LightGBM] [Warning] Auto-choosing col-wise multi-threading, the overhead of testing was 0.064671 seconds.\n",
      "You can set `force_col_wise=true` to remove the overhead.\n",
      "[LightGBM] [Info] Total Bins 37923\n",
      "[LightGBM] [Info] Number of data points in the train set: 93354, number of used features: 222\n",
      "[LightGBM] [Info] [binary:BoostFromScore]: pavg=0.217870 -> initscore=-1.278125\n",
      "[LightGBM] [Info] Start training from score -1.278125\n",
      "Training until validation scores don't improve for 10 rounds\n",
      "[100]\tvalid_0's binary_logloss: 0.412236\tvalid_1's binary_logloss: 0.454137\n"
     ]
    },
    {
     "name": "stderr",
     "output_type": "stream",
     "text": [
      "feature_fraction, val_score: 0.453705:  71%|#######1  | 5/7 [00:26<00:10,  5.24s/it]\u001b[32m[I 2022-08-07 18:00:00,088]\u001b[0m Trial 4 finished with value: 0.4540149524364872 and parameters: {'feature_fraction': 0.7}. Best is trial 2 with value: 0.45370469199579183.\u001b[0m\n",
      "feature_fraction, val_score: 0.453705:  71%|#######1  | 5/7 [00:26<00:10,  5.24s/it]"
     ]
    },
    {
     "name": "stdout",
     "output_type": "stream",
     "text": [
      "Early stopping, best iteration is:\n",
      "[109]\tvalid_0's binary_logloss: 0.408699\tvalid_1's binary_logloss: 0.454015\n",
      "[LightGBM] [Info] Number of positive: 20339, number of negative: 73015\n",
      "[LightGBM] [Warning] Auto-choosing row-wise multi-threading, the overhead of testing was 0.006203 seconds.\n",
      "You can set `force_row_wise=true` to remove the overhead.\n",
      "And if memory is not enough, you can set `force_col_wise=true`.\n",
      "[LightGBM] [Info] Total Bins 37923\n",
      "[LightGBM] [Info] Number of data points in the train set: 93354, number of used features: 222\n",
      "[LightGBM] [Info] [binary:BoostFromScore]: pavg=0.217870 -> initscore=-1.278125\n",
      "[LightGBM] [Info] Start training from score -1.278125\n",
      "Training until validation scores don't improve for 10 rounds\n",
      "[100]\tvalid_0's binary_logloss: 0.412783\tvalid_1's binary_logloss: 0.454556\n"
     ]
    },
    {
     "name": "stderr",
     "output_type": "stream",
     "text": [
      "feature_fraction, val_score: 0.453705:  86%|########5 | 6/7 [00:31<00:05,  5.24s/it]\u001b[32m[I 2022-08-07 18:00:05,319]\u001b[0m Trial 5 finished with value: 0.4540914171114687 and parameters: {'feature_fraction': 0.5}. Best is trial 2 with value: 0.45370469199579183.\u001b[0m\n",
      "feature_fraction, val_score: 0.453705:  86%|########5 | 6/7 [00:31<00:05,  5.24s/it]"
     ]
    },
    {
     "name": "stdout",
     "output_type": "stream",
     "text": [
      "Early stopping, best iteration is:\n",
      "[122]\tvalid_0's binary_logloss: 0.405489\tvalid_1's binary_logloss: 0.454091\n",
      "[LightGBM] [Info] Number of positive: 20339, number of negative: 73015\n",
      "[LightGBM] [Warning] Auto-choosing col-wise multi-threading, the overhead of testing was 0.063384 seconds.\n",
      "You can set `force_col_wise=true` to remove the overhead.\n",
      "[LightGBM] [Info] Total Bins 37923\n",
      "[LightGBM] [Info] Number of data points in the train set: 93354, number of used features: 222\n",
      "[LightGBM] [Info] [binary:BoostFromScore]: pavg=0.217870 -> initscore=-1.278125\n",
      "[LightGBM] [Info] Start training from score -1.278125\n",
      "Training until validation scores don't improve for 10 rounds\n",
      "[100]\tvalid_0's binary_logloss: 0.410965\tvalid_1's binary_logloss: 0.454517\n"
     ]
    },
    {
     "name": "stderr",
     "output_type": "stream",
     "text": [
      "feature_fraction, val_score: 0.453705: 100%|##########| 7/7 [00:38<00:00,  5.58s/it]\u001b[32m[I 2022-08-07 18:00:11,621]\u001b[0m Trial 6 finished with value: 0.4544632731342217 and parameters: {'feature_fraction': 1.0}. Best is trial 2 with value: 0.45370469199579183.\u001b[0m\n",
      "feature_fraction, val_score: 0.453705: 100%|##########| 7/7 [00:38<00:00,  5.46s/it]\n"
     ]
    },
    {
     "name": "stdout",
     "output_type": "stream",
     "text": [
      "Early stopping, best iteration is:\n",
      "[124]\tvalid_0's binary_logloss: 0.40255\tvalid_1's binary_logloss: 0.454463\n"
     ]
    },
    {
     "name": "stderr",
     "output_type": "stream",
     "text": [
      "num_leaves, val_score: 0.453705:   0%|          | 0/20 [00:00<?, ?it/s]"
     ]
    },
    {
     "name": "stdout",
     "output_type": "stream",
     "text": [
      "[LightGBM] [Info] Number of positive: 20339, number of negative: 73015\n",
      "[LightGBM] [Warning] Auto-choosing col-wise multi-threading, the overhead of testing was 0.062440 seconds.\n",
      "You can set `force_col_wise=true` to remove the overhead.\n",
      "[LightGBM] [Info] Total Bins 37923\n",
      "[LightGBM] [Info] Number of data points in the train set: 93354, number of used features: 222\n",
      "[LightGBM] [Info] [binary:BoostFromScore]: pavg=0.217870 -> initscore=-1.278125\n",
      "[LightGBM] [Info] Start training from score -1.278125\n",
      "Training until validation scores don't improve for 10 rounds\n"
     ]
    },
    {
     "name": "stderr",
     "output_type": "stream",
     "text": [
      "num_leaves, val_score: 0.453705:   5%|5         | 1/20 [00:05<01:51,  5.88s/it]\u001b[32m[I 2022-08-07 18:00:17,512]\u001b[0m Trial 7 finished with value: 0.4582332714448765 and parameters: {'num_leaves': 140}. Best is trial 7 with value: 0.4582332714448765.\u001b[0m\n",
      "num_leaves, val_score: 0.453705:   5%|5         | 1/20 [00:05<01:51,  5.88s/it]"
     ]
    },
    {
     "name": "stdout",
     "output_type": "stream",
     "text": [
      "Early stopping, best iteration is:\n",
      "[71]\tvalid_0's binary_logloss: 0.347615\tvalid_1's binary_logloss: 0.458233\n",
      "[LightGBM] [Info] Number of positive: 20339, number of negative: 73015\n",
      "[LightGBM] [Warning] Auto-choosing col-wise multi-threading, the overhead of testing was 0.057951 seconds.\n",
      "You can set `force_col_wise=true` to remove the overhead.\n",
      "[LightGBM] [Info] Total Bins 37923\n",
      "[LightGBM] [Info] Number of data points in the train set: 93354, number of used features: 222\n",
      "[LightGBM] [Info] [binary:BoostFromScore]: pavg=0.217870 -> initscore=-1.278125\n",
      "[LightGBM] [Info] Start training from score -1.278125\n",
      "Training until validation scores don't improve for 10 rounds\n",
      "[100]\tvalid_0's binary_logloss: 0.372202\tvalid_1's binary_logloss: 0.455468\n"
     ]
    },
    {
     "name": "stderr",
     "output_type": "stream",
     "text": [
      "num_leaves, val_score: 0.453705:  10%|#         | 2/20 [00:11<01:42,  5.70s/it]\u001b[32m[I 2022-08-07 18:00:23,079]\u001b[0m Trial 8 finished with value: 0.4550993547475214 and parameters: {'num_leaves': 72}. Best is trial 8 with value: 0.4550993547475214.\u001b[0m\n",
      "num_leaves, val_score: 0.453705:  10%|#         | 2/20 [00:11<01:42,  5.70s/it]"
     ]
    },
    {
     "name": "stdout",
     "output_type": "stream",
     "text": [
      "Early stopping, best iteration is:\n",
      "[107]\tvalid_0's binary_logloss: 0.367598\tvalid_1's binary_logloss: 0.455099\n",
      "[LightGBM] [Info] Number of positive: 20339, number of negative: 73015\n",
      "[LightGBM] [Warning] Auto-choosing row-wise multi-threading, the overhead of testing was 0.005919 seconds.\n",
      "You can set `force_row_wise=true` to remove the overhead.\n",
      "And if memory is not enough, you can set `force_col_wise=true`.\n",
      "[LightGBM] [Info] Total Bins 37923\n",
      "[LightGBM] [Info] Number of data points in the train set: 93354, number of used features: 222\n",
      "[LightGBM] [Info] [binary:BoostFromScore]: pavg=0.217870 -> initscore=-1.278125\n",
      "[LightGBM] [Info] Start training from score -1.278125\n",
      "Training until validation scores don't improve for 10 rounds\n"
     ]
    },
    {
     "name": "stderr",
     "output_type": "stream",
     "text": [
      "num_leaves, val_score: 0.453705:  15%|#5        | 3/20 [00:17<01:39,  5.85s/it]\u001b[32m[I 2022-08-07 18:00:29,103]\u001b[0m Trial 9 finished with value: 0.45675845545498883 and parameters: {'num_leaves': 110}. Best is trial 8 with value: 0.4550993547475214.\u001b[0m\n",
      "num_leaves, val_score: 0.453705:  15%|#5        | 3/20 [00:17<01:39,  5.85s/it]"
     ]
    },
    {
     "name": "stdout",
     "output_type": "stream",
     "text": [
      "Early stopping, best iteration is:\n",
      "[78]\tvalid_0's binary_logloss: 0.358998\tvalid_1's binary_logloss: 0.456758\n",
      "[LightGBM] [Info] Number of positive: 20339, number of negative: 73015\n",
      "[LightGBM] [Warning] Auto-choosing row-wise multi-threading, the overhead of testing was 0.005059 seconds.\n",
      "You can set `force_row_wise=true` to remove the overhead.\n",
      "And if memory is not enough, you can set `force_col_wise=true`.\n",
      "[LightGBM] [Info] Total Bins 37923\n",
      "[LightGBM] [Info] Number of data points in the train set: 93354, number of used features: 222\n",
      "[LightGBM] [Info] [binary:BoostFromScore]: pavg=0.217870 -> initscore=-1.278125\n",
      "[LightGBM] [Info] Start training from score -1.278125\n",
      "Training until validation scores don't improve for 10 rounds\n"
     ]
    },
    {
     "name": "stderr",
     "output_type": "stream",
     "text": [
      "num_leaves, val_score: 0.453705:  20%|##        | 4/20 [00:25<01:44,  6.54s/it]\u001b[32m[I 2022-08-07 18:00:36,703]\u001b[0m Trial 10 finished with value: 0.46029522634205555 and parameters: {'num_leaves': 217}. Best is trial 8 with value: 0.4550993547475214.\u001b[0m\n",
      "num_leaves, val_score: 0.453705:  20%|##        | 4/20 [00:25<01:44,  6.54s/it]"
     ]
    },
    {
     "name": "stdout",
     "output_type": "stream",
     "text": [
      "Early stopping, best iteration is:\n",
      "[61]\tvalid_0's binary_logloss: 0.321605\tvalid_1's binary_logloss: 0.460295\n",
      "[LightGBM] [Info] Number of positive: 20339, number of negative: 73015\n",
      "[LightGBM] [Warning] Auto-choosing col-wise multi-threading, the overhead of testing was 0.059627 seconds.\n",
      "You can set `force_col_wise=true` to remove the overhead.\n",
      "[LightGBM] [Info] Total Bins 37923\n",
      "[LightGBM] [Info] Number of data points in the train set: 93354, number of used features: 222\n",
      "[LightGBM] [Info] [binary:BoostFromScore]: pavg=0.217870 -> initscore=-1.278125\n",
      "[LightGBM] [Info] Start training from score -1.278125\n",
      "Training until validation scores don't improve for 10 rounds\n",
      "[100]\tvalid_0's binary_logloss: 0.460592\tvalid_1's binary_logloss: 0.468655\n",
      "[200]\tvalid_0's binary_logloss: 0.453963\tvalid_1's binary_logloss: 0.464009\n",
      "[300]\tvalid_0's binary_logloss: 0.449684\tvalid_1's binary_logloss: 0.461329\n",
      "[400]\tvalid_0's binary_logloss: 0.446559\tvalid_1's binary_logloss: 0.45979\n",
      "[500]\tvalid_0's binary_logloss: 0.443892\tvalid_1's binary_logloss: 0.458554\n",
      "[600]\tvalid_0's binary_logloss: 0.441645\tvalid_1's binary_logloss: 0.457689\n"
     ]
    },
    {
     "name": "stderr",
     "output_type": "stream",
     "text": [
      "num_leaves, val_score: 0.453705:  25%|##5       | 5/20 [00:32<01:44,  6.98s/it]\u001b[32m[I 2022-08-07 18:00:44,476]\u001b[0m Trial 11 finished with value: 0.4576014125727674 and parameters: {'num_leaves': 3}. Best is trial 8 with value: 0.4550993547475214.\u001b[0m\n",
      "num_leaves, val_score: 0.453705:  25%|##5       | 5/20 [00:32<01:44,  6.98s/it]"
     ]
    },
    {
     "name": "stdout",
     "output_type": "stream",
     "text": [
      "Early stopping, best iteration is:\n",
      "[617]\tvalid_0's binary_logloss: 0.441272\tvalid_1's binary_logloss: 0.457601\n",
      "[LightGBM] [Info] Number of positive: 20339, number of negative: 73015\n",
      "[LightGBM] [Warning] Auto-choosing col-wise multi-threading, the overhead of testing was 0.056584 seconds.\n",
      "You can set `force_col_wise=true` to remove the overhead.\n",
      "[LightGBM] [Info] Total Bins 37923\n",
      "[LightGBM] [Info] Number of data points in the train set: 93354, number of used features: 222\n",
      "[LightGBM] [Info] [binary:BoostFromScore]: pavg=0.217870 -> initscore=-1.278125\n",
      "[LightGBM] [Info] Start training from score -1.278125\n",
      "Training until validation scores don't improve for 10 rounds\n",
      "[100]\tvalid_0's binary_logloss: 0.41183\tvalid_1's binary_logloss: 0.454732\n"
     ]
    },
    {
     "name": "stderr",
     "output_type": "stream",
     "text": [
      "num_leaves, val_score: 0.453705:  30%|###       | 6/20 [00:37<01:28,  6.30s/it]\u001b[32m[I 2022-08-07 18:00:49,450]\u001b[0m Trial 12 finished with value: 0.45410908459289756 and parameters: {'num_leaves': 33}. Best is trial 12 with value: 0.45410908459289756.\u001b[0m\n",
      "num_leaves, val_score: 0.453705:  30%|###       | 6/20 [00:37<01:28,  6.30s/it]"
     ]
    },
    {
     "name": "stdout",
     "output_type": "stream",
     "text": [
      "Early stopping, best iteration is:\n",
      "[117]\tvalid_0's binary_logloss: 0.405688\tvalid_1's binary_logloss: 0.454109\n",
      "[LightGBM] [Info] Number of positive: 20339, number of negative: 73015\n",
      "[LightGBM] [Warning] Auto-choosing row-wise multi-threading, the overhead of testing was 0.006277 seconds.\n",
      "You can set `force_row_wise=true` to remove the overhead.\n",
      "And if memory is not enough, you can set `force_col_wise=true`.\n",
      "[LightGBM] [Info] Total Bins 37923\n",
      "[LightGBM] [Info] Number of data points in the train set: 93354, number of used features: 222\n",
      "[LightGBM] [Info] [binary:BoostFromScore]: pavg=0.217870 -> initscore=-1.278125\n",
      "[LightGBM] [Info] Start training from score -1.278125\n",
      "Training until validation scores don't improve for 10 rounds\n"
     ]
    },
    {
     "name": "stderr",
     "output_type": "stream",
     "text": [
      "num_leaves, val_score: 0.453705:  35%|###5      | 7/20 [00:45<01:27,  6.74s/it]\u001b[32m[I 2022-08-07 18:00:57,109]\u001b[0m Trial 13 finished with value: 0.45874164608419227 and parameters: {'num_leaves': 173}. Best is trial 12 with value: 0.45410908459289756.\u001b[0m\n",
      "num_leaves, val_score: 0.453705:  35%|###5      | 7/20 [00:45<01:27,  6.74s/it]"
     ]
    },
    {
     "name": "stdout",
     "output_type": "stream",
     "text": [
      "Early stopping, best iteration is:\n",
      "[65]\tvalid_0's binary_logloss: 0.337316\tvalid_1's binary_logloss: 0.458742\n",
      "[LightGBM] [Info] Number of positive: 20339, number of negative: 73015\n",
      "[LightGBM] [Warning] Auto-choosing row-wise multi-threading, the overhead of testing was 0.006353 seconds.\n",
      "You can set `force_row_wise=true` to remove the overhead.\n",
      "And if memory is not enough, you can set `force_col_wise=true`.\n",
      "[LightGBM] [Info] Total Bins 37923\n",
      "[LightGBM] [Info] Number of data points in the train set: 93354, number of used features: 222\n",
      "[LightGBM] [Info] [binary:BoostFromScore]: pavg=0.217870 -> initscore=-1.278125\n",
      "[LightGBM] [Info] Start training from score -1.278125\n",
      "Training until validation scores don't improve for 10 rounds\n"
     ]
    },
    {
     "name": "stderr",
     "output_type": "stream",
     "text": [
      "num_leaves, val_score: 0.453705:  40%|####      | 8/20 [00:52<01:23,  6.96s/it]\u001b[32m[I 2022-08-07 18:01:04,520]\u001b[0m Trial 14 finished with value: 0.45977859871494414 and parameters: {'num_leaves': 212}. Best is trial 12 with value: 0.45410908459289756.\u001b[0m\n",
      "num_leaves, val_score: 0.453705:  40%|####      | 8/20 [00:52<01:23,  6.96s/it]"
     ]
    },
    {
     "name": "stdout",
     "output_type": "stream",
     "text": [
      "Early stopping, best iteration is:\n",
      "[59]\tvalid_0's binary_logloss: 0.327758\tvalid_1's binary_logloss: 0.459779\n",
      "[LightGBM] [Info] Number of positive: 20339, number of negative: 73015\n",
      "[LightGBM] [Warning] Auto-choosing row-wise multi-threading, the overhead of testing was 0.005732 seconds.\n",
      "You can set `force_row_wise=true` to remove the overhead.\n",
      "And if memory is not enough, you can set `force_col_wise=true`.\n",
      "[LightGBM] [Info] Total Bins 37923\n",
      "[LightGBM] [Info] Number of data points in the train set: 93354, number of used features: 222\n",
      "[LightGBM] [Info] [binary:BoostFromScore]: pavg=0.217870 -> initscore=-1.278125\n",
      "[LightGBM] [Info] Start training from score -1.278125\n",
      "Training until validation scores don't improve for 10 rounds\n",
      "[100]\tvalid_0's binary_logloss: 0.408692\tvalid_1's binary_logloss: 0.454638\n"
     ]
    },
    {
     "name": "stderr",
     "output_type": "stream",
     "text": [
      "num_leaves, val_score: 0.453705:  45%|####5     | 9/20 [00:58<01:10,  6.38s/it]\u001b[32m[I 2022-08-07 18:01:09,636]\u001b[0m Trial 15 finished with value: 0.45447510051496154 and parameters: {'num_leaves': 36}. Best is trial 12 with value: 0.45410908459289756.\u001b[0m\n",
      "num_leaves, val_score: 0.453705:  45%|####5     | 9/20 [00:58<01:10,  6.38s/it]"
     ]
    },
    {
     "name": "stdout",
     "output_type": "stream",
     "text": [
      "Early stopping, best iteration is:\n",
      "[110]\tvalid_0's binary_logloss: 0.404917\tvalid_1's binary_logloss: 0.454475\n",
      "[LightGBM] [Info] Number of positive: 20339, number of negative: 73015\n",
      "[LightGBM] [Warning] Auto-choosing row-wise multi-threading, the overhead of testing was 0.006049 seconds.\n",
      "You can set `force_row_wise=true` to remove the overhead.\n",
      "And if memory is not enough, you can set `force_col_wise=true`.\n",
      "[LightGBM] [Info] Total Bins 37923\n",
      "[LightGBM] [Info] Number of data points in the train set: 93354, number of used features: 222\n",
      "[LightGBM] [Info] [binary:BoostFromScore]: pavg=0.217870 -> initscore=-1.278125\n",
      "[LightGBM] [Info] Start training from score -1.278125\n",
      "Training until validation scores don't improve for 10 rounds\n"
     ]
    },
    {
     "name": "stderr",
     "output_type": "stream",
     "text": [
      "num_leaves, val_score: 0.453705:  50%|#####     | 10/20 [01:04<01:04,  6.46s/it]\u001b[32m[I 2022-08-07 18:01:16,282]\u001b[0m Trial 16 finished with value: 0.45759452502797643 and parameters: {'num_leaves': 148}. Best is trial 12 with value: 0.45410908459289756.\u001b[0m\n",
      "num_leaves, val_score: 0.453705:  50%|#####     | 10/20 [01:04<01:04,  6.46s/it]"
     ]
    },
    {
     "name": "stdout",
     "output_type": "stream",
     "text": [
      "Early stopping, best iteration is:\n",
      "[62]\tvalid_0's binary_logloss: 0.354291\tvalid_1's binary_logloss: 0.457595\n",
      "[LightGBM] [Info] Number of positive: 20339, number of negative: 73015\n",
      "[LightGBM] [Warning] Auto-choosing row-wise multi-threading, the overhead of testing was 0.007778 seconds.\n",
      "You can set `force_row_wise=true` to remove the overhead.\n",
      "And if memory is not enough, you can set `force_col_wise=true`.\n",
      "[LightGBM] [Info] Total Bins 37923\n",
      "[LightGBM] [Info] Number of data points in the train set: 93354, number of used features: 222\n",
      "[LightGBM] [Info] [binary:BoostFromScore]: pavg=0.217870 -> initscore=-1.278125\n",
      "[LightGBM] [Info] Start training from score -1.278125\n",
      "Training until validation scores don't improve for 10 rounds\n"
     ]
    },
    {
     "name": "stderr",
     "output_type": "stream",
     "text": [
      "num_leaves, val_score: 0.453705:  55%|#####5    | 11/20 [01:10<00:56,  6.22s/it]\u001b[32m[I 2022-08-07 18:01:21,965]\u001b[0m Trial 17 finished with value: 0.4558321663036105 and parameters: {'num_leaves': 68}. Best is trial 12 with value: 0.45410908459289756.\u001b[0m\n",
      "num_leaves, val_score: 0.453705:  55%|#####5    | 11/20 [01:10<00:56,  6.22s/it]"
     ]
    },
    {
     "name": "stdout",
     "output_type": "stream",
     "text": [
      "[100]\tvalid_0's binary_logloss: 0.376082\tvalid_1's binary_logloss: 0.456018\n",
      "Early stopping, best iteration is:\n",
      "[91]\tvalid_0's binary_logloss: 0.38159\tvalid_1's binary_logloss: 0.455832\n",
      "[LightGBM] [Info] Number of positive: 20339, number of negative: 73015\n",
      "[LightGBM] [Warning] Auto-choosing row-wise multi-threading, the overhead of testing was 0.005143 seconds.\n",
      "You can set `force_row_wise=true` to remove the overhead.\n",
      "And if memory is not enough, you can set `force_col_wise=true`.\n",
      "[LightGBM] [Info] Total Bins 37923\n",
      "[LightGBM] [Info] Number of data points in the train set: 93354, number of used features: 222\n",
      "[LightGBM] [Info] [binary:BoostFromScore]: pavg=0.217870 -> initscore=-1.278125\n",
      "[LightGBM] [Info] Start training from score -1.278125\n",
      "Training until validation scores don't improve for 10 rounds\n",
      "[100]\tvalid_0's binary_logloss: 0.438619\tvalid_1's binary_logloss: 0.457146\n",
      "[200]\tvalid_0's binary_logloss: 0.424452\tvalid_1's binary_logloss: 0.455076\n"
     ]
    },
    {
     "name": "stderr",
     "output_type": "stream",
     "text": [
      "num_leaves, val_score: 0.453705:  60%|######    | 12/20 [01:15<00:47,  5.99s/it]\u001b[32m[I 2022-08-07 18:01:27,435]\u001b[0m Trial 18 finished with value: 0.454972929174362 and parameters: {'num_leaves': 12}. Best is trial 12 with value: 0.45410908459289756.\u001b[0m\n",
      "num_leaves, val_score: 0.453705:  60%|######    | 12/20 [01:15<00:47,  5.99s/it]"
     ]
    },
    {
     "name": "stdout",
     "output_type": "stream",
     "text": [
      "Early stopping, best iteration is:\n",
      "[220]\tvalid_0's binary_logloss: 0.422029\tvalid_1's binary_logloss: 0.454973\n",
      "[LightGBM] [Info] Number of positive: 20339, number of negative: 73015\n",
      "[LightGBM] [Warning] Auto-choosing row-wise multi-threading, the overhead of testing was 0.006555 seconds.\n",
      "You can set `force_row_wise=true` to remove the overhead.\n",
      "And if memory is not enough, you can set `force_col_wise=true`.\n",
      "[LightGBM] [Info] Total Bins 37923\n",
      "[LightGBM] [Info] Number of data points in the train set: 93354, number of used features: 222\n",
      "[LightGBM] [Info] [binary:BoostFromScore]: pavg=0.217870 -> initscore=-1.278125\n",
      "[LightGBM] [Info] Start training from score -1.278125\n",
      "Training until validation scores don't improve for 10 rounds\n"
     ]
    },
    {
     "name": "stderr",
     "output_type": "stream",
     "text": [
      "num_leaves, val_score: 0.453705:  65%|######5   | 13/20 [01:20<00:39,  5.60s/it]\u001b[32m[I 2022-08-07 18:01:32,131]\u001b[0m Trial 19 finished with value: 0.4549370843020322 and parameters: {'num_leaves': 48}. Best is trial 12 with value: 0.45410908459289756.\u001b[0m\n",
      "num_leaves, val_score: 0.453705:  65%|######5   | 13/20 [01:20<00:39,  5.60s/it]"
     ]
    },
    {
     "name": "stdout",
     "output_type": "stream",
     "text": [
      "Early stopping, best iteration is:\n",
      "[83]\tvalid_0's binary_logloss: 0.404087\tvalid_1's binary_logloss: 0.454937\n",
      "[LightGBM] [Info] Number of positive: 20339, number of negative: 73015\n",
      "[LightGBM] [Warning] Auto-choosing row-wise multi-threading, the overhead of testing was 0.005343 seconds.\n",
      "You can set `force_row_wise=true` to remove the overhead.\n",
      "And if memory is not enough, you can set `force_col_wise=true`.\n",
      "[LightGBM] [Info] Total Bins 37923\n",
      "[LightGBM] [Info] Number of data points in the train set: 93354, number of used features: 222\n",
      "[LightGBM] [Info] [binary:BoostFromScore]: pavg=0.217870 -> initscore=-1.278125\n",
      "[LightGBM] [Info] Start training from score -1.278125\n",
      "Training until validation scores don't improve for 10 rounds\n",
      "[100]\tvalid_0's binary_logloss: 0.408692\tvalid_1's binary_logloss: 0.454638\n"
     ]
    },
    {
     "name": "stderr",
     "output_type": "stream",
     "text": [
      "num_leaves, val_score: 0.453705:  70%|#######   | 14/20 [01:25<00:32,  5.46s/it]\u001b[32m[I 2022-08-07 18:01:37,278]\u001b[0m Trial 20 finished with value: 0.45447510051496154 and parameters: {'num_leaves': 36}. Best is trial 12 with value: 0.45410908459289756.\u001b[0m\n",
      "num_leaves, val_score: 0.453705:  70%|#######   | 14/20 [01:25<00:32,  5.46s/it]"
     ]
    },
    {
     "name": "stdout",
     "output_type": "stream",
     "text": [
      "Early stopping, best iteration is:\n",
      "[110]\tvalid_0's binary_logloss: 0.404917\tvalid_1's binary_logloss: 0.454475\n",
      "[LightGBM] [Info] Number of positive: 20339, number of negative: 73015\n",
      "[LightGBM] [Warning] Auto-choosing row-wise multi-threading, the overhead of testing was 0.006719 seconds.\n",
      "You can set `force_row_wise=true` to remove the overhead.\n",
      "And if memory is not enough, you can set `force_col_wise=true`.\n",
      "[LightGBM] [Info] Total Bins 37923\n",
      "[LightGBM] [Info] Number of data points in the train set: 93354, number of used features: 222\n",
      "[LightGBM] [Info] [binary:BoostFromScore]: pavg=0.217870 -> initscore=-1.278125\n",
      "[LightGBM] [Info] Start training from score -1.278125\n",
      "Training until validation scores don't improve for 10 rounds\n"
     ]
    },
    {
     "name": "stderr",
     "output_type": "stream",
     "text": [
      "num_leaves, val_score: 0.453705:  75%|#######5  | 15/20 [01:31<00:28,  5.72s/it]\u001b[32m[I 2022-08-07 18:01:43,597]\u001b[0m Trial 21 finished with value: 0.45724341032078325 and parameters: {'num_leaves': 102}. Best is trial 12 with value: 0.45410908459289756.\u001b[0m\n",
      "num_leaves, val_score: 0.453705:  75%|#######5  | 15/20 [01:31<00:28,  5.72s/it]"
     ]
    },
    {
     "name": "stdout",
     "output_type": "stream",
     "text": [
      "[100]\tvalid_0's binary_logloss: 0.345996\tvalid_1's binary_logloss: 0.457491\n",
      "Early stopping, best iteration is:\n",
      "[91]\tvalid_0's binary_logloss: 0.352887\tvalid_1's binary_logloss: 0.457243\n",
      "[LightGBM] [Info] Number of positive: 20339, number of negative: 73015\n",
      "[LightGBM] [Warning] Auto-choosing col-wise multi-threading, the overhead of testing was 0.057057 seconds.\n",
      "You can set `force_col_wise=true` to remove the overhead.\n",
      "[LightGBM] [Info] Total Bins 37923\n",
      "[LightGBM] [Info] Number of data points in the train set: 93354, number of used features: 222\n",
      "[LightGBM] [Info] [binary:BoostFromScore]: pavg=0.217870 -> initscore=-1.278125\n",
      "[LightGBM] [Info] Start training from score -1.278125\n",
      "Training until validation scores don't improve for 10 rounds\n"
     ]
    },
    {
     "name": "stderr",
     "output_type": "stream",
     "text": [
      "num_leaves, val_score: 0.453705:  80%|########  | 16/20 [01:38<00:24,  6.05s/it]\u001b[32m[I 2022-08-07 18:01:50,397]\u001b[0m Trial 22 finished with value: 0.46163970377195623 and parameters: {'num_leaves': 254}. Best is trial 12 with value: 0.45410908459289756.\u001b[0m\n",
      "num_leaves, val_score: 0.453705:  80%|########  | 16/20 [01:38<00:24,  6.05s/it]"
     ]
    },
    {
     "name": "stdout",
     "output_type": "stream",
     "text": [
      "Early stopping, best iteration is:\n",
      "[57]\tvalid_0's binary_logloss: 0.313785\tvalid_1's binary_logloss: 0.46164\n",
      "[LightGBM] [Info] Number of positive: 20339, number of negative: 73015\n",
      "[LightGBM] [Warning] Auto-choosing row-wise multi-threading, the overhead of testing was 0.005769 seconds.\n",
      "You can set `force_row_wise=true` to remove the overhead.\n",
      "And if memory is not enough, you can set `force_col_wise=true`.\n",
      "[LightGBM] [Info] Total Bins 37923\n",
      "[LightGBM] [Info] Number of data points in the train set: 93354, number of used features: 222\n",
      "[LightGBM] [Info] [binary:BoostFromScore]: pavg=0.217870 -> initscore=-1.278125\n",
      "[LightGBM] [Info] Start training from score -1.278125\n",
      "Training until validation scores don't improve for 10 rounds\n"
     ]
    },
    {
     "name": "stderr",
     "output_type": "stream",
     "text": [
      "num_leaves, val_score: 0.453705:  85%|########5 | 17/20 [01:44<00:18,  6.09s/it]\u001b[32m[I 2022-08-07 18:01:56,603]\u001b[0m Trial 23 finished with value: 0.45611236475891137 and parameters: {'num_leaves': 85}. Best is trial 12 with value: 0.45410908459289756.\u001b[0m\n",
      "num_leaves, val_score: 0.453705:  85%|########5 | 17/20 [01:44<00:18,  6.09s/it]"
     ]
    },
    {
     "name": "stdout",
     "output_type": "stream",
     "text": [
      "Early stopping, best iteration is:\n",
      "[77]\tvalid_0's binary_logloss: 0.377886\tvalid_1's binary_logloss: 0.456112\n",
      "[LightGBM] [Info] Number of positive: 20339, number of negative: 73015\n",
      "[LightGBM] [Warning] Auto-choosing row-wise multi-threading, the overhead of testing was 0.006959 seconds.\n",
      "You can set `force_row_wise=true` to remove the overhead.\n",
      "And if memory is not enough, you can set `force_col_wise=true`.\n",
      "[LightGBM] [Info] Total Bins 37923\n",
      "[LightGBM] [Info] Number of data points in the train set: 93354, number of used features: 222\n",
      "[LightGBM] [Info] [binary:BoostFromScore]: pavg=0.217870 -> initscore=-1.278125\n",
      "[LightGBM] [Info] Start training from score -1.278125\n",
      "Training until validation scores don't improve for 10 rounds\n",
      "[100]\tvalid_0's binary_logloss: 0.41183\tvalid_1's binary_logloss: 0.454732\n"
     ]
    },
    {
     "name": "stderr",
     "output_type": "stream",
     "text": [
      "num_leaves, val_score: 0.453705:  90%|######### | 18/20 [01:50<00:11,  5.85s/it]\u001b[32m[I 2022-08-07 18:02:01,875]\u001b[0m Trial 24 finished with value: 0.45410908459289756 and parameters: {'num_leaves': 33}. Best is trial 12 with value: 0.45410908459289756.\u001b[0m\n",
      "num_leaves, val_score: 0.453705:  90%|######### | 18/20 [01:50<00:11,  5.85s/it]"
     ]
    },
    {
     "name": "stdout",
     "output_type": "stream",
     "text": [
      "Early stopping, best iteration is:\n",
      "[117]\tvalid_0's binary_logloss: 0.405688\tvalid_1's binary_logloss: 0.454109\n",
      "[LightGBM] [Info] Number of positive: 20339, number of negative: 73015\n",
      "[LightGBM] [Warning] Auto-choosing row-wise multi-threading, the overhead of testing was 0.005381 seconds.\n",
      "You can set `force_row_wise=true` to remove the overhead.\n",
      "And if memory is not enough, you can set `force_col_wise=true`.\n",
      "[LightGBM] [Info] Total Bins 37923\n",
      "[LightGBM] [Info] Number of data points in the train set: 93354, number of used features: 222\n",
      "[LightGBM] [Info] [binary:BoostFromScore]: pavg=0.217870 -> initscore=-1.278125\n",
      "[LightGBM] [Info] Start training from score -1.278125\n",
      "Training until validation scores don't improve for 10 rounds\n"
     ]
    },
    {
     "name": "stderr",
     "output_type": "stream",
     "text": [
      "num_leaves, val_score: 0.453705:  95%|#########5| 19/20 [01:55<00:05,  5.68s/it]\u001b[32m[I 2022-08-07 18:02:07,161]\u001b[0m Trial 25 finished with value: 0.45499122695377936 and parameters: {'num_leaves': 51}. Best is trial 12 with value: 0.45410908459289756.\u001b[0m\n",
      "num_leaves, val_score: 0.453705:  95%|#########5| 19/20 [01:55<00:05,  5.68s/it]"
     ]
    },
    {
     "name": "stdout",
     "output_type": "stream",
     "text": [
      "[100]\tvalid_0's binary_logloss: 0.392783\tvalid_1's binary_logloss: 0.455171\n",
      "Early stopping, best iteration is:\n",
      "[91]\tvalid_0's binary_logloss: 0.397276\tvalid_1's binary_logloss: 0.454991\n",
      "[LightGBM] [Info] Number of positive: 20339, number of negative: 73015\n",
      "[LightGBM] [Warning] Auto-choosing row-wise multi-threading, the overhead of testing was 0.005121 seconds.\n",
      "You can set `force_row_wise=true` to remove the overhead.\n",
      "And if memory is not enough, you can set `force_col_wise=true`.\n",
      "[LightGBM] [Info] Total Bins 37923\n",
      "[LightGBM] [Info] Number of data points in the train set: 93354, number of used features: 222\n",
      "[LightGBM] [Info] [binary:BoostFromScore]: pavg=0.217870 -> initscore=-1.278125\n",
      "[LightGBM] [Info] Start training from score -1.278125\n",
      "Training until validation scores don't improve for 10 rounds\n",
      "[100]\tvalid_0's binary_logloss: 0.427265\tvalid_1's binary_logloss: 0.455562\n"
     ]
    },
    {
     "name": "stderr",
     "output_type": "stream",
     "text": [
      "num_leaves, val_score: 0.453705: 100%|##########| 20/20 [02:01<00:00,  5.79s/it]\u001b[32m[I 2022-08-07 18:02:13,204]\u001b[0m Trial 26 finished with value: 0.4541963231115324 and parameters: {'num_leaves': 20}. Best is trial 12 with value: 0.45410908459289756.\u001b[0m\n",
      "num_leaves, val_score: 0.453705: 100%|##########| 20/20 [02:01<00:00,  6.08s/it]\n"
     ]
    },
    {
     "name": "stdout",
     "output_type": "stream",
     "text": [
      "Early stopping, best iteration is:\n",
      "[162]\tvalid_0's binary_logloss: 0.413525\tvalid_1's binary_logloss: 0.454196\n"
     ]
    },
    {
     "name": "stderr",
     "output_type": "stream",
     "text": [
      "bagging, val_score: 0.453705:   0%|          | 0/10 [00:00<?, ?it/s]"
     ]
    },
    {
     "name": "stdout",
     "output_type": "stream",
     "text": [
      "[LightGBM] [Info] Number of positive: 20339, number of negative: 73015\n",
      "[LightGBM] [Warning] Auto-choosing row-wise multi-threading, the overhead of testing was 0.006509 seconds.\n",
      "You can set `force_row_wise=true` to remove the overhead.\n",
      "And if memory is not enough, you can set `force_col_wise=true`.\n",
      "[LightGBM] [Info] Total Bins 37923\n",
      "[LightGBM] [Info] Number of data points in the train set: 93354, number of used features: 222\n",
      "[LightGBM] [Info] [binary:BoostFromScore]: pavg=0.217870 -> initscore=-1.278125\n",
      "[LightGBM] [Info] Start training from score -1.278125\n",
      "Training until validation scores don't improve for 10 rounds\n",
      "[100]\tvalid_0's binary_logloss: 0.414137\tvalid_1's binary_logloss: 0.456141\n"
     ]
    },
    {
     "name": "stderr",
     "output_type": "stream",
     "text": [
      "bagging, val_score: 0.453705:  10%|#         | 1/10 [00:05<00:45,  5.01s/it]\u001b[32m[I 2022-08-07 18:02:18,223]\u001b[0m Trial 27 finished with value: 0.4555460188490296 and parameters: {'bagging_fraction': 0.7260429650751228, 'bagging_freq': 2}. Best is trial 27 with value: 0.4555460188490296.\u001b[0m\n",
      "bagging, val_score: 0.453705:  10%|#         | 1/10 [00:05<00:45,  5.01s/it]"
     ]
    },
    {
     "name": "stdout",
     "output_type": "stream",
     "text": [
      "Early stopping, best iteration is:\n",
      "[120]\tvalid_0's binary_logloss: 0.407256\tvalid_1's binary_logloss: 0.455546\n",
      "[LightGBM] [Info] Number of positive: 20339, number of negative: 73015\n",
      "[LightGBM] [Warning] Auto-choosing row-wise multi-threading, the overhead of testing was 0.005211 seconds.\n",
      "You can set `force_row_wise=true` to remove the overhead.\n",
      "And if memory is not enough, you can set `force_col_wise=true`.\n",
      "[LightGBM] [Info] Total Bins 37923\n",
      "[LightGBM] [Info] Number of data points in the train set: 93354, number of used features: 222\n",
      "[LightGBM] [Info] [binary:BoostFromScore]: pavg=0.217870 -> initscore=-1.278125\n",
      "[LightGBM] [Info] Start training from score -1.278125\n",
      "Training until validation scores don't improve for 10 rounds\n"
     ]
    },
    {
     "name": "stderr",
     "output_type": "stream",
     "text": [
      "bagging, val_score: 0.453705:  20%|##        | 2/10 [00:09<00:36,  4.51s/it]\u001b[32m[I 2022-08-07 18:02:22,377]\u001b[0m Trial 28 finished with value: 0.45675577462219663 and parameters: {'bagging_fraction': 0.6547105544499044, 'bagging_freq': 6}. Best is trial 27 with value: 0.4555460188490296.\u001b[0m\n",
      "bagging, val_score: 0.453705:  20%|##        | 2/10 [00:09<00:36,  4.51s/it]"
     ]
    },
    {
     "name": "stdout",
     "output_type": "stream",
     "text": [
      "Early stopping, best iteration is:\n",
      "[86]\tvalid_0's binary_logloss: 0.419724\tvalid_1's binary_logloss: 0.456756\n",
      "[LightGBM] [Info] Number of positive: 20339, number of negative: 73015\n",
      "[LightGBM] [Warning] Auto-choosing row-wise multi-threading, the overhead of testing was 0.004759 seconds.\n",
      "You can set `force_row_wise=true` to remove the overhead.\n",
      "And if memory is not enough, you can set `force_col_wise=true`.\n",
      "[LightGBM] [Info] Total Bins 37923\n",
      "[LightGBM] [Info] Number of data points in the train set: 93354, number of used features: 222\n",
      "[LightGBM] [Info] [binary:BoostFromScore]: pavg=0.217870 -> initscore=-1.278125\n",
      "[LightGBM] [Info] Start training from score -1.278125\n",
      "Training until validation scores don't improve for 10 rounds\n",
      "[100]\tvalid_0's binary_logloss: 0.416896\tvalid_1's binary_logloss: 0.459794\n"
     ]
    },
    {
     "name": "stderr",
     "output_type": "stream",
     "text": [
      "bagging, val_score: 0.453705:  30%|###       | 3/10 [00:13<00:31,  4.45s/it]\u001b[32m[I 2022-08-07 18:02:26,755]\u001b[0m Trial 29 finished with value: 0.45959364667889163 and parameters: {'bagging_fraction': 0.4028313137145883, 'bagging_freq': 1}. Best is trial 27 with value: 0.4555460188490296.\u001b[0m\n",
      "bagging, val_score: 0.453705:  30%|###       | 3/10 [00:13<00:31,  4.45s/it]"
     ]
    },
    {
     "name": "stdout",
     "output_type": "stream",
     "text": [
      "Early stopping, best iteration is:\n",
      "[108]\tvalid_0's binary_logloss: 0.413909\tvalid_1's binary_logloss: 0.459594\n",
      "[LightGBM] [Info] Number of positive: 20339, number of negative: 73015\n",
      "[LightGBM] [Warning] Auto-choosing col-wise multi-threading, the overhead of testing was 0.057790 seconds.\n",
      "You can set `force_col_wise=true` to remove the overhead.\n",
      "[LightGBM] [Info] Total Bins 37923\n",
      "[LightGBM] [Info] Number of data points in the train set: 93354, number of used features: 222\n",
      "[LightGBM] [Info] [binary:BoostFromScore]: pavg=0.217870 -> initscore=-1.278125\n",
      "[LightGBM] [Info] Start training from score -1.278125\n",
      "Training until validation scores don't improve for 10 rounds\n",
      "[100]\tvalid_0's binary_logloss: 0.414594\tvalid_1's binary_logloss: 0.456056\n"
     ]
    },
    {
     "name": "stderr",
     "output_type": "stream",
     "text": [
      "bagging, val_score: 0.453705:  40%|####      | 4/10 [00:17<00:26,  4.39s/it]\u001b[32m[I 2022-08-07 18:02:31,056]\u001b[0m Trial 30 finished with value: 0.45593645011426 and parameters: {'bagging_fraction': 0.802449450836738, 'bagging_freq': 6}. Best is trial 27 with value: 0.4555460188490296.\u001b[0m\n",
      "bagging, val_score: 0.453705:  40%|####      | 4/10 [00:17<00:26,  4.39s/it]"
     ]
    },
    {
     "name": "stdout",
     "output_type": "stream",
     "text": [
      "Early stopping, best iteration is:\n",
      "[102]\tvalid_0's binary_logloss: 0.413775\tvalid_1's binary_logloss: 0.455936\n",
      "[LightGBM] [Info] Number of positive: 20339, number of negative: 73015\n",
      "[LightGBM] [Warning] Auto-choosing row-wise multi-threading, the overhead of testing was 0.007917 seconds.\n",
      "You can set `force_row_wise=true` to remove the overhead.\n",
      "And if memory is not enough, you can set `force_col_wise=true`.\n",
      "[LightGBM] [Info] Total Bins 37923\n",
      "[LightGBM] [Info] Number of data points in the train set: 93354, number of used features: 222\n",
      "[LightGBM] [Info] [binary:BoostFromScore]: pavg=0.217870 -> initscore=-1.278125\n",
      "[LightGBM] [Info] Start training from score -1.278125\n",
      "Training until validation scores don't improve for 10 rounds\n"
     ]
    },
    {
     "name": "stderr",
     "output_type": "stream",
     "text": [
      "bagging, val_score: 0.453705:  50%|#####     | 5/10 [00:21<00:21,  4.25s/it]\u001b[32m[I 2022-08-07 18:02:35,046]\u001b[0m Trial 31 finished with value: 0.458270183822951 and parameters: {'bagging_fraction': 0.4820239538111085, 'bagging_freq': 5}. Best is trial 27 with value: 0.4555460188490296.\u001b[0m\n",
      "bagging, val_score: 0.453705:  50%|#####     | 5/10 [00:21<00:21,  4.25s/it]"
     ]
    },
    {
     "name": "stdout",
     "output_type": "stream",
     "text": [
      "Early stopping, best iteration is:\n",
      "[83]\tvalid_0's binary_logloss: 0.421739\tvalid_1's binary_logloss: 0.45827\n",
      "[LightGBM] [Info] Number of positive: 20339, number of negative: 73015\n",
      "[LightGBM] [Warning] Auto-choosing row-wise multi-threading, the overhead of testing was 0.005001 seconds.\n",
      "You can set `force_row_wise=true` to remove the overhead.\n",
      "And if memory is not enough, you can set `force_col_wise=true`.\n",
      "[LightGBM] [Info] Total Bins 37923\n",
      "[LightGBM] [Info] Number of data points in the train set: 93354, number of used features: 222\n",
      "[LightGBM] [Info] [binary:BoostFromScore]: pavg=0.217870 -> initscore=-1.278125\n",
      "[LightGBM] [Info] Start training from score -1.278125\n",
      "Training until validation scores don't improve for 10 rounds\n",
      "[100]\tvalid_0's binary_logloss: 0.414042\tvalid_1's binary_logloss: 0.455596\n"
     ]
    },
    {
     "name": "stderr",
     "output_type": "stream",
     "text": [
      "bagging, val_score: 0.453705:  60%|######    | 6/10 [00:26<00:17,  4.35s/it]\u001b[32m[I 2022-08-07 18:02:39,590]\u001b[0m Trial 32 finished with value: 0.4554458294308166 and parameters: {'bagging_fraction': 0.9347931725882498, 'bagging_freq': 2}. Best is trial 32 with value: 0.4554458294308166.\u001b[0m\n",
      "bagging, val_score: 0.453705:  60%|######    | 6/10 [00:26<00:17,  4.35s/it]"
     ]
    },
    {
     "name": "stdout",
     "output_type": "stream",
     "text": [
      "Early stopping, best iteration is:\n",
      "[106]\tvalid_0's binary_logloss: 0.411863\tvalid_1's binary_logloss: 0.455446\n",
      "[LightGBM] [Info] Number of positive: 20339, number of negative: 73015\n",
      "[LightGBM] [Warning] Auto-choosing row-wise multi-threading, the overhead of testing was 0.005597 seconds.\n",
      "You can set `force_row_wise=true` to remove the overhead.\n",
      "And if memory is not enough, you can set `force_col_wise=true`.\n",
      "[LightGBM] [Info] Total Bins 37923\n",
      "[LightGBM] [Info] Number of data points in the train set: 93354, number of used features: 222\n",
      "[LightGBM] [Info] [binary:BoostFromScore]: pavg=0.217870 -> initscore=-1.278125\n",
      "[LightGBM] [Info] Start training from score -1.278125\n",
      "Training until validation scores don't improve for 10 rounds\n"
     ]
    },
    {
     "name": "stderr",
     "output_type": "stream",
     "text": [
      "bagging, val_score: 0.453705:  70%|#######   | 7/10 [00:30<00:12,  4.21s/it]\u001b[32m[I 2022-08-07 18:02:43,505]\u001b[0m Trial 33 finished with value: 0.458692292369691 and parameters: {'bagging_fraction': 0.5111969317302304, 'bagging_freq': 1}. Best is trial 32 with value: 0.4554458294308166.\u001b[0m\n",
      "bagging, val_score: 0.453705:  70%|#######   | 7/10 [00:30<00:12,  4.21s/it]"
     ]
    },
    {
     "name": "stdout",
     "output_type": "stream",
     "text": [
      "Early stopping, best iteration is:\n",
      "[85]\tvalid_0's binary_logloss: 0.421102\tvalid_1's binary_logloss: 0.458692\n",
      "[LightGBM] [Info] Number of positive: 20339, number of negative: 73015\n",
      "[LightGBM] [Warning] Auto-choosing row-wise multi-threading, the overhead of testing was 0.005089 seconds.\n",
      "You can set `force_row_wise=true` to remove the overhead.\n",
      "And if memory is not enough, you can set `force_col_wise=true`.\n",
      "[LightGBM] [Info] Total Bins 37923\n",
      "[LightGBM] [Info] Number of data points in the train set: 93354, number of used features: 222\n",
      "[LightGBM] [Info] [binary:BoostFromScore]: pavg=0.217870 -> initscore=-1.278125\n",
      "[LightGBM] [Info] Start training from score -1.278125\n",
      "Training until validation scores don't improve for 10 rounds\n",
      "[100]\tvalid_0's binary_logloss: 0.415438\tvalid_1's binary_logloss: 0.457731\n"
     ]
    },
    {
     "name": "stderr",
     "output_type": "stream",
     "text": [
      "bagging, val_score: 0.453705:  80%|########  | 8/10 [00:35<00:08,  4.38s/it]\u001b[32m[I 2022-08-07 18:02:48,265]\u001b[0m Trial 34 finished with value: 0.4572879555654544 and parameters: {'bagging_fraction': 0.531818495575215, 'bagging_freq': 7}. Best is trial 32 with value: 0.4554458294308166.\u001b[0m\n",
      "bagging, val_score: 0.453705:  80%|########  | 8/10 [00:35<00:08,  4.38s/it]"
     ]
    },
    {
     "name": "stdout",
     "output_type": "stream",
     "text": [
      "Early stopping, best iteration is:\n",
      "[121]\tvalid_0's binary_logloss: 0.408549\tvalid_1's binary_logloss: 0.457288\n",
      "[LightGBM] [Info] Number of positive: 20339, number of negative: 73015\n",
      "[LightGBM] [Warning] Auto-choosing col-wise multi-threading, the overhead of testing was 0.056093 seconds.\n",
      "You can set `force_col_wise=true` to remove the overhead.\n",
      "[LightGBM] [Info] Total Bins 37923\n",
      "[LightGBM] [Info] Number of data points in the train set: 93354, number of used features: 222\n",
      "[LightGBM] [Info] [binary:BoostFromScore]: pavg=0.217870 -> initscore=-1.278125\n",
      "[LightGBM] [Info] Start training from score -1.278125\n",
      "Training until validation scores don't improve for 10 rounds\n",
      "[100]\tvalid_0's binary_logloss: 0.41471\tvalid_1's binary_logloss: 0.455995\n"
     ]
    },
    {
     "name": "stderr",
     "output_type": "stream",
     "text": [
      "bagging, val_score: 0.453705:  90%|######### | 9/10 [00:39<00:04,  4.46s/it]\u001b[32m[I 2022-08-07 18:02:52,914]\u001b[0m Trial 35 finished with value: 0.4556141861735395 and parameters: {'bagging_fraction': 0.8870098894544057, 'bagging_freq': 2}. Best is trial 32 with value: 0.4554458294308166.\u001b[0m\n",
      "bagging, val_score: 0.453705:  90%|######### | 9/10 [00:39<00:04,  4.46s/it]"
     ]
    },
    {
     "name": "stdout",
     "output_type": "stream",
     "text": [
      "Early stopping, best iteration is:\n",
      "[106]\tvalid_0's binary_logloss: 0.412442\tvalid_1's binary_logloss: 0.455614\n",
      "[LightGBM] [Info] Number of positive: 20339, number of negative: 73015\n",
      "[LightGBM] [Warning] Auto-choosing row-wise multi-threading, the overhead of testing was 0.005312 seconds.\n",
      "You can set `force_row_wise=true` to remove the overhead.\n",
      "And if memory is not enough, you can set `force_col_wise=true`.\n",
      "[LightGBM] [Info] Total Bins 37923\n",
      "[LightGBM] [Info] Number of data points in the train set: 93354, number of used features: 222\n",
      "[LightGBM] [Info] [binary:BoostFromScore]: pavg=0.217870 -> initscore=-1.278125\n",
      "[LightGBM] [Info] Start training from score -1.278125\n",
      "Training until validation scores don't improve for 10 rounds\n",
      "[100]\tvalid_0's binary_logloss: 0.41432\tvalid_1's binary_logloss: 0.455649\n"
     ]
    },
    {
     "name": "stderr",
     "output_type": "stream",
     "text": [
      "bagging, val_score: 0.453705: 100%|##########| 10/10 [00:45<00:00,  4.75s/it]\u001b[32m[I 2022-08-07 18:02:58,303]\u001b[0m Trial 36 finished with value: 0.45526400591566074 and parameters: {'bagging_fraction': 0.8897348492363203, 'bagging_freq': 2}. Best is trial 36 with value: 0.45526400591566074.\u001b[0m\n",
      "bagging, val_score: 0.453705: 100%|##########| 10/10 [00:45<00:00,  4.51s/it]\n"
     ]
    },
    {
     "name": "stdout",
     "output_type": "stream",
     "text": [
      "Early stopping, best iteration is:\n",
      "[118]\tvalid_0's binary_logloss: 0.408023\tvalid_1's binary_logloss: 0.455264\n"
     ]
    },
    {
     "name": "stderr",
     "output_type": "stream",
     "text": [
      "feature_fraction_stage2, val_score: 0.453705:   0%|          | 0/3 [00:00<?, ?it/s]"
     ]
    },
    {
     "name": "stdout",
     "output_type": "stream",
     "text": [
      "[LightGBM] [Info] Number of positive: 20339, number of negative: 73015\n",
      "[LightGBM] [Warning] Auto-choosing row-wise multi-threading, the overhead of testing was 0.008082 seconds.\n",
      "You can set `force_row_wise=true` to remove the overhead.\n",
      "And if memory is not enough, you can set `force_col_wise=true`.\n",
      "[LightGBM] [Info] Total Bins 37923\n",
      "[LightGBM] [Info] Number of data points in the train set: 93354, number of used features: 222\n",
      "[LightGBM] [Info] [binary:BoostFromScore]: pavg=0.217870 -> initscore=-1.278125\n",
      "[LightGBM] [Info] Start training from score -1.278125\n",
      "Training until validation scores don't improve for 10 rounds\n",
      "[100]\tvalid_0's binary_logloss: 0.414053\tvalid_1's binary_logloss: 0.454917\n"
     ]
    },
    {
     "name": "stderr",
     "output_type": "stream",
     "text": [
      "feature_fraction_stage2, val_score: 0.453705:  33%|###3      | 1/3 [00:05<00:11,  5.87s/it]\u001b[32m[I 2022-08-07 18:03:04,183]\u001b[0m Trial 37 finished with value: 0.45400488512850573 and parameters: {'feature_fraction': 0.41600000000000004}. Best is trial 37 with value: 0.45400488512850573.\u001b[0m\n",
      "feature_fraction_stage2, val_score: 0.453705:  33%|###3      | 1/3 [00:05<00:11,  5.87s/it]"
     ]
    },
    {
     "name": "stdout",
     "output_type": "stream",
     "text": [
      "Early stopping, best iteration is:\n",
      "[143]\tvalid_0's binary_logloss: 0.400034\tvalid_1's binary_logloss: 0.454005\n",
      "[LightGBM] [Info] Number of positive: 20339, number of negative: 73015\n",
      "[LightGBM] [Warning] Auto-choosing col-wise multi-threading, the overhead of testing was 0.062439 seconds.\n",
      "You can set `force_col_wise=true` to remove the overhead.\n",
      "[LightGBM] [Info] Total Bins 37923\n",
      "[LightGBM] [Info] Number of data points in the train set: 93354, number of used features: 222\n",
      "[LightGBM] [Info] [binary:BoostFromScore]: pavg=0.217870 -> initscore=-1.278125\n",
      "[LightGBM] [Info] Start training from score -1.278125\n",
      "Training until validation scores don't improve for 10 rounds\n",
      "[100]\tvalid_0's binary_logloss: 0.413195\tvalid_1's binary_logloss: 0.455091\n"
     ]
    },
    {
     "name": "stderr",
     "output_type": "stream",
     "text": [
      "feature_fraction_stage2, val_score: 0.453705:  67%|######6   | 2/3 [00:11<00:05,  5.45s/it]\u001b[32m[I 2022-08-07 18:03:09,346]\u001b[0m Trial 38 finished with value: 0.4548718588753536 and parameters: {'feature_fraction': 0.48000000000000004}. Best is trial 37 with value: 0.45400488512850573.\u001b[0m\n",
      "feature_fraction_stage2, val_score: 0.453705:  67%|######6   | 2/3 [00:11<00:05,  5.45s/it]"
     ]
    },
    {
     "name": "stdout",
     "output_type": "stream",
     "text": [
      "Early stopping, best iteration is:\n",
      "[112]\tvalid_0's binary_logloss: 0.409248\tvalid_1's binary_logloss: 0.454872\n",
      "[LightGBM] [Info] Number of positive: 20339, number of negative: 73015\n",
      "[LightGBM] [Warning] Auto-choosing row-wise multi-threading, the overhead of testing was 0.007455 seconds.\n",
      "You can set `force_row_wise=true` to remove the overhead.\n",
      "And if memory is not enough, you can set `force_col_wise=true`.\n",
      "[LightGBM] [Info] Total Bins 37923\n",
      "[LightGBM] [Info] Number of data points in the train set: 93354, number of used features: 222\n",
      "[LightGBM] [Info] [binary:BoostFromScore]: pavg=0.217870 -> initscore=-1.278125\n",
      "[LightGBM] [Info] Start training from score -1.278125\n",
      "Training until validation scores don't improve for 10 rounds\n",
      "[100]\tvalid_0's binary_logloss: 0.413529\tvalid_1's binary_logloss: 0.454974\n"
     ]
    },
    {
     "name": "stderr",
     "output_type": "stream",
     "text": [
      "feature_fraction_stage2, val_score: 0.453705: 100%|##########| 3/3 [00:16<00:00,  5.45s/it]\u001b[32m[I 2022-08-07 18:03:14,785]\u001b[0m Trial 39 finished with value: 0.45469479750386793 and parameters: {'feature_fraction': 0.44800000000000006}. Best is trial 37 with value: 0.45400488512850573.\u001b[0m\n",
      "feature_fraction_stage2, val_score: 0.453705: 100%|##########| 3/3 [00:16<00:00,  5.49s/it]\n"
     ]
    },
    {
     "name": "stdout",
     "output_type": "stream",
     "text": [
      "Early stopping, best iteration is:\n",
      "[123]\tvalid_0's binary_logloss: 0.405702\tvalid_1's binary_logloss: 0.454695\n"
     ]
    },
    {
     "name": "stderr",
     "output_type": "stream",
     "text": [
      "regularization_factors, val_score: 0.453705:   0%|          | 0/20 [00:00<?, ?it/s]"
     ]
    },
    {
     "name": "stdout",
     "output_type": "stream",
     "text": [
      "[LightGBM] [Info] Number of positive: 20339, number of negative: 73015\n",
      "[LightGBM] [Warning] Auto-choosing row-wise multi-threading, the overhead of testing was 0.007531 seconds.\n",
      "You can set `force_row_wise=true` to remove the overhead.\n",
      "And if memory is not enough, you can set `force_col_wise=true`.\n",
      "[LightGBM] [Info] Total Bins 37923\n",
      "[LightGBM] [Info] Number of data points in the train set: 93354, number of used features: 222\n",
      "[LightGBM] [Info] [binary:BoostFromScore]: pavg=0.217870 -> initscore=-1.278125\n",
      "[LightGBM] [Info] Start training from score -1.278125\n",
      "Training until validation scores don't improve for 10 rounds\n",
      "[100]\tvalid_0's binary_logloss: 0.414492\tvalid_1's binary_logloss: 0.454295\n"
     ]
    },
    {
     "name": "stderr",
     "output_type": "stream",
     "text": [
      "regularization_factors, val_score: 0.453704:   5%|5         | 1/20 [00:05<01:52,  5.91s/it]\u001b[32m[I 2022-08-07 18:03:20,708]\u001b[0m Trial 40 finished with value: 0.45370442816245915 and parameters: {'lambda_l1': 0.0007773998922821829, 'lambda_l2': 3.2012859298995277e-06}. Best is trial 40 with value: 0.45370442816245915.\u001b[0m\n",
      "regularization_factors, val_score: 0.453704:   5%|5         | 1/20 [00:05<01:52,  5.91s/it]"
     ]
    },
    {
     "name": "stdout",
     "output_type": "stream",
     "text": [
      "Early stopping, best iteration is:\n",
      "[121]\tvalid_0's binary_logloss: 0.40741\tvalid_1's binary_logloss: 0.453704\n",
      "[LightGBM] [Info] Number of positive: 20339, number of negative: 73015\n",
      "[LightGBM] [Warning] Auto-choosing row-wise multi-threading, the overhead of testing was 0.005909 seconds.\n",
      "You can set `force_row_wise=true` to remove the overhead.\n",
      "And if memory is not enough, you can set `force_col_wise=true`.\n",
      "[LightGBM] [Info] Total Bins 37923\n",
      "[LightGBM] [Info] Number of data points in the train set: 93354, number of used features: 222\n",
      "[LightGBM] [Info] [binary:BoostFromScore]: pavg=0.217870 -> initscore=-1.278125\n",
      "[LightGBM] [Info] Start training from score -1.278125\n",
      "Training until validation scores don't improve for 10 rounds\n",
      "[100]\tvalid_0's binary_logloss: 0.41528\tvalid_1's binary_logloss: 0.455081\n"
     ]
    },
    {
     "name": "stderr",
     "output_type": "stream",
     "text": [
      "regularization_factors, val_score: 0.453704:  10%|#         | 2/20 [00:12<01:49,  6.06s/it]\u001b[32m[I 2022-08-07 18:03:26,866]\u001b[0m Trial 41 finished with value: 0.4543362421187603 and parameters: {'lambda_l1': 6.616957066014342e-05, 'lambda_l2': 0.400853048601546}. Best is trial 40 with value: 0.45370442816245915.\u001b[0m\n",
      "regularization_factors, val_score: 0.453704:  10%|#         | 2/20 [00:12<01:49,  6.06s/it]"
     ]
    },
    {
     "name": "stdout",
     "output_type": "stream",
     "text": [
      "Early stopping, best iteration is:\n",
      "[144]\tvalid_0's binary_logloss: 0.4014\tvalid_1's binary_logloss: 0.454336\n",
      "[LightGBM] [Info] Number of positive: 20339, number of negative: 73015\n",
      "[LightGBM] [Warning] Auto-choosing row-wise multi-threading, the overhead of testing was 0.006142 seconds.\n",
      "You can set `force_row_wise=true` to remove the overhead.\n",
      "And if memory is not enough, you can set `force_col_wise=true`.\n",
      "[LightGBM] [Info] Total Bins 37923\n",
      "[LightGBM] [Info] Number of data points in the train set: 93354, number of used features: 222\n",
      "[LightGBM] [Info] [binary:BoostFromScore]: pavg=0.217870 -> initscore=-1.278125\n",
      "[LightGBM] [Info] Start training from score -1.278125\n",
      "Training until validation scores don't improve for 10 rounds\n",
      "[100]\tvalid_0's binary_logloss: 0.414491\tvalid_1's binary_logloss: 0.454295\n"
     ]
    },
    {
     "name": "stderr",
     "output_type": "stream",
     "text": [
      "regularization_factors, val_score: 0.453704:  15%|#5        | 3/20 [00:17<01:40,  5.91s/it]\u001b[32m[I 2022-08-07 18:03:32,597]\u001b[0m Trial 42 finished with value: 0.4537046919558989 and parameters: {'lambda_l1': 1.1027313099672533e-08, 'lambda_l2': 1.242001404761155e-07}. Best is trial 40 with value: 0.45370442816245915.\u001b[0m\n",
      "regularization_factors, val_score: 0.453704:  15%|#5        | 3/20 [00:17<01:40,  5.91s/it]"
     ]
    },
    {
     "name": "stdout",
     "output_type": "stream",
     "text": [
      "Early stopping, best iteration is:\n",
      "[121]\tvalid_0's binary_logloss: 0.407409\tvalid_1's binary_logloss: 0.453705\n",
      "[LightGBM] [Info] Number of positive: 20339, number of negative: 73015\n",
      "[LightGBM] [Warning] Auto-choosing row-wise multi-threading, the overhead of testing was 0.007026 seconds.\n",
      "You can set `force_row_wise=true` to remove the overhead.\n",
      "And if memory is not enough, you can set `force_col_wise=true`.\n",
      "[LightGBM] [Info] Total Bins 37923\n",
      "[LightGBM] [Info] Number of data points in the train set: 93354, number of used features: 222\n",
      "[LightGBM] [Info] [binary:BoostFromScore]: pavg=0.217870 -> initscore=-1.278125\n",
      "[LightGBM] [Info] Start training from score -1.278125\n",
      "Training until validation scores don't improve for 10 rounds\n",
      "[100]\tvalid_0's binary_logloss: 0.41493\tvalid_1's binary_logloss: 0.454701\n"
     ]
    },
    {
     "name": "stderr",
     "output_type": "stream",
     "text": [
      "regularization_factors, val_score: 0.453704:  20%|##        | 4/20 [00:23<01:32,  5.75s/it]\u001b[32m[I 2022-08-07 18:03:38,108]\u001b[0m Trial 43 finished with value: 0.45425055107458423 and parameters: {'lambda_l1': 0.010882827930218712, 'lambda_l2': 0.2708162972907513}. Best is trial 40 with value: 0.45370442816245915.\u001b[0m\n",
      "regularization_factors, val_score: 0.453704:  20%|##        | 4/20 [00:23<01:32,  5.75s/it]"
     ]
    },
    {
     "name": "stdout",
     "output_type": "stream",
     "text": [
      "Early stopping, best iteration is:\n",
      "[127]\tvalid_0's binary_logloss: 0.406213\tvalid_1's binary_logloss: 0.454251\n",
      "[LightGBM] [Info] Number of positive: 20339, number of negative: 73015\n",
      "[LightGBM] [Warning] Auto-choosing row-wise multi-threading, the overhead of testing was 0.006406 seconds.\n",
      "You can set `force_row_wise=true` to remove the overhead.\n",
      "And if memory is not enough, you can set `force_col_wise=true`.\n",
      "[LightGBM] [Info] Total Bins 37923\n",
      "[LightGBM] [Info] Number of data points in the train set: 93354, number of used features: 222\n",
      "[LightGBM] [Info] [binary:BoostFromScore]: pavg=0.217870 -> initscore=-1.278125\n",
      "[LightGBM] [Info] Start training from score -1.278125\n",
      "Training until validation scores don't improve for 10 rounds\n",
      "[100]\tvalid_0's binary_logloss: 0.414495\tvalid_1's binary_logloss: 0.454295\n"
     ]
    },
    {
     "name": "stderr",
     "output_type": "stream",
     "text": [
      "regularization_factors, val_score: 0.453704:  25%|##5       | 5/20 [00:28<01:22,  5.52s/it]\u001b[32m[I 2022-08-07 18:03:43,204]\u001b[0m Trial 44 finished with value: 0.45370420804341705 and parameters: {'lambda_l1': 1.6996492507894156e-07, 'lambda_l2': 0.0014991323116035308}. Best is trial 44 with value: 0.45370420804341705.\u001b[0m\n",
      "regularization_factors, val_score: 0.453704:  25%|##5       | 5/20 [00:28<01:22,  5.52s/it]"
     ]
    },
    {
     "name": "stdout",
     "output_type": "stream",
     "text": [
      "Early stopping, best iteration is:\n",
      "[121]\tvalid_0's binary_logloss: 0.407414\tvalid_1's binary_logloss: 0.453704\n",
      "[LightGBM] [Info] Number of positive: 20339, number of negative: 73015\n",
      "[LightGBM] [Warning] Auto-choosing row-wise multi-threading, the overhead of testing was 0.004479 seconds.\n",
      "You can set `force_row_wise=true` to remove the overhead.\n",
      "And if memory is not enough, you can set `force_col_wise=true`.\n",
      "[LightGBM] [Info] Total Bins 37923\n",
      "[LightGBM] [Info] Number of data points in the train set: 93354, number of used features: 222\n",
      "[LightGBM] [Info] [binary:BoostFromScore]: pavg=0.217870 -> initscore=-1.278125\n",
      "[LightGBM] [Info] Start training from score -1.278125\n",
      "Training until validation scores don't improve for 10 rounds\n",
      "[100]\tvalid_0's binary_logloss: 0.415572\tvalid_1's binary_logloss: 0.455064\n"
     ]
    },
    {
     "name": "stderr",
     "output_type": "stream",
     "text": [
      "regularization_factors, val_score: 0.453704:  30%|###       | 6/20 [00:34<01:20,  5.75s/it]\u001b[32m[I 2022-08-07 18:03:49,401]\u001b[0m Trial 45 finished with value: 0.45426953635846545 and parameters: {'lambda_l1': 1.0517138394360073, 'lambda_l2': 7.635176818135586e-07}. Best is trial 44 with value: 0.45370420804341705.\u001b[0m\n",
      "regularization_factors, val_score: 0.453704:  30%|###       | 6/20 [00:34<01:20,  5.75s/it]"
     ]
    },
    {
     "name": "stdout",
     "output_type": "stream",
     "text": [
      "Early stopping, best iteration is:\n",
      "[143]\tvalid_0's binary_logloss: 0.402006\tvalid_1's binary_logloss: 0.45427\n",
      "[LightGBM] [Info] Number of positive: 20339, number of negative: 73015\n",
      "[LightGBM] [Warning] Auto-choosing row-wise multi-threading, the overhead of testing was 0.005961 seconds.\n",
      "You can set `force_row_wise=true` to remove the overhead.\n",
      "And if memory is not enough, you can set `force_col_wise=true`.\n",
      "[LightGBM] [Info] Total Bins 37923\n",
      "[LightGBM] [Info] Number of data points in the train set: 93354, number of used features: 222\n",
      "[LightGBM] [Info] [binary:BoostFromScore]: pavg=0.217870 -> initscore=-1.278125\n",
      "[LightGBM] [Info] Start training from score -1.278125\n",
      "Training until validation scores don't improve for 10 rounds\n",
      "[100]\tvalid_0's binary_logloss: 0.414491\tvalid_1's binary_logloss: 0.454295\n"
     ]
    },
    {
     "name": "stderr",
     "output_type": "stream",
     "text": [
      "regularization_factors, val_score: 0.453704:  35%|###5      | 7/20 [00:40<01:15,  5.79s/it]\u001b[32m[I 2022-08-07 18:03:55,301]\u001b[0m Trial 46 finished with value: 0.45370469191421586 and parameters: {'lambda_l1': 4.655367559816141e-07, 'lambda_l2': 9.449134137745608e-08}. Best is trial 44 with value: 0.45370420804341705.\u001b[0m\n",
      "regularization_factors, val_score: 0.453704:  35%|###5      | 7/20 [00:40<01:15,  5.79s/it]"
     ]
    },
    {
     "name": "stdout",
     "output_type": "stream",
     "text": [
      "Early stopping, best iteration is:\n",
      "[121]\tvalid_0's binary_logloss: 0.407409\tvalid_1's binary_logloss: 0.453705\n",
      "[LightGBM] [Info] Number of positive: 20339, number of negative: 73015\n",
      "[LightGBM] [Warning] Auto-choosing row-wise multi-threading, the overhead of testing was 0.007020 seconds.\n",
      "You can set `force_row_wise=true` to remove the overhead.\n",
      "And if memory is not enough, you can set `force_col_wise=true`.\n",
      "[LightGBM] [Info] Total Bins 37923\n",
      "[LightGBM] [Info] Number of data points in the train set: 93354, number of used features: 222\n",
      "[LightGBM] [Info] [binary:BoostFromScore]: pavg=0.217870 -> initscore=-1.278125\n",
      "[LightGBM] [Info] Start training from score -1.278125\n",
      "Training until validation scores don't improve for 10 rounds\n",
      "[100]\tvalid_0's binary_logloss: 0.417766\tvalid_1's binary_logloss: 0.454547\n"
     ]
    },
    {
     "name": "stderr",
     "output_type": "stream",
     "text": [
      "regularization_factors, val_score: 0.453371:  40%|####      | 8/20 [00:47<01:14,  6.19s/it]\u001b[32m[I 2022-08-07 18:04:02,334]\u001b[0m Trial 47 finished with value: 0.4533705825234731 and parameters: {'lambda_l1': 9.490245203532942e-07, 'lambda_l2': 6.421168438428032}. Best is trial 47 with value: 0.4533705825234731.\u001b[0m\n",
      "regularization_factors, val_score: 0.453371:  40%|####      | 8/20 [00:47<01:14,  6.19s/it]"
     ]
    },
    {
     "name": "stdout",
     "output_type": "stream",
     "text": [
      "Early stopping, best iteration is:\n",
      "[160]\tvalid_0's binary_logloss: 0.401487\tvalid_1's binary_logloss: 0.453371\n",
      "[LightGBM] [Info] Number of positive: 20339, number of negative: 73015\n",
      "[LightGBM] [Warning] Auto-choosing row-wise multi-threading, the overhead of testing was 0.005533 seconds.\n",
      "You can set `force_row_wise=true` to remove the overhead.\n",
      "And if memory is not enough, you can set `force_col_wise=true`.\n",
      "[LightGBM] [Info] Total Bins 37923\n",
      "[LightGBM] [Info] Number of data points in the train set: 93354, number of used features: 222\n",
      "[LightGBM] [Info] [binary:BoostFromScore]: pavg=0.217870 -> initscore=-1.278125\n",
      "[LightGBM] [Info] Start training from score -1.278125\n",
      "Training until validation scores don't improve for 10 rounds\n",
      "[100]\tvalid_0's binary_logloss: 0.41473\tvalid_1's binary_logloss: 0.454584\n"
     ]
    },
    {
     "name": "stderr",
     "output_type": "stream",
     "text": [
      "regularization_factors, val_score: 0.453371:  45%|####5     | 9/20 [00:53<01:06,  6.07s/it]\u001b[32m[I 2022-08-07 18:04:08,150]\u001b[0m Trial 48 finished with value: 0.45428710110762294 and parameters: {'lambda_l1': 0.2019055894080857, 'lambda_l2': 3.5275169933928286e-07}. Best is trial 47 with value: 0.4533705825234731.\u001b[0m\n",
      "regularization_factors, val_score: 0.453371:  45%|####5     | 9/20 [00:53<01:06,  6.07s/it]"
     ]
    },
    {
     "name": "stdout",
     "output_type": "stream",
     "text": [
      "Early stopping, best iteration is:\n",
      "[122]\tvalid_0's binary_logloss: 0.407518\tvalid_1's binary_logloss: 0.454287\n",
      "[LightGBM] [Info] Number of positive: 20339, number of negative: 73015\n",
      "[LightGBM] [Warning] Auto-choosing row-wise multi-threading, the overhead of testing was 0.007156 seconds.\n",
      "You can set `force_row_wise=true` to remove the overhead.\n",
      "And if memory is not enough, you can set `force_col_wise=true`.\n",
      "[LightGBM] [Info] Total Bins 37923\n",
      "[LightGBM] [Info] Number of data points in the train set: 93354, number of used features: 222\n",
      "[LightGBM] [Info] [binary:BoostFromScore]: pavg=0.217870 -> initscore=-1.278125\n",
      "[LightGBM] [Info] Start training from score -1.278125\n",
      "Training until validation scores don't improve for 10 rounds\n",
      "[100]\tvalid_0's binary_logloss: 0.414867\tvalid_1's binary_logloss: 0.454914\n"
     ]
    },
    {
     "name": "stderr",
     "output_type": "stream",
     "text": [
      "regularization_factors, val_score: 0.453371:  50%|#####     | 10/20 [00:58<00:58,  5.86s/it]\u001b[32m[I 2022-08-07 18:04:13,537]\u001b[0m Trial 49 finished with value: 0.45449990123406653 and parameters: {'lambda_l1': 0.22183125618514202, 'lambda_l2': 2.9286247167445133e-06}. Best is trial 47 with value: 0.4533705825234731.\u001b[0m\n",
      "regularization_factors, val_score: 0.453371:  50%|#####     | 10/20 [00:58<00:58,  5.86s/it]"
     ]
    },
    {
     "name": "stdout",
     "output_type": "stream",
     "text": [
      "Early stopping, best iteration is:\n",
      "[122]\tvalid_0's binary_logloss: 0.40758\tvalid_1's binary_logloss: 0.4545\n",
      "[LightGBM] [Info] Number of positive: 20339, number of negative: 73015\n",
      "[LightGBM] [Warning] Auto-choosing row-wise multi-threading, the overhead of testing was 0.006618 seconds.\n",
      "You can set `force_row_wise=true` to remove the overhead.\n",
      "And if memory is not enough, you can set `force_col_wise=true`.\n",
      "[LightGBM] [Info] Total Bins 37923\n",
      "[LightGBM] [Info] Number of data points in the train set: 93354, number of used features: 222\n",
      "[LightGBM] [Info] [binary:BoostFromScore]: pavg=0.217870 -> initscore=-1.278125\n",
      "[LightGBM] [Info] Start training from score -1.278125\n",
      "Training until validation scores don't improve for 10 rounds\n",
      "[100]\tvalid_0's binary_logloss: 0.41776\tvalid_1's binary_logloss: 0.454242\n"
     ]
    },
    {
     "name": "stderr",
     "output_type": "stream",
     "text": [
      "regularization_factors, val_score: 0.453371:  55%|#####5    | 11/20 [01:04<00:52,  5.80s/it]\u001b[32m[I 2022-08-07 18:04:19,187]\u001b[0m Trial 50 finished with value: 0.4535434587658347 and parameters: {'lambda_l1': 3.005784364160781e-05, 'lambda_l2': 8.382977103422135}. Best is trial 47 with value: 0.4533705825234731.\u001b[0m\n",
      "regularization_factors, val_score: 0.453371:  55%|#####5    | 11/20 [01:04<00:52,  5.80s/it]"
     ]
    },
    {
     "name": "stdout",
     "output_type": "stream",
     "text": [
      "Early stopping, best iteration is:\n",
      "[123]\tvalid_0's binary_logloss: 0.411197\tvalid_1's binary_logloss: 0.453543\n",
      "[LightGBM] [Info] Number of positive: 20339, number of negative: 73015\n",
      "[LightGBM] [Warning] Auto-choosing row-wise multi-threading, the overhead of testing was 0.004689 seconds.\n",
      "You can set `force_row_wise=true` to remove the overhead.\n",
      "And if memory is not enough, you can set `force_col_wise=true`.\n",
      "[LightGBM] [Info] Total Bins 37923\n",
      "[LightGBM] [Info] Number of data points in the train set: 93354, number of used features: 222\n",
      "[LightGBM] [Info] [binary:BoostFromScore]: pavg=0.217870 -> initscore=-1.278125\n",
      "[LightGBM] [Info] Start training from score -1.278125\n",
      "Training until validation scores don't improve for 10 rounds\n",
      "[100]\tvalid_0's binary_logloss: 0.418003\tvalid_1's binary_logloss: 0.45461\n"
     ]
    },
    {
     "name": "stderr",
     "output_type": "stream",
     "text": [
      "regularization_factors, val_score: 0.453371:  60%|######    | 12/20 [01:10<00:46,  5.80s/it]\u001b[32m[I 2022-08-07 18:04:24,979]\u001b[0m Trial 51 finished with value: 0.45370672250944644 and parameters: {'lambda_l1': 1.3132588653273114e-05, 'lambda_l2': 7.718638255265974}. Best is trial 47 with value: 0.4533705825234731.\u001b[0m\n",
      "regularization_factors, val_score: 0.453371:  60%|######    | 12/20 [01:10<00:46,  5.80s/it]"
     ]
    },
    {
     "name": "stdout",
     "output_type": "stream",
     "text": [
      "Early stopping, best iteration is:\n",
      "[128]\tvalid_0's binary_logloss: 0.409734\tvalid_1's binary_logloss: 0.453707\n",
      "[LightGBM] [Info] Number of positive: 20339, number of negative: 73015\n",
      "[LightGBM] [Warning] Auto-choosing row-wise multi-threading, the overhead of testing was 0.005758 seconds.\n",
      "You can set `force_row_wise=true` to remove the overhead.\n",
      "And if memory is not enough, you can set `force_col_wise=true`.\n",
      "[LightGBM] [Info] Total Bins 37923\n",
      "[LightGBM] [Info] Number of data points in the train set: 93354, number of used features: 222\n",
      "[LightGBM] [Info] [binary:BoostFromScore]: pavg=0.217870 -> initscore=-1.278125\n",
      "[LightGBM] [Info] Start training from score -1.278125\n",
      "Training until validation scores don't improve for 10 rounds\n",
      "[100]\tvalid_0's binary_logloss: 0.417677\tvalid_1's binary_logloss: 0.4545\n"
     ]
    },
    {
     "name": "stderr",
     "output_type": "stream",
     "text": [
      "regularization_factors, val_score: 0.453185:  65%|######5   | 13/20 [01:16<00:42,  6.08s/it]\u001b[32m[I 2022-08-07 18:04:31,703]\u001b[0m Trial 52 finished with value: 0.4531854115976337 and parameters: {'lambda_l1': 4.602348963946269e-06, 'lambda_l2': 8.389123215314243}. Best is trial 52 with value: 0.4531854115976337.\u001b[0m\n",
      "regularization_factors, val_score: 0.453185:  65%|######5   | 13/20 [01:16<00:42,  6.08s/it]"
     ]
    },
    {
     "name": "stdout",
     "output_type": "stream",
     "text": [
      "Early stopping, best iteration is:\n",
      "[163]\tvalid_0's binary_logloss: 0.40123\tvalid_1's binary_logloss: 0.453185\n",
      "[LightGBM] [Info] Number of positive: 20339, number of negative: 73015\n",
      "[LightGBM] [Warning] Auto-choosing row-wise multi-threading, the overhead of testing was 0.004824 seconds.\n",
      "You can set `force_row_wise=true` to remove the overhead.\n",
      "And if memory is not enough, you can set `force_col_wise=true`.\n",
      "[LightGBM] [Info] Total Bins 37923\n",
      "[LightGBM] [Info] Number of data points in the train set: 93354, number of used features: 222\n",
      "[LightGBM] [Info] [binary:BoostFromScore]: pavg=0.217870 -> initscore=-1.278125\n",
      "[LightGBM] [Info] Start training from score -1.278125\n",
      "Training until validation scores don't improve for 10 rounds\n",
      "[100]\tvalid_0's binary_logloss: 0.414494\tvalid_1's binary_logloss: 0.454286\n"
     ]
    },
    {
     "name": "stderr",
     "output_type": "stream",
     "text": [
      "regularization_factors, val_score: 0.453185:  70%|#######   | 14/20 [01:22<00:34,  5.80s/it]\u001b[32m[I 2022-08-07 18:04:36,873]\u001b[0m Trial 53 finished with value: 0.4539523143355646 and parameters: {'lambda_l1': 8.04891836436803e-07, 'lambda_l2': 0.004187707415855651}. Best is trial 52 with value: 0.4531854115976337.\u001b[0m\n",
      "regularization_factors, val_score: 0.453185:  70%|#######   | 14/20 [01:22<00:34,  5.80s/it]"
     ]
    },
    {
     "name": "stdout",
     "output_type": "stream",
     "text": [
      "Early stopping, best iteration is:\n",
      "[118]\tvalid_0's binary_logloss: 0.40828\tvalid_1's binary_logloss: 0.453952\n",
      "[LightGBM] [Info] Number of positive: 20339, number of negative: 73015\n",
      "[LightGBM] [Warning] Auto-choosing row-wise multi-threading, the overhead of testing was 0.006063 seconds.\n",
      "You can set `force_row_wise=true` to remove the overhead.\n",
      "And if memory is not enough, you can set `force_col_wise=true`.\n",
      "[LightGBM] [Info] Total Bins 37923\n",
      "[LightGBM] [Info] Number of data points in the train set: 93354, number of used features: 222\n",
      "[LightGBM] [Info] [binary:BoostFromScore]: pavg=0.217870 -> initscore=-1.278125\n",
      "[LightGBM] [Info] Start training from score -1.278125\n",
      "Training until validation scores don't improve for 10 rounds\n",
      "[100]\tvalid_0's binary_logloss: 0.414517\tvalid_1's binary_logloss: 0.454871\n"
     ]
    },
    {
     "name": "stderr",
     "output_type": "stream",
     "text": [
      "regularization_factors, val_score: 0.453185:  75%|#######5  | 15/20 [01:27<00:28,  5.80s/it]\u001b[32m[I 2022-08-07 18:04:42,662]\u001b[0m Trial 54 finished with value: 0.45403753996796026 and parameters: {'lambda_l1': 4.1476185443061315e-06, 'lambda_l2': 0.06701150262135173}. Best is trial 52 with value: 0.4531854115976337.\u001b[0m\n",
      "regularization_factors, val_score: 0.453185:  75%|#######5  | 15/20 [01:27<00:28,  5.80s/it]"
     ]
    },
    {
     "name": "stdout",
     "output_type": "stream",
     "text": [
      "Early stopping, best iteration is:\n",
      "[131]\tvalid_0's binary_logloss: 0.404655\tvalid_1's binary_logloss: 0.454038\n",
      "[LightGBM] [Info] Number of positive: 20339, number of negative: 73015\n",
      "[LightGBM] [Warning] Auto-choosing row-wise multi-threading, the overhead of testing was 0.008245 seconds.\n",
      "You can set `force_row_wise=true` to remove the overhead.\n",
      "And if memory is not enough, you can set `force_col_wise=true`.\n",
      "[LightGBM] [Info] Total Bins 37923\n",
      "[LightGBM] [Info] Number of data points in the train set: 93354, number of used features: 222\n",
      "[LightGBM] [Info] [binary:BoostFromScore]: pavg=0.217870 -> initscore=-1.278125\n",
      "[LightGBM] [Info] Start training from score -1.278125\n",
      "Training until validation scores don't improve for 10 rounds\n",
      "[100]\tvalid_0's binary_logloss: 0.414135\tvalid_1's binary_logloss: 0.454452\n"
     ]
    },
    {
     "name": "stderr",
     "output_type": "stream",
     "text": [
      "regularization_factors, val_score: 0.453185:  80%|########  | 16/20 [01:32<00:22,  5.59s/it]\u001b[32m[I 2022-08-07 18:04:47,767]\u001b[0m Trial 55 finished with value: 0.45391858359209286 and parameters: {'lambda_l1': 2.1259993646465648e-08, 'lambda_l2': 0.01667405041037913}. Best is trial 52 with value: 0.4531854115976337.\u001b[0m\n",
      "regularization_factors, val_score: 0.453185:  80%|########  | 16/20 [01:32<00:22,  5.59s/it]"
     ]
    },
    {
     "name": "stdout",
     "output_type": "stream",
     "text": [
      "Early stopping, best iteration is:\n",
      "[108]\tvalid_0's binary_logloss: 0.411253\tvalid_1's binary_logloss: 0.453919\n",
      "[LightGBM] [Info] Number of positive: 20339, number of negative: 73015\n",
      "[LightGBM] [Warning] Auto-choosing row-wise multi-threading, the overhead of testing was 0.005027 seconds.\n",
      "You can set `force_row_wise=true` to remove the overhead.\n",
      "And if memory is not enough, you can set `force_col_wise=true`.\n",
      "[LightGBM] [Info] Total Bins 37923\n",
      "[LightGBM] [Info] Number of data points in the train set: 93354, number of used features: 222\n",
      "[LightGBM] [Info] [binary:BoostFromScore]: pavg=0.217870 -> initscore=-1.278125\n",
      "[LightGBM] [Info] Start training from score -1.278125\n",
      "Training until validation scores don't improve for 10 rounds\n",
      "[100]\tvalid_0's binary_logloss: 0.414492\tvalid_1's binary_logloss: 0.454295\n"
     ]
    },
    {
     "name": "stderr",
     "output_type": "stream",
     "text": [
      "regularization_factors, val_score: 0.453185:  85%|########5 | 17/20 [01:38<00:16,  5.64s/it]\u001b[32m[I 2022-08-07 18:04:53,538]\u001b[0m Trial 56 finished with value: 0.45370459421631776 and parameters: {'lambda_l1': 0.0007554188093892308, 'lambda_l2': 4.400106992740232e-05}. Best is trial 52 with value: 0.4531854115976337.\u001b[0m\n",
      "regularization_factors, val_score: 0.453185:  85%|########5 | 17/20 [01:38<00:16,  5.64s/it]"
     ]
    },
    {
     "name": "stdout",
     "output_type": "stream",
     "text": [
      "Early stopping, best iteration is:\n",
      "[121]\tvalid_0's binary_logloss: 0.40741\tvalid_1's binary_logloss: 0.453705\n",
      "[LightGBM] [Info] Number of positive: 20339, number of negative: 73015\n",
      "[LightGBM] [Warning] Auto-choosing row-wise multi-threading, the overhead of testing was 0.004773 seconds.\n",
      "You can set `force_row_wise=true` to remove the overhead.\n",
      "And if memory is not enough, you can set `force_col_wise=true`.\n",
      "[LightGBM] [Info] Total Bins 37923\n",
      "[LightGBM] [Info] Number of data points in the train set: 93354, number of used features: 222\n",
      "[LightGBM] [Info] [binary:BoostFromScore]: pavg=0.217870 -> initscore=-1.278125\n",
      "[LightGBM] [Info] Start training from score -1.278125\n",
      "Training until validation scores don't improve for 10 rounds\n",
      "[100]\tvalid_0's binary_logloss: 0.415802\tvalid_1's binary_logloss: 0.454286\n"
     ]
    },
    {
     "name": "stderr",
     "output_type": "stream",
     "text": [
      "regularization_factors, val_score: 0.453185:  90%|######### | 18/20 [01:44<00:11,  5.82s/it]\u001b[32m[I 2022-08-07 18:04:59,781]\u001b[0m Trial 57 finished with value: 0.4535555383799105 and parameters: {'lambda_l1': 2.848727434909628e-06, 'lambda_l2': 0.9809742610094973}. Best is trial 52 with value: 0.4531854115976337.\u001b[0m\n",
      "regularization_factors, val_score: 0.453185:  90%|######### | 18/20 [01:44<00:11,  5.82s/it]"
     ]
    },
    {
     "name": "stdout",
     "output_type": "stream",
     "text": [
      "Early stopping, best iteration is:\n",
      "[140]\tvalid_0's binary_logloss: 0.403446\tvalid_1's binary_logloss: 0.453556\n",
      "[LightGBM] [Info] Number of positive: 20339, number of negative: 73015\n",
      "[LightGBM] [Warning] Auto-choosing row-wise multi-threading, the overhead of testing was 0.004994 seconds.\n",
      "You can set `force_row_wise=true` to remove the overhead.\n",
      "And if memory is not enough, you can set `force_col_wise=true`.\n",
      "[LightGBM] [Info] Total Bins 37923\n",
      "[LightGBM] [Info] Number of data points in the train set: 93354, number of used features: 222\n",
      "[LightGBM] [Info] [binary:BoostFromScore]: pavg=0.217870 -> initscore=-1.278125\n",
      "[LightGBM] [Info] Start training from score -1.278125\n",
      "Training until validation scores don't improve for 10 rounds\n",
      "[100]\tvalid_0's binary_logloss: 0.414491\tvalid_1's binary_logloss: 0.454295\n"
     ]
    },
    {
     "name": "stderr",
     "output_type": "stream",
     "text": [
      "regularization_factors, val_score: 0.453185:  95%|#########5| 19/20 [01:50<00:05,  5.62s/it]\u001b[32m[I 2022-08-07 18:05:04,929]\u001b[0m Trial 58 finished with value: 0.45370469198359986 and parameters: {'lambda_l1': 8.957726635529802e-08, 'lambda_l2': 1.0824951344020978e-08}. Best is trial 52 with value: 0.4531854115976337.\u001b[0m\n",
      "regularization_factors, val_score: 0.453185:  95%|#########5| 19/20 [01:50<00:05,  5.62s/it]"
     ]
    },
    {
     "name": "stdout",
     "output_type": "stream",
     "text": [
      "Early stopping, best iteration is:\n",
      "[121]\tvalid_0's binary_logloss: 0.407409\tvalid_1's binary_logloss: 0.453705\n",
      "[LightGBM] [Info] Number of positive: 20339, number of negative: 73015\n",
      "[LightGBM] [Warning] Auto-choosing row-wise multi-threading, the overhead of testing was 0.005157 seconds.\n",
      "You can set `force_row_wise=true` to remove the overhead.\n",
      "And if memory is not enough, you can set `force_col_wise=true`.\n",
      "[LightGBM] [Info] Total Bins 37923\n",
      "[LightGBM] [Info] Number of data points in the train set: 93354, number of used features: 222\n",
      "[LightGBM] [Info] [binary:BoostFromScore]: pavg=0.217870 -> initscore=-1.278125\n",
      "[LightGBM] [Info] Start training from score -1.278125\n",
      "Training until validation scores don't improve for 10 rounds\n",
      "[100]\tvalid_0's binary_logloss: 0.414089\tvalid_1's binary_logloss: 0.454818\n"
     ]
    },
    {
     "name": "stderr",
     "output_type": "stream",
     "text": [
      "regularization_factors, val_score: 0.453185: 100%|##########| 20/20 [01:55<00:00,  5.59s/it]\u001b[32m[I 2022-08-07 18:05:10,434]\u001b[0m Trial 59 finished with value: 0.4537099052990838 and parameters: {'lambda_l1': 0.006629793455609736, 'lambda_l2': 0.00023864090655640517}. Best is trial 52 with value: 0.4531854115976337.\u001b[0m\n",
      "regularization_factors, val_score: 0.453185: 100%|##########| 20/20 [01:55<00:00,  5.78s/it]\n"
     ]
    },
    {
     "name": "stdout",
     "output_type": "stream",
     "text": [
      "Early stopping, best iteration is:\n",
      "[142]\tvalid_0's binary_logloss: 0.400595\tvalid_1's binary_logloss: 0.45371\n"
     ]
    },
    {
     "name": "stderr",
     "output_type": "stream",
     "text": [
      "min_data_in_leaf, val_score: 0.453185:   0%|          | 0/5 [00:00<?, ?it/s]"
     ]
    },
    {
     "name": "stdout",
     "output_type": "stream",
     "text": [
      "[LightGBM] [Info] Number of positive: 20339, number of negative: 73015\n",
      "[LightGBM] [Warning] Auto-choosing row-wise multi-threading, the overhead of testing was 0.005462 seconds.\n",
      "You can set `force_row_wise=true` to remove the overhead.\n",
      "And if memory is not enough, you can set `force_col_wise=true`.\n",
      "[LightGBM] [Info] Total Bins 37923\n",
      "[LightGBM] [Info] Number of data points in the train set: 93354, number of used features: 222\n",
      "[LightGBM] [Info] [binary:BoostFromScore]: pavg=0.217870 -> initscore=-1.278125\n",
      "[LightGBM] [Info] Start training from score -1.278125\n",
      "Training until validation scores don't improve for 10 rounds\n",
      "[100]\tvalid_0's binary_logloss: 0.417744\tvalid_1's binary_logloss: 0.454465\n"
     ]
    },
    {
     "name": "stderr",
     "output_type": "stream",
     "text": [
      "min_data_in_leaf, val_score: 0.453185:  20%|##        | 1/5 [00:05<00:23,  5.97s/it]\u001b[32m[I 2022-08-07 18:05:16,409]\u001b[0m Trial 60 finished with value: 0.45362687365431326 and parameters: {'min_child_samples': 10}. Best is trial 60 with value: 0.45362687365431326.\u001b[0m\n",
      "min_data_in_leaf, val_score: 0.453185:  20%|##        | 1/5 [00:05<00:23,  5.97s/it]"
     ]
    },
    {
     "name": "stdout",
     "output_type": "stream",
     "text": [
      "Early stopping, best iteration is:\n",
      "[126]\tvalid_0's binary_logloss: 0.410249\tvalid_1's binary_logloss: 0.453627\n",
      "[LightGBM] [Info] Number of positive: 20339, number of negative: 73015\n",
      "[LightGBM] [Warning] Auto-choosing row-wise multi-threading, the overhead of testing was 0.008000 seconds.\n",
      "You can set `force_row_wise=true` to remove the overhead.\n",
      "And if memory is not enough, you can set `force_col_wise=true`.\n",
      "[LightGBM] [Info] Total Bins 37923\n",
      "[LightGBM] [Info] Number of data points in the train set: 93354, number of used features: 222\n",
      "[LightGBM] [Info] [binary:BoostFromScore]: pavg=0.217870 -> initscore=-1.278125\n",
      "[LightGBM] [Info] Start training from score -1.278125\n",
      "Training until validation scores don't improve for 10 rounds\n",
      "[100]\tvalid_0's binary_logloss: 0.417646\tvalid_1's binary_logloss: 0.454479\n"
     ]
    },
    {
     "name": "stderr",
     "output_type": "stream",
     "text": [
      "min_data_in_leaf, val_score: 0.453185:  40%|####      | 2/5 [00:12<00:18,  6.25s/it]\u001b[32m[I 2022-08-07 18:05:22,863]\u001b[0m Trial 61 finished with value: 0.4535284678351971 and parameters: {'min_child_samples': 25}. Best is trial 61 with value: 0.4535284678351971.\u001b[0m\n",
      "min_data_in_leaf, val_score: 0.453185:  40%|####      | 2/5 [00:12<00:18,  6.25s/it]"
     ]
    },
    {
     "name": "stdout",
     "output_type": "stream",
     "text": [
      "Early stopping, best iteration is:\n",
      "[129]\tvalid_0's binary_logloss: 0.409626\tvalid_1's binary_logloss: 0.453528\n",
      "[LightGBM] [Info] Number of positive: 20339, number of negative: 73015\n",
      "[LightGBM] [Warning] Auto-choosing row-wise multi-threading, the overhead of testing was 0.006191 seconds.\n",
      "You can set `force_row_wise=true` to remove the overhead.\n",
      "And if memory is not enough, you can set `force_col_wise=true`.\n",
      "[LightGBM] [Info] Total Bins 37923\n",
      "[LightGBM] [Info] Number of data points in the train set: 93354, number of used features: 222\n",
      "[LightGBM] [Info] [binary:BoostFromScore]: pavg=0.217870 -> initscore=-1.278125\n",
      "[LightGBM] [Info] Start training from score -1.278125\n",
      "Training until validation scores don't improve for 10 rounds\n",
      "[100]\tvalid_0's binary_logloss: 0.417744\tvalid_1's binary_logloss: 0.454465\n"
     ]
    },
    {
     "name": "stderr",
     "output_type": "stream",
     "text": [
      "min_data_in_leaf, val_score: 0.453185:  60%|######    | 3/5 [00:18<00:12,  6.26s/it]\u001b[32m[I 2022-08-07 18:05:29,137]\u001b[0m Trial 62 finished with value: 0.45362687365431326 and parameters: {'min_child_samples': 5}. Best is trial 61 with value: 0.4535284678351971.\u001b[0m\n",
      "min_data_in_leaf, val_score: 0.453185:  60%|######    | 3/5 [00:18<00:12,  6.26s/it]"
     ]
    },
    {
     "name": "stdout",
     "output_type": "stream",
     "text": [
      "Early stopping, best iteration is:\n",
      "[126]\tvalid_0's binary_logloss: 0.410249\tvalid_1's binary_logloss: 0.453627\n",
      "[LightGBM] [Info] Number of positive: 20339, number of negative: 73015\n",
      "[LightGBM] [Warning] Auto-choosing col-wise multi-threading, the overhead of testing was 0.048888 seconds.\n",
      "You can set `force_col_wise=true` to remove the overhead.\n",
      "[LightGBM] [Info] Total Bins 37923\n",
      "[LightGBM] [Info] Number of data points in the train set: 93354, number of used features: 222\n",
      "[LightGBM] [Info] [binary:BoostFromScore]: pavg=0.217870 -> initscore=-1.278125\n",
      "[LightGBM] [Info] Start training from score -1.278125\n",
      "Training until validation scores don't improve for 10 rounds\n",
      "[100]\tvalid_0's binary_logloss: 0.417881\tvalid_1's binary_logloss: 0.453786\n"
     ]
    },
    {
     "name": "stderr",
     "output_type": "stream",
     "text": [
      "min_data_in_leaf, val_score: 0.452688:  80%|########  | 4/5 [00:24<00:06,  6.04s/it]\u001b[32m[I 2022-08-07 18:05:34,821]\u001b[0m Trial 63 finished with value: 0.4526884475611774 and parameters: {'min_child_samples': 100}. Best is trial 63 with value: 0.4526884475611774.\u001b[0m\n",
      "min_data_in_leaf, val_score: 0.452688:  80%|########  | 4/5 [00:24<00:06,  6.04s/it]"
     ]
    },
    {
     "name": "stdout",
     "output_type": "stream",
     "text": [
      "Early stopping, best iteration is:\n",
      "[147]\tvalid_0's binary_logloss: 0.40493\tvalid_1's binary_logloss: 0.452688\n",
      "[LightGBM] [Info] Number of positive: 20339, number of negative: 73015\n",
      "[LightGBM] [Warning] Auto-choosing row-wise multi-threading, the overhead of testing was 0.005674 seconds.\n",
      "You can set `force_row_wise=true` to remove the overhead.\n",
      "And if memory is not enough, you can set `force_col_wise=true`.\n",
      "[LightGBM] [Info] Total Bins 37923\n",
      "[LightGBM] [Info] Number of data points in the train set: 93354, number of used features: 222\n",
      "[LightGBM] [Info] [binary:BoostFromScore]: pavg=0.217870 -> initscore=-1.278125\n",
      "[LightGBM] [Info] Start training from score -1.278125\n",
      "Training until validation scores don't improve for 10 rounds\n",
      "[100]\tvalid_0's binary_logloss: 0.417847\tvalid_1's binary_logloss: 0.454225\n"
     ]
    },
    {
     "name": "stderr",
     "output_type": "stream",
     "text": [
      "min_data_in_leaf, val_score: 0.452688: 100%|##########| 5/5 [00:30<00:00,  6.15s/it]\u001b[32m[I 2022-08-07 18:05:41,169]\u001b[0m Trial 64 finished with value: 0.45306027136137905 and parameters: {'min_child_samples': 50}. Best is trial 63 with value: 0.4526884475611774.\u001b[0m\n",
      "min_data_in_leaf, val_score: 0.452688: 100%|##########| 5/5 [00:30<00:00,  6.15s/it]"
     ]
    },
    {
     "name": "stdout",
     "output_type": "stream",
     "text": [
      "Early stopping, best iteration is:\n",
      "[160]\tvalid_0's binary_logloss: 0.401972\tvalid_1's binary_logloss: 0.45306\n"
     ]
    },
    {
     "name": "stderr",
     "output_type": "stream",
     "text": [
      "\n"
     ]
    },
    {
     "name": "stdout",
     "output_type": "stream",
     "text": [
      "[LightGBM] [Warning] bagging_freq is set=0, subsample_freq=0 will be ignored. Current value: bagging_freq=0\n",
      "[LightGBM] [Warning] lambda_l1 is set=4.602348963946269e-06, reg_alpha=0.0 will be ignored. Current value: lambda_l1=4.602348963946269e-06\n",
      "[LightGBM] [Warning] feature_fraction is set=0.4, colsample_bytree=1.0 will be ignored. Current value: feature_fraction=0.4\n",
      "[LightGBM] [Warning] bagging_fraction is set=1.0, subsample=1.0 will be ignored. Current value: bagging_fraction=1.0\n",
      "[LightGBM] [Warning] lambda_l2 is set=8.389123215314243, reg_lambda=0.0 will be ignored. Current value: lambda_l2=8.389123215314243\n",
      "AUC: 0.792(train), 0.753(test)\n"
     ]
    }
   ],
   "source": [
    "keiba_ai = training.KeibaAIFactory.create(feature_enginnering.featured_data) #モデル作成\n",
    "keiba_ai.train_with_tuning() #パラメータチューニングをして学習"
   ]
  },
  {
   "cell_type": "code",
   "execution_count": 6,
   "metadata": {},
   "outputs": [
    {
     "data": {
      "text/html": [
       "<div>\n",
       "<style scoped>\n",
       "    .dataframe tbody tr th:only-of-type {\n",
       "        vertical-align: middle;\n",
       "    }\n",
       "\n",
       "    .dataframe tbody tr th {\n",
       "        vertical-align: top;\n",
       "    }\n",
       "\n",
       "    .dataframe thead th {\n",
       "        text-align: right;\n",
       "    }\n",
       "</style>\n",
       "<table border=\"1\" class=\"dataframe\">\n",
       "  <thead>\n",
       "    <tr style=\"text-align: right;\">\n",
       "      <th></th>\n",
       "      <th>features</th>\n",
       "      <th>importance</th>\n",
       "    </tr>\n",
       "  </thead>\n",
       "  <tbody>\n",
       "    <tr>\n",
       "      <th>4</th>\n",
       "      <td>jockey_id</td>\n",
       "      <td>123</td>\n",
       "    </tr>\n",
       "    <tr>\n",
       "      <th>184</th>\n",
       "      <td>age_days</td>\n",
       "      <td>108</td>\n",
       "    </tr>\n",
       "    <tr>\n",
       "      <th>10</th>\n",
       "      <td>n_horses</td>\n",
       "      <td>77</td>\n",
       "    </tr>\n",
       "    <tr>\n",
       "      <th>8</th>\n",
       "      <td>体重</td>\n",
       "      <td>75</td>\n",
       "    </tr>\n",
       "    <tr>\n",
       "      <th>183</th>\n",
       "      <td>interval</td>\n",
       "      <td>71</td>\n",
       "    </tr>\n",
       "    <tr>\n",
       "      <th>120</th>\n",
       "      <td>breeder_id</td>\n",
       "      <td>62</td>\n",
       "    </tr>\n",
       "    <tr>\n",
       "      <th>13</th>\n",
       "      <td>賞金_5R</td>\n",
       "      <td>62</td>\n",
       "    </tr>\n",
       "    <tr>\n",
       "      <th>103</th>\n",
       "      <td>賞金_race_type_allR</td>\n",
       "      <td>52</td>\n",
       "    </tr>\n",
       "    <tr>\n",
       "      <th>31</th>\n",
       "      <td>賞金_race_type_5R</td>\n",
       "      <td>49</td>\n",
       "    </tr>\n",
       "    <tr>\n",
       "      <th>14</th>\n",
       "      <td>着差_5R</td>\n",
       "      <td>42</td>\n",
       "    </tr>\n",
       "    <tr>\n",
       "      <th>11</th>\n",
       "      <td>course_len</td>\n",
       "      <td>41</td>\n",
       "    </tr>\n",
       "    <tr>\n",
       "      <th>66</th>\n",
       "      <td>着順_race_type_9R</td>\n",
       "      <td>40</td>\n",
       "    </tr>\n",
       "    <tr>\n",
       "      <th>85</th>\n",
       "      <td>賞金_allR</td>\n",
       "      <td>40</td>\n",
       "    </tr>\n",
       "    <tr>\n",
       "      <th>6</th>\n",
       "      <td>owner_id</td>\n",
       "      <td>40</td>\n",
       "    </tr>\n",
       "    <tr>\n",
       "      <th>263</th>\n",
       "      <td>race_class_未勝利</td>\n",
       "      <td>39</td>\n",
       "    </tr>\n",
       "    <tr>\n",
       "      <th>49</th>\n",
       "      <td>賞金_9R</td>\n",
       "      <td>37</td>\n",
       "    </tr>\n",
       "    <tr>\n",
       "      <th>86</th>\n",
       "      <td>着差_allR</td>\n",
       "      <td>37</td>\n",
       "    </tr>\n",
       "    <tr>\n",
       "      <th>5</th>\n",
       "      <td>trainer_id</td>\n",
       "      <td>34</td>\n",
       "    </tr>\n",
       "    <tr>\n",
       "      <th>74</th>\n",
       "      <td>time_seconds_race_type_9R</td>\n",
       "      <td>33</td>\n",
       "    </tr>\n",
       "    <tr>\n",
       "      <th>30</th>\n",
       "      <td>着順_race_type_5R</td>\n",
       "      <td>33</td>\n",
       "    </tr>\n",
       "  </tbody>\n",
       "</table>\n",
       "</div>"
      ],
      "text/plain": [
       "                      features  importance\n",
       "4                    jockey_id         123\n",
       "184                   age_days         108\n",
       "10                    n_horses          77\n",
       "8                           体重          75\n",
       "183                   interval          71\n",
       "120                 breeder_id          62\n",
       "13                       賞金_5R          62\n",
       "103          賞金_race_type_allR          52\n",
       "31             賞金_race_type_5R          49\n",
       "14                       着差_5R          42\n",
       "11                  course_len          41\n",
       "66             着順_race_type_9R          40\n",
       "85                     賞金_allR          40\n",
       "6                     owner_id          40\n",
       "263             race_class_未勝利          39\n",
       "49                       賞金_9R          37\n",
       "86                     着差_allR          37\n",
       "5                   trainer_id          34\n",
       "74   time_seconds_race_type_9R          33\n",
       "30             着順_race_type_5R          33"
      ]
     },
     "execution_count": 6,
     "metadata": {},
     "output_type": "execute_result"
    }
   ],
   "source": [
    "#特徴量の重要度\n",
    "keiba_ai.feature_importance()"
   ]
  },
  {
   "cell_type": "code",
   "execution_count": 7,
   "metadata": {},
   "outputs": [
    {
     "data": {
      "text/plain": [
       "{'boosting_type': 'gbdt',\n",
       " 'class_weight': None,\n",
       " 'colsample_bytree': 1.0,\n",
       " 'importance_type': 'split',\n",
       " 'learning_rate': 0.1,\n",
       " 'max_depth': -1,\n",
       " 'min_child_samples': 100,\n",
       " 'min_child_weight': 0.001,\n",
       " 'min_split_gain': 0.0,\n",
       " 'n_estimators': 100,\n",
       " 'n_jobs': -1,\n",
       " 'num_leaves': 31,\n",
       " 'objective': 'binary',\n",
       " 'random_state': None,\n",
       " 'reg_alpha': 0.0,\n",
       " 'reg_lambda': 0.0,\n",
       " 'silent': True,\n",
       " 'subsample': 1.0,\n",
       " 'subsample_for_bin': 200000,\n",
       " 'subsample_freq': 0,\n",
       " 'feature_pre_filter': False,\n",
       " 'lambda_l1': 4.602348963946269e-06,\n",
       " 'lambda_l2': 8.389123215314243,\n",
       " 'feature_fraction': 0.4,\n",
       " 'bagging_fraction': 1.0,\n",
       " 'bagging_freq': 0}"
      ]
     },
     "execution_count": 7,
     "metadata": {},
     "output_type": "execute_result"
    }
   ],
   "source": [
    "#ハイパーパラメータの確認\n",
    "keiba_ai.get_params()"
   ]
  },
  {
   "cell_type": "code",
   "execution_count": 26,
   "metadata": {},
   "outputs": [
    {
     "name": "stdout",
     "output_type": "stream",
     "text": [
      "AUC: 0.826(train), 0.648(test)\n"
     ]
    }
   ],
   "source": [
    "#チューニングしないで学習\n",
    "#keiba_ai.train_without_tuning()"
   ]
  },
  {
   "cell_type": "code",
   "execution_count": 8,
   "metadata": {},
   "outputs": [],
   "source": [
    "#モデル保存。models/(実行した日付)/(version_name).pickleに、モデルとデータセットが保存される。\n",
    "training.KeibaAIFactory.save(keiba_ai, version_name='basemodel_2018_2021')"
   ]
  },
  {
   "cell_type": "code",
   "execution_count": 87,
   "metadata": {},
   "outputs": [],
   "source": [
    "#モデルロード\n",
    "keiba_ai = training.KeibaAIFactory.load('models/20220602/basemodel_2018_2021.pickle')\n",
    "keiba_ai.set_params(keiba_ai.get_params())"
   ]
  },
  {
   "cell_type": "markdown",
   "metadata": {},
   "source": [
    "# 5. シミュレーション"
   ]
  },
  {
   "cell_type": "code",
   "execution_count": 217,
   "metadata": {},
   "outputs": [],
   "source": [
    "%autoreload"
   ]
  },
  {
   "cell_type": "code",
   "execution_count": 9,
   "metadata": {},
   "outputs": [],
   "source": [
    "#シミュレーターに馬券をセット\n",
    "simulator = simulation.Simulator(return_processor)"
   ]
  },
  {
   "cell_type": "code",
   "execution_count": null,
   "metadata": {},
   "outputs": [],
   "source": [
    "# スコアテーブルを取得\n",
    "score_table = keiba_ai.calc_score(keiba_ai.datasets.X_test, policies.StdScorePolicy)"
   ]
  },
  {
   "cell_type": "markdown",
   "metadata": {},
   "source": [
    "## 5.1. 単一threshold"
   ]
  },
  {
   "cell_type": "markdown",
   "metadata": {},
   "source": [
    "### 5.1.1 単勝馬券"
   ]
  },
  {
   "cell_type": "code",
   "execution_count": 17,
   "metadata": {},
   "outputs": [
    {
     "data": {
      "application/vnd.jupyter.widget-view+json": {
       "model_id": "d30c4af0e1c6423988fbf530a84296f1",
       "version_major": 2,
       "version_minor": 0
      },
      "text/plain": [
       "  0%|          | 0/100 [00:00<?, ?it/s]"
      ]
     },
     "metadata": {},
     "output_type": "display_data"
    }
   ],
   "source": [
    "T_RANGE = [0.5, 3.5]\n",
    "N_SAMPLES = 100\n",
    "returns = {}\n",
    "\n",
    "# 「馬の勝ちやすさスコア」の閾値を変化させた時の成績を計算\n",
    "for i in tqdm(range(N_SAMPLES)):\n",
    "    # T_RANGEの範囲を、N_SAMPLES等分して、thresholdをfor分で回す\n",
    "    threshold = T_RANGE[1] * i / N_SAMPLES + T_RANGE[0] * (1 - (i / N_SAMPLES))\n",
    "    try:\n",
    "        # 賭ける馬券を決定\n",
    "        actions = keiba_ai.decide_action(\n",
    "                score_table, # スコアテーブル\n",
    "                policies.BetPolicyTansho, # 賭け方の方針\n",
    "                threshold=threshold #「馬の勝ちやすさスコア」の閾値\n",
    "                )\n",
    "        returns[threshold] = simulator.calc_returns(actions)\n",
    "    except Exception as e:\n",
    "        print(e)\n",
    "        break\n",
    "returns_df = pd.DataFrame.from_dict(returns, orient='index')\n",
    "returns_df.index.name = 'threshold'"
   ]
  },
  {
   "cell_type": "code",
   "execution_count": 18,
   "metadata": {},
   "outputs": [],
   "source": [
    "#シミュレーション結果も、models/に保存しておくとわかりやすい。\n",
    "returns_df.to_pickle('models/20220626/tansho.pickle')"
   ]
  },
  {
   "cell_type": "code",
   "execution_count": 19,
   "metadata": {},
   "outputs": [
    {
     "data": {
      "image/png": "[encoded data removed]",
      "text/plain": [
       "<Figure size 600x400 with 1 Axes>"
      ]
     },
     "metadata": {
      "needs_background": "light"
     },
     "output_type": "display_data"
    }
   ],
   "source": [
    "#回収率をプロット\n",
    "simulation.plot_single_threshold(returns_df, N_SAMPLES, label='tansho')"
   ]
  },
  {
   "cell_type": "markdown",
   "metadata": {},
   "source": [
    "### 5.1.2 複勝馬券"
   ]
  },
  {
   "cell_type": "code",
   "execution_count": null,
   "metadata": {},
   "outputs": [],
   "source": [
    "T_RANGE = [0.5, 3.5]\n",
    "N_SAMPLES = 100\n",
    "returns = {}\n",
    "\n",
    "# 「馬の勝ちやすさスコア」の閾値を変化させた時の成績を計算\n",
    "for i in tqdm(range(N_SAMPLES)):\n",
    "    # T_RANGEの範囲を、N_SAMPLES等分して、thresholdをfor分で回す\n",
    "    threshold = T_RANGE[1] * i / N_SAMPLES + T_RANGE[0] * (1 - (i / N_SAMPLES))\n",
    "    try:\n",
    "        # 賭ける馬券を決定\n",
    "        actions = keiba_ai.decide_action(\n",
    "                score_table, # スコアテーブル\n",
    "                policies.BetPolicyFukusho, # 賭け方の方針\n",
    "                threshold=threshold # 「馬の勝ちやすさスコア」の閾値\n",
    "                )\n",
    "        returns[threshold] = simulator.calc_returns(actions)\n",
    "    except Exception as e:\n",
    "        print(e)\n",
    "        break\n",
    "returns_df = pd.DataFrame.from_dict(returns, orient='index')\n",
    "returns_df.index.name = 'threshold'"
   ]
  },
  {
   "cell_type": "code",
   "execution_count": null,
   "metadata": {},
   "outputs": [],
   "source": [
    "# シミュレーション結果も、models/YYYYMMDD/に保存しておくとわかりやすい。\n",
    "returns_df.to_pickle('models/20220626/fukusho.pickle')"
   ]
  },
  {
   "cell_type": "code",
   "execution_count": null,
   "metadata": {},
   "outputs": [],
   "source": [
    "# 回収率をプロット\n",
    "simulation.plot_single_threshold(returns_df, N_SAMPLES, label='fukusho')"
   ]
  },
  {
   "cell_type": "markdown",
   "metadata": {},
   "source": [
    "### 5.1.3 馬連BOX"
   ]
  },
  {
   "cell_type": "code",
   "execution_count": null,
   "metadata": {},
   "outputs": [],
   "source": [
    "T_RANGE = [0.5, 3.5]\n",
    "N_SAMPLES = 100\n",
    "returns = {}\n",
    "\n",
    "# 「馬の勝ちやすさスコア」の閾値を変化させた時の成績を計算\n",
    "for i in tqdm(range(N_SAMPLES)):\n",
    "    # T_RANGEの範囲を、N_SAMPLES等分して、thresholdをfor分で回す\n",
    "    threshold = T_RANGE[1] * i / N_SAMPLES + T_RANGE[0] * (1 - (i / N_SAMPLES))\n",
    "    try:\n",
    "        # 賭ける馬券を決定\n",
    "        actions = keiba_ai.decide_action(\n",
    "                score_table, # スコアテーブル\n",
    "                policies.BetPolicyUmarenBox, # 賭け方の方針\n",
    "                threshold=threshold # 「馬の勝ちやすさスコア」の閾値\n",
    "                )\n",
    "        returns[threshold] = simulator.calc_returns(actions)\n",
    "    except Exception as e:\n",
    "        print(e)\n",
    "        break\n",
    "returns_df = pd.DataFrame.from_dict(returns, orient='index')\n",
    "returns_df.index.name = 'threshold'"
   ]
  },
  {
   "cell_type": "code",
   "execution_count": null,
   "metadata": {},
   "outputs": [],
   "source": [
    "# シミュレーション結果も、models/YYYYMMDD/に保存しておくとわかりやすい。\n",
    "returns_df.to_pickle('models/20220626/umarenbox.pickle')"
   ]
  },
  {
   "cell_type": "code",
   "execution_count": null,
   "metadata": {},
   "outputs": [],
   "source": [
    "# 回収率をプロット\n",
    "simulation.plot_single_threshold(returns_df, N_SAMPLES, label='umarenbox')"
   ]
  },
  {
   "cell_type": "markdown",
   "metadata": {},
   "source": [
    "### 5.1.4 馬単BOX"
   ]
  },
  {
   "cell_type": "code",
   "execution_count": null,
   "metadata": {},
   "outputs": [],
   "source": [
    "T_RANGE = [0.5, 3.5]\n",
    "N_SAMPLES = 100\n",
    "returns = {}\n",
    "\n",
    "# 「馬の勝ちやすさスコア」の閾値を変化させた時の成績を計算\n",
    "for i in tqdm(range(N_SAMPLES)):\n",
    "    # T_RANGEの範囲を、N_SAMPLES等分して、thresholdをfor分で回す\n",
    "    threshold = T_RANGE[1] * i / N_SAMPLES + T_RANGE[0] * (1 - (i / N_SAMPLES))\n",
    "    try:\n",
    "        # 賭ける馬券を決定\n",
    "        actions = keiba_ai.decide_action(\n",
    "                score_table, # スコアテーブル\n",
    "                policies.BetPolicyUmatanBox, # 賭け方の方針\n",
    "                threshold=threshold # 「馬の勝ちやすさスコア」の閾値\n",
    "                )\n",
    "        returns[threshold] = simulator.calc_returns(actions)\n",
    "    except Exception as e:\n",
    "        print(e)\n",
    "        break\n",
    "returns_df = pd.DataFrame.from_dict(returns, orient='index')\n",
    "returns_df.index.name = 'threshold'"
   ]
  },
  {
   "cell_type": "code",
   "execution_count": null,
   "metadata": {},
   "outputs": [],
   "source": [
    "# シミュレーション結果も、models/YYYYMMDD/に保存しておくとわかりやすい。\n",
    "returns_df.to_pickle('models/20220626/umatanbox.pickle')"
   ]
  },
  {
   "cell_type": "code",
   "execution_count": null,
   "metadata": {},
   "outputs": [],
   "source": [
    "# 回収率をプロット\n",
    "simulation.plot_single_threshold(returns_df, N_SAMPLES, label='umatanbox')"
   ]
  },
  {
   "cell_type": "markdown",
   "metadata": {},
   "source": [
    "### 5.1.5 ワイドBOX"
   ]
  },
  {
   "cell_type": "code",
   "execution_count": null,
   "metadata": {},
   "outputs": [],
   "source": [
    "T_RANGE = [0.5, 3.5]\n",
    "N_SAMPLES = 100\n",
    "returns = {}\n",
    "\n",
    "# 「馬の勝ちやすさスコア」の閾値を変化させた時の成績を計算\n",
    "for i in tqdm(range(N_SAMPLES)):\n",
    "    # T_RANGEの範囲を、N_SAMPLES等分して、thresholdをfor分で回す\n",
    "    threshold = T_RANGE[1] * i / N_SAMPLES + T_RANGE[0] * (1 - (i / N_SAMPLES))\n",
    "    try:\n",
    "        # 賭ける馬券を決定\n",
    "        actions = keiba_ai.decide_action(\n",
    "                score_table, # スコアテーブル\n",
    "                policies.BetPolicyWideBox, # 賭け方の方針\n",
    "                threshold=threshold # 「馬の勝ちやすさスコア」の閾値\n",
    "                )\n",
    "        returns[threshold] = simulator.calc_returns(actions)\n",
    "    except Exception as e:\n",
    "        print(e)\n",
    "        break\n",
    "returns_df = pd.DataFrame.from_dict(returns, orient='index')\n",
    "returns_df.index.name = 'threshold'"
   ]
  },
  {
   "cell_type": "code",
   "execution_count": null,
   "metadata": {},
   "outputs": [],
   "source": [
    "# シミュレーション結果も、models/YYYYMMDD/に保存しておくとわかりやすい。\n",
    "returns_df.to_pickle('models/20220626/widebox.pickle')"
   ]
  },
  {
   "cell_type": "code",
   "execution_count": null,
   "metadata": {},
   "outputs": [],
   "source": [
    "# 回収率をプロット\n",
    "simulation.plot_single_threshold(returns_df, N_SAMPLES, label='widebox')"
   ]
  },
  {
   "cell_type": "markdown",
   "metadata": {},
   "source": [
    "### 5.1.6 三連複BOX"
   ]
  },
  {
   "cell_type": "code",
   "execution_count": null,
   "metadata": {},
   "outputs": [],
   "source": [
    "T_RANGE = [0.5, 3.5]\n",
    "N_SAMPLES = 100\n",
    "returns = {}\n",
    "\n",
    "# 「馬の勝ちやすさスコア」の閾値を変化させた時の成績を計算\n",
    "for i in tqdm(range(N_SAMPLES)):\n",
    "    # T_RANGEの範囲を、N_SAMPLES等分して、thresholdをfor分で回す\n",
    "    threshold = T_RANGE[1] * i / N_SAMPLES + T_RANGE[0] * (1 - (i / N_SAMPLES))\n",
    "    try:\n",
    "        # 賭ける馬券を決定\n",
    "        actions = keiba_ai.decide_action(\n",
    "                score_table, # スコアテーブル\n",
    "                policies.BetPolicySanrenpukuBox, # 賭け方の方針\n",
    "                threshold=threshold # 「馬の勝ちやすさスコア」の閾値\n",
    "                )\n",
    "        returns[threshold] = simulator.calc_returns(actions)\n",
    "    except Exception as e:\n",
    "        print(e)\n",
    "        break\n",
    "returns_df = pd.DataFrame.from_dict(returns, orient='index')\n",
    "returns_df.index.name = 'threshold'"
   ]
  },
  {
   "cell_type": "code",
   "execution_count": null,
   "metadata": {},
   "outputs": [],
   "source": [
    "# シミュレーション結果も、models/YYYYMMDD/に保存しておくとわかりやすい。\n",
    "returns_df.to_pickle('models/20220626/sanrenpukubox.pickle')"
   ]
  },
  {
   "cell_type": "code",
   "execution_count": null,
   "metadata": {},
   "outputs": [],
   "source": [
    "# 回収率をプロット\n",
    "simulation.plot_single_threshold(returns_df, N_SAMPLES, label='sanrenpukubox')"
   ]
  },
  {
   "cell_type": "markdown",
   "metadata": {},
   "source": [
    "### 5.1.7 三連単BOX"
   ]
  },
  {
   "cell_type": "code",
   "execution_count": null,
   "metadata": {},
   "outputs": [],
   "source": [
    "T_RANGE = [0.5, 3.5]\n",
    "N_SAMPLES = 100\n",
    "returns = {}\n",
    "\n",
    "# 「馬の勝ちやすさスコア」の閾値を変化させた時の成績を計算\n",
    "for i in tqdm(range(N_SAMPLES)):\n",
    "    # T_RANGEの範囲を、N_SAMPLES等分して、thresholdをfor分で回す\n",
    "    threshold = T_RANGE[1] * i / N_SAMPLES + T_RANGE[0] * (1 - (i / N_SAMPLES))\n",
    "    try:\n",
    "        # 賭ける馬券を決定\n",
    "        actions = keiba_ai.decide_action(\n",
    "                score_table, # スコアテーブル\n",
    "                policies.BetPolicySanrentanBox, # 賭け方の方針\n",
    "                threshold=threshold # 「馬の勝ちやすさスコア」の閾値\n",
    "                )\n",
    "        returns[threshold] = simulator.calc_returns(actions)\n",
    "    except Exception as e:\n",
    "        print(e)\n",
    "        break\n",
    "returns_df = pd.DataFrame.from_dict(returns, orient='index')\n",
    "returns_df.index.name = 'threshold'"
   ]
  },
  {
   "cell_type": "code",
   "execution_count": null,
   "metadata": {},
   "outputs": [],
   "source": [
    "# シミュレーション結果も、models/YYYYMMDD/に保存しておくとわかりやすい。\n",
    "returns_df.to_pickle('models/20220626/sanrentanbox.pickle')"
   ]
  },
  {
   "cell_type": "code",
   "execution_count": null,
   "metadata": {},
   "outputs": [],
   "source": [
    "# 回収率をプロット\n",
    "simulation.plot_single_threshold(returns_df, N_SAMPLES, label='sanrentanbox')"
   ]
  },
  {
   "cell_type": "markdown",
   "metadata": {},
   "source": [
    "## 5.2. 複数馬券\n",
    "未実装"
   ]
  },
  {
   "cell_type": "markdown",
   "metadata": {},
   "source": [
    "## 5.3. 複数threshold\n",
    "未実装だが、以下のようなコードになる予定。"
   ]
  },
  {
   "cell_type": "code",
   "execution_count": 274,
   "metadata": {},
   "outputs": [
    {
     "data": {
      "application/vnd.jupyter.widget-view+json": {
       "model_id": "97b4c6588eca430fb740dc4c13defb45",
       "version_major": 2,
       "version_minor": 0
      },
      "text/plain": [
       "  0%|          | 0/10 [00:00<?, ?it/s]"
      ]
     },
     "metadata": {},
     "output_type": "display_data"
    }
   ],
   "source": [
    "T1_RANGE = [2.5, 3.5]\n",
    "MIN_T2 = 1\n",
    "N_SAMPLES = 10\n",
    "\n",
    "returns = {}\n",
    "#「馬の勝ちやすさスコア」の閾値を変化させた時の成績を計算\n",
    "idx = 0\n",
    "for i in tqdm(range(N_SAMPLES)):\n",
    "    #T_RANGEの範囲を、N_SAMPLES等分して、thresholdをfor分で回す\n",
    "    threshold1 = T1_RANGE[1] * i / N_SAMPLES + T1_RANGE[0] * (1-(i/N_SAMPLES))\n",
    "    for j in range(N_SAMPLES):\n",
    "        #MIN_T2からthreshold1までをN_SAMPLES等分\n",
    "        threshold2 = threshold1 * j / N_SAMPLES + MIN_T2 * (1-(j/N_SAMPLES))\n",
    "        try:\n",
    "            #print(threshold1, threshold2)\n",
    "            #賭ける馬券を決定\n",
    "            actions = keiba_ai.decide_action(\n",
    "                    score_table, # スコアテーブル\n",
    "                    policies.BetPolicyTanshoFukusho, # 賭け方の方針(未実装)\n",
    "                    threshold1=threshold1, #「馬の勝ちやすさスコア」の閾値\n",
    "                    threshold2=threshold2\n",
    "                    )\n",
    "            returns[idx] = simulator.calc_returns(actions)\n",
    "            idx += 1\n",
    "        except Exception as e:\n",
    "            print(e)\n",
    "            break\n",
    "returns_df = pd.DataFrame.from_dict(returns, orient='index')"
   ]
  },
  {
   "cell_type": "code",
   "execution_count": 273,
   "metadata": {},
   "outputs": [
    {
     "data": {
      "image/png": "[encoded data removed]",
      "text/plain": [
       "<Figure size 600x400 with 1 Axes>"
      ]
     },
     "metadata": {
      "needs_background": "light"
     },
     "output_type": "display_data"
    }
   ],
   "source": [
    "simulation.plot_single_threshold(returns_df.reset_index(), 100, label='tansho_fukusho')"
   ]
  },
  {
   "cell_type": "markdown",
   "metadata": {},
   "source": [
    "# 6. 当日の予想\n",
    "例として2022年1月8日のレースを実際に予想する場合を考える。  \n",
    "https://race.netkeiba.com/top/race_list.html?kaisai_date=20220108"
   ]
  },
  {
   "cell_type": "markdown",
   "metadata": {},
   "source": [
    "## 6.1. 前日準備"
   ]
  },
  {
   "cell_type": "code",
   "execution_count": 20,
   "metadata": {},
   "outputs": [],
   "source": [
    "%autoreload"
   ]
  },
  {
   "cell_type": "code",
   "execution_count": 21,
   "metadata": {},
   "outputs": [
    {
     "name": "stdout",
     "output_type": "stream",
     "text": [
      "getting race_id_list\n"
     ]
    },
    {
     "data": {
      "application/vnd.jupyter.widget-view+json": {
       "model_id": "efa0f2854cf343b5a973859baad12e2f",
       "version_major": 2,
       "version_minor": 0
      },
      "text/plain": [
       "  0%|          | 0/1 [00:00<?, ?it/s]"
      ]
     },
     "metadata": {},
     "output_type": "display_data"
    },
    {
     "name": "stdout",
     "output_type": "stream",
     "text": [
      "scraping: https://race.netkeiba.com/top/race_list.html?kaisai_date=20220108\n"
     ]
    },
    {
     "data": {
      "text/plain": [
       "24"
      ]
     },
     "execution_count": 21,
     "metadata": {},
     "output_type": "execute_result"
    }
   ],
   "source": [
    "race_id_list = preparing.scrape_race_id_list(['20220108']) #レースidを取得\n",
    "len(race_id_list)"
   ]
  },
  {
   "cell_type": "code",
   "execution_count": 22,
   "metadata": {},
   "outputs": [
    {
     "name": "stdout",
     "output_type": "stream",
     "text": [
      "sraping horse_id_list\n"
     ]
    },
    {
     "data": {
      "application/vnd.jupyter.widget-view+json": {
       "model_id": "e0d14d85cba143f89be3e5f9149b3e4c",
       "version_major": 2,
       "version_minor": 0
      },
      "text/plain": [
       "  0%|          | 0/24 [00:00<?, ?it/s]"
      ]
     },
     "metadata": {},
     "output_type": "display_data"
    },
    {
     "data": {
      "text/plain": [
       "361"
      ]
     },
     "execution_count": 22,
     "metadata": {},
     "output_type": "execute_result"
    }
   ],
   "source": [
    "#出走するhorse_idの取得\n",
    "horse_id_list = preparing.scrape_horse_id_list(race_id_list)\n",
    "len(horse_id_list)"
   ]
  },
  {
   "cell_type": "code",
   "execution_count": null,
   "metadata": {},
   "outputs": [],
   "source": [
    "#horseページのhtmlをスクレイピング\n",
    "#直近レースが更新されている可能性があるので、skip=Falseにして上書きする\n",
    "html_files_horse = preparing.scrape_html_horse_with_master(horse_id_list, skip=False)"
   ]
  },
  {
   "cell_type": "code",
   "execution_count": null,
   "metadata": {},
   "outputs": [],
   "source": [
    "#horse_infoテーブルの更新\n",
    "horse_info_20220108 = preparing.get_rawdata_horse_info(html_files_horse)\n",
    "preparing.update_rawdata(LocalPaths.RAW_HORSE_INFO_PATH, horse_info_20220108)"
   ]
  },
  {
   "cell_type": "code",
   "execution_count": null,
   "metadata": {},
   "outputs": [],
   "source": [
    "#horse_resultsテーブルの更新\n",
    "horse_results_20220108 = preparing.get_rawdata_horse_results(html_files_horse)\n",
    "preparing.update_rawdata(LocalPaths.RAW_HORSE_RESULTS_PATH, horse_results_20220108)"
   ]
  },
  {
   "cell_type": "code",
   "execution_count": null,
   "metadata": {},
   "outputs": [],
   "source": [
    "#pedsテーブルの更新\n",
    "html_files_peds = preparing.scrape_html_ped(horse_id_list, skip=True)\n",
    "peds_20220108 = preparing.get_rawdata_peds(html_files_peds)\n",
    "preparing.update_rawdata(LocalPaths.RAW_PEDS_PATH, peds_20220108)"
   ]
  },
  {
   "cell_type": "code",
   "execution_count": 27,
   "metadata": {},
   "outputs": [],
   "source": [
    "#processorの更新\n",
    "horse_info_processor = preprocessing.HorseInfoProcessor(\n",
    "    filepath=LocalPaths.RAW_HORSE_INFO_PATH)\n",
    "horse_results_processor = preprocessing.HorseResultsProcessor(\n",
    "    filepath=LocalPaths.RAW_HORSE_RESULTS_PATH)\n",
    "peds_processor = preprocessing.PedsProcessor(filepath=LocalPaths.RAW_PEDS_PATH)"
   ]
  },
  {
   "cell_type": "code",
   "execution_count": 32,
   "metadata": {},
   "outputs": [],
   "source": [
    "#モデルの準備\n",
    "keiba_ai = training.KeibaAIFactory.load('models/20220626/basemodel_2018_2021.pickle')"
   ]
  },
  {
   "cell_type": "markdown",
   "metadata": {},
   "source": [
    "## 6.2. 前日全レース予想"
   ]
  },
  {
   "cell_type": "code",
   "execution_count": null,
   "metadata": {},
   "outputs": [],
   "source": [
    "%autoreload"
   ]
  },
  {
   "cell_type": "code",
   "execution_count": null,
   "metadata": {},
   "outputs": [],
   "source": [
    "# 前日全レース予想用のレースidとレース発走時刻を取得\n",
    "target_race_id_list, target_race_time_list = preparing.scrape_race_id_race_time_list('20221001')\n",
    "print(len(target_race_id_list))\n",
    "print(len(target_race_time_list))\n",
    "yesterday = True"
   ]
  },
  {
   "cell_type": "code",
   "execution_count": null,
   "metadata": {},
   "outputs": [],
   "source": [
    "# 一時的に出馬表を保存するパスを指定\n",
    "filepath = 'data/tmp/shutuba.pickle'\n",
    "today = '2022/10/01'\n",
    "\n",
    "for race_id, race_time in zip(target_race_id_list, target_race_time_list):\n",
    "    # 出馬表の取得\n",
    "    preparing.scrape_shutuba_table(race_id, today, filepath)\n",
    "\n",
    "    # 前日予想の場合\n",
    "    if yesterday:\n",
    "        # 前日予想の場合、馬体重を0（0）に補正\n",
    "        pd2 = pd.read_pickle(filepath)\n",
    "        pd2[ResultsCols.WEIGHT_AND_DIFF] = '0(0)'\n",
    "        # 前日予想の場合、天候と馬場状態が公開されていない場合はこちらを有効にする\n",
    "        #pd2['weather'] = '晴'\n",
    "        #pd2['ground_state'] = '良'\n",
    "        pd2.to_pickle(filepath)\n",
    "\n",
    "    # 出馬表の加工\n",
    "    shutuba_table_processor = preprocessing.ShutubaTableProcessor(filepath)\n",
    "\n",
    "    # テーブルのマージ\n",
    "    shutuba_data_merger = preprocessing.ShutubaDataMerger(\n",
    "        shutuba_table_processor,\n",
    "        horse_results_processor,\n",
    "        horse_info_processor,\n",
    "        peds_processor,\n",
    "        target_cols=TARGET_COLS,\n",
    "        group_cols=GROUP_COLS\n",
    "    )\n",
    "    shutuba_data_merger.merge()\n",
    "\n",
    "    # 特徴量エンジニアリング\n",
    "    feature_enginnering_shutuba = preprocessing.FeatureEngineering(shutuba_data_merger) \\\n",
    "        .add_interval()\\\n",
    "        .add_agedays()\\\n",
    "        .dumminize_ground_state()\\\n",
    "        .dumminize_race_type()\\\n",
    "        .dumminize_sex()\\\n",
    "        .dumminize_weather()\\\n",
    "        .encode_horse_id()\\\n",
    "        .encode_jockey_id()\\\n",
    "        .encode_trainer_id()\\\n",
    "        .encode_owner_id()\\\n",
    "        .encode_breeder_id()\\\n",
    "        .dumminize_kaisai()\\\n",
    "        .dumminize_around()\\\n",
    "        .dumminize_race_class()\n",
    "\n",
    "    # 予測\n",
    "    X = feature_enginnering_shutuba.featured_data.drop(['date'], axis=1)\n",
    "\n",
    "    # 当日の出走情報テーブル（前処理前）\n",
    "    df_tmp = shutuba_table_processor.raw_data[:1]\n",
    "\n",
    "    i = 0\n",
    "    for num in list(Master.PLACE_DICT.values()):\n",
    "        if num == race_id[4:6]:\n",
    "            print(list(Master.PLACE_DICT)[i] + race_id[10:12] + 'R ' + race_time + '発走 ' + str(df_tmp.iat[0, 12])\n",
    "                + str(df_tmp.iat[0, 10]) + 'm ' + str(df_tmp.iat[0, 13]) + ' ' + str(df_tmp.iat[0, 15]))\n",
    "            break\n",
    "        i += 1\n",
    "\n",
    "    print(keiba_ai.calc_score(X, policies.StdScorePolicy).sort_values('score', ascending=False))"
   ]
  },
  {
   "cell_type": "markdown",
   "metadata": {},
   "source": [
    "## 6.3. レース直前データ処理（当日レース予想）"
   ]
  },
  {
   "cell_type": "code",
   "execution_count": 28,
   "metadata": {},
   "outputs": [],
   "source": [
    "%autoreload"
   ]
  },
  {
   "cell_type": "code",
   "execution_count": null,
   "metadata": {},
   "outputs": [],
   "source": [
    "# 馬体重の発表されたレースID、レース時刻を取得（レース当日用）\n",
    "target_race_id_list, target_race_time_list = preparing.create_active_race_id_list()\n",
    "print((target_race_id_list))\n",
    "print((target_race_time_list))"
   ]
  },
  {
   "cell_type": "code",
   "execution_count": null,
   "metadata": {},
   "outputs": [],
   "source": [
    "# 一時的に出馬表を保存するパスを指定\n",
    "filepath = 'data/tmp/shutuba.pickle'\n",
    "#today = '2022/10/01'\n",
    "today = datetime.datetime.now().date().strftime('%Y/%m/%d')\n",
    "\n",
    "for race_id, race_time in zip(target_race_id_list, target_race_time_list):\n",
    "    # 出馬表の取得\n",
    "    preparing.scrape_shutuba_table(race_id, today, filepath)\n",
    "\n",
    "    # 出馬表の加工\n",
    "    shutuba_table_processor = preprocessing.ShutubaTableProcessor(filepath)\n",
    "\n",
    "    # テーブルのマージ\n",
    "    shutuba_data_merger = preprocessing.ShutubaDataMerger(\n",
    "        shutuba_table_processor,\n",
    "        horse_results_processor,\n",
    "        horse_info_processor,\n",
    "        peds_processor,\n",
    "        target_cols=TARGET_COLS,\n",
    "        group_cols=GROUP_COLS\n",
    "    )\n",
    "    shutuba_data_merger.merge()\n",
    "\n",
    "    # 特徴量エンジニアリング\n",
    "    feature_enginnering_shutuba = preprocessing.FeatureEngineering(shutuba_data_merger) \\\n",
    "        .add_interval()\\\n",
    "        .add_agedays()\\\n",
    "        .dumminize_ground_state()\\\n",
    "        .dumminize_race_type()\\\n",
    "        .dumminize_sex()\\\n",
    "        .dumminize_weather()\\\n",
    "        .encode_horse_id()\\\n",
    "        .encode_jockey_id()\\\n",
    "        .encode_trainer_id()\\\n",
    "        .encode_owner_id()\\\n",
    "        .encode_breeder_id()\\\n",
    "        .dumminize_kaisai()\\\n",
    "        .dumminize_around()\\\n",
    "        .dumminize_race_class()\n",
    "\n",
    "    # 予測\n",
    "    X = feature_enginnering_shutuba.featured_data.drop(['date'], axis=1)\n",
    "\n",
    "    # 当日の出走情報テーブル（前処理前）\n",
    "    df_tmp = shutuba_table_processor.raw_data[:1]\n",
    "    #df_tmp['race_type'] tmp.iat[0, 12]\n",
    "    #df_tmp['around'] 13\n",
    "    #df_tmp['weather'] 14\n",
    "    #df_tmp['ground_state'] 15\n",
    "    #df_tmp['race_class']16\n",
    "\n",
    "    i = 0\n",
    "    for num in list(Master.PLACE_DICT.values()):\n",
    "        if num == race_id[4:6]:\n",
    "            print(list(Master.PLACE_DICT)[i] + race_id[10:12] + 'R ' + race_time + '発走 ' + str(df_tmp.iat[0, 12])\n",
    "                + str(df_tmp.iat[0, 10]) + 'm ' + str(df_tmp.iat[0, 13]) + ' ' + str(df_tmp.iat[0, 15]))\n",
    "            break\n",
    "        i += 1\n",
    "\n",
    "    print(keiba_ai.calc_score(X, policies.StdScorePolicy).sort_values('score', ascending=False))"
   ]
  },
  {
   "cell_type": "markdown",
   "metadata": {},
   "source": [
    "## 6.4. レース直前データ処理（旧方式）"
   ]
  },
  {
   "cell_type": "code",
   "execution_count": null,
   "metadata": {},
   "outputs": [],
   "source": [
    "filepath = 'data/tmp/shutuba.pickle' #一時的に出馬表を保存するパスを指定\n",
    "preparing.scrape_shutuba_table(race_id_list[0], '2022/1/8', filepath) #馬体重が発表されたら、出馬表を取得\n",
    "shutuba_table_processor = preprocessing.ShutubaTableProcessor(filepath) #出馬表の加工"
   ]
  },
  {
   "cell_type": "code",
   "execution_count": 30,
   "metadata": {},
   "outputs": [
    {
     "name": "stdout",
     "output_type": "stream",
     "text": [
      "separating horse results by date\n"
     ]
    },
    {
     "data": {
      "application/vnd.jupyter.widget-view+json": {
       "model_id": "1301cf845bcb4c5699ee48ffd7dc71fc",
       "version_major": 2,
       "version_minor": 0
      },
      "text/plain": [
       "  0%|          | 0/1 [00:00<?, ?it/s]"
      ]
     },
     "metadata": {},
     "output_type": "display_data"
    },
    {
     "name": "stdout",
     "output_type": "stream",
     "text": [
      "merging horse_results\n"
     ]
    },
    {
     "data": {
      "application/vnd.jupyter.widget-view+json": {
       "model_id": "efcc76c675424e62b240f474d7fd9a03",
       "version_major": 2,
       "version_minor": 0
      },
      "text/plain": [
       "  0%|          | 0/1 [00:00<?, ?it/s]"
      ]
     },
     "metadata": {},
     "output_type": "display_data"
    }
   ],
   "source": [
    "#テーブルのマージ\n",
    "shutuba_data_merger = preprocessing.ShutubaDataMerger(\n",
    "    shutuba_table_processor,\n",
    "    horse_results_processor,\n",
    "    horse_info_processor,\n",
    "    peds_processor,\n",
    "    target_cols=TARGET_COLS,\n",
    "    group_cols=GROUP_COLS\n",
    ")\n",
    "\n",
    "shutuba_data_merger.merge()"
   ]
  },
  {
   "cell_type": "code",
   "execution_count": 31,
   "metadata": {},
   "outputs": [],
   "source": [
    "#特徴量エンジニアリング\n",
    "feature_enginnering_shutuba = preprocessing.FeatureEngineering(shutuba_data_merger)\\\n",
    "    .add_interval()\\\n",
    "    .add_agedays()\\\n",
    "    .dumminize_ground_state()\\\n",
    "    .dumminize_race_type()\\\n",
    "    .dumminize_sex()\\\n",
    "    .dumminize_weather()\\\n",
    "    .encode_horse_id()\\\n",
    "    .encode_jockey_id()\\\n",
    "    .encode_trainer_id()\\\n",
    "    .encode_owner_id()\\\n",
    "    .encode_breeder_id()\\\n",
    "    .dumminize_kaisai()\\\n",
    "    .dumminize_around()\\\n",
    "    .dumminize_race_class()"
   ]
  },
  {
   "cell_type": "code",
   "execution_count": 32,
   "metadata": {},
   "outputs": [
    {
     "data": {
      "text/html": [
       "<div>\n",
       "<style scoped>\n",
       "    .dataframe tbody tr th:only-of-type {\n",
       "        vertical-align: middle;\n",
       "    }\n",
       "\n",
       "    .dataframe tbody tr th {\n",
       "        vertical-align: top;\n",
       "    }\n",
       "\n",
       "    .dataframe thead th {\n",
       "        text-align: right;\n",
       "    }\n",
       "</style>\n",
       "<table border=\"1\" class=\"dataframe\">\n",
       "  <thead>\n",
       "    <tr style=\"text-align: right;\">\n",
       "      <th></th>\n",
       "      <th>馬番</th>\n",
       "      <th>単勝</th>\n",
       "      <th>score</th>\n",
       "    </tr>\n",
       "  </thead>\n",
       "  <tbody>\n",
       "    <tr>\n",
       "      <th>202206010201</th>\n",
       "      <td>5</td>\n",
       "      <td>4.7</td>\n",
       "      <td>1.972623</td>\n",
       "    </tr>\n",
       "    <tr>\n",
       "      <th>202206010201</th>\n",
       "      <td>3</td>\n",
       "      <td>4.3</td>\n",
       "      <td>1.698477</td>\n",
       "    </tr>\n",
       "    <tr>\n",
       "      <th>202206010201</th>\n",
       "      <td>15</td>\n",
       "      <td>4.5</td>\n",
       "      <td>1.292167</td>\n",
       "    </tr>\n",
       "    <tr>\n",
       "      <th>202206010201</th>\n",
       "      <td>4</td>\n",
       "      <td>5.7</td>\n",
       "      <td>0.754306</td>\n",
       "    </tr>\n",
       "    <tr>\n",
       "      <th>202206010201</th>\n",
       "      <td>11</td>\n",
       "      <td>5.4</td>\n",
       "      <td>0.706008</td>\n",
       "    </tr>\n",
       "    <tr>\n",
       "      <th>202206010201</th>\n",
       "      <td>6</td>\n",
       "      <td>16.9</td>\n",
       "      <td>0.401887</td>\n",
       "    </tr>\n",
       "    <tr>\n",
       "      <th>202206010201</th>\n",
       "      <td>16</td>\n",
       "      <td>14.2</td>\n",
       "      <td>-0.070303</td>\n",
       "    </tr>\n",
       "    <tr>\n",
       "      <th>202206010201</th>\n",
       "      <td>1</td>\n",
       "      <td>26.7</td>\n",
       "      <td>-0.260754</td>\n",
       "    </tr>\n",
       "    <tr>\n",
       "      <th>202206010201</th>\n",
       "      <td>13</td>\n",
       "      <td>29.8</td>\n",
       "      <td>-0.300251</td>\n",
       "    </tr>\n",
       "    <tr>\n",
       "      <th>202206010201</th>\n",
       "      <td>9</td>\n",
       "      <td>101.3</td>\n",
       "      <td>-0.481400</td>\n",
       "    </tr>\n",
       "    <tr>\n",
       "      <th>202206010201</th>\n",
       "      <td>12</td>\n",
       "      <td>489.8</td>\n",
       "      <td>-0.547653</td>\n",
       "    </tr>\n",
       "    <tr>\n",
       "      <th>202206010201</th>\n",
       "      <td>2</td>\n",
       "      <td>371.3</td>\n",
       "      <td>-0.573977</td>\n",
       "    </tr>\n",
       "    <tr>\n",
       "      <th>202206010201</th>\n",
       "      <td>8</td>\n",
       "      <td>215.4</td>\n",
       "      <td>-1.019021</td>\n",
       "    </tr>\n",
       "    <tr>\n",
       "      <th>202206010201</th>\n",
       "      <td>7</td>\n",
       "      <td>177.8</td>\n",
       "      <td>-1.113196</td>\n",
       "    </tr>\n",
       "    <tr>\n",
       "      <th>202206010201</th>\n",
       "      <td>10</td>\n",
       "      <td>333.9</td>\n",
       "      <td>-1.216077</td>\n",
       "    </tr>\n",
       "    <tr>\n",
       "      <th>202206010201</th>\n",
       "      <td>14</td>\n",
       "      <td>105.7</td>\n",
       "      <td>-1.242838</td>\n",
       "    </tr>\n",
       "  </tbody>\n",
       "</table>\n",
       "</div>"
      ],
      "text/plain": [
       "              馬番     単勝     score\n",
       "202206010201   5    4.7  1.972623\n",
       "202206010201   3    4.3  1.698477\n",
       "202206010201  15    4.5  1.292167\n",
       "202206010201   4    5.7  0.754306\n",
       "202206010201  11    5.4  0.706008\n",
       "202206010201   6   16.9  0.401887\n",
       "202206010201  16   14.2 -0.070303\n",
       "202206010201   1   26.7 -0.260754\n",
       "202206010201  13   29.8 -0.300251\n",
       "202206010201   9  101.3 -0.481400\n",
       "202206010201  12  489.8 -0.547653\n",
       "202206010201   2  371.3 -0.573977\n",
       "202206010201   8  215.4 -1.019021\n",
       "202206010201   7  177.8 -1.113196\n",
       "202206010201  10  333.9 -1.216077\n",
       "202206010201  14  105.7 -1.242838"
      ]
     },
     "execution_count": 32,
     "metadata": {},
     "output_type": "execute_result"
    }
   ],
   "source": [
    "#予測\n",
    "X = feature_enginnering_shutuba.featured_data.drop(['date'], axis=1)\n",
    "keiba_ai.calc_score(X, policies.StdScorePolicy).sort_values('score', ascending=False)"
   ]
  }
 ],
 "metadata": {
  "kernelspec": {
   "display_name": "Python 3.8.8 ('base')",
   "language": "python",
   "name": "python3"
  },
  "language_info": {
   "codemirror_mode": {
    "name": "ipython",
    "version": 3
   },
   "file_extension": ".py",
   "mimetype": "text/x-python",
   "name": "python",
   "nbconvert_exporter": "python",
   "pygments_lexer": "ipython3",
   "version": "3.10.12"
  },
  "orig_nbformat": 4,
  "vscode": {
   "interpreter": {
    "hash": "86b876b27ca5c2d1364eeb23e2b9702e4618994875f621a0c288ea87a3030d46"
   }
  }
 },
 "nbformat": 4,
 "nbformat_minor": 2
}
